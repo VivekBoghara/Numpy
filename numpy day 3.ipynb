{
 "cells": [
  {
   "cell_type": "code",
   "execution_count": 1,
   "id": "fe8a0c9e",
   "metadata": {},
   "outputs": [],
   "source": [
    "import numpy as np"
   ]
  },
  {
   "cell_type": "code",
   "execution_count": 3,
   "id": "ea798d15",
   "metadata": {},
   "outputs": [],
   "source": [
    "arr1 = np.array([[1,2,3,4,5],[6,7,8,9,10]])\n",
    "arr2 = np.array([[10,9,8,7,6],[5,4,3,2,1]])"
   ]
  },
  {
   "cell_type": "code",
   "execution_count": 4,
   "id": "a81d7b9b",
   "metadata": {},
   "outputs": [
    {
     "data": {
      "text/plain": [
       "array([[ 1,  2,  3,  4,  5],\n",
       "       [ 6,  7,  8,  9, 10]])"
      ]
     },
     "execution_count": 4,
     "metadata": {},
     "output_type": "execute_result"
    }
   ],
   "source": [
    "arr1"
   ]
  },
  {
   "cell_type": "code",
   "execution_count": 5,
   "id": "65c5e980",
   "metadata": {},
   "outputs": [
    {
     "data": {
      "text/plain": [
       "array([[10,  9,  8,  7,  6],\n",
       "       [ 5,  4,  3,  2,  1]])"
      ]
     },
     "execution_count": 5,
     "metadata": {},
     "output_type": "execute_result"
    }
   ],
   "source": [
    "arr2"
   ]
  },
  {
   "cell_type": "markdown",
   "id": "fb252d6c",
   "metadata": {},
   "source": [
    "# Mathematical Functions & Stats"
   ]
  },
  {
   "cell_type": "code",
   "execution_count": null,
   "id": "5fd33b27",
   "metadata": {},
   "outputs": [],
   "source": [
    "Addition -> Add two matrices or add an element to a matrix"
   ]
  },
  {
   "cell_type": "code",
   "execution_count": 7,
   "id": "764b9b31",
   "metadata": {},
   "outputs": [
    {
     "data": {
      "text/plain": [
       "array([[11, 11, 11, 11, 11],\n",
       "       [11, 11, 11, 11, 11]])"
      ]
     },
     "execution_count": 7,
     "metadata": {},
     "output_type": "execute_result"
    }
   ],
   "source": [
    "arr1+arr2"
   ]
  },
  {
   "cell_type": "code",
   "execution_count": 6,
   "id": "e3784ec9",
   "metadata": {},
   "outputs": [
    {
     "data": {
      "text/plain": [
       "array([[21, 22, 23, 24, 25],\n",
       "       [26, 27, 28, 29, 30]])"
      ]
     },
     "execution_count": 6,
     "metadata": {},
     "output_type": "execute_result"
    }
   ],
   "source": [
    "#Adding an element\n",
    "arr1+20"
   ]
  },
  {
   "cell_type": "code",
   "execution_count": 4,
   "id": "08d0755a",
   "metadata": {},
   "outputs": [],
   "source": [
    "arr3=np.array([1,2])"
   ]
  },
  {
   "cell_type": "code",
   "execution_count": 10,
   "id": "6a086aff",
   "metadata": {},
   "outputs": [
    {
     "data": {
      "text/plain": [
       "array([1, 2])"
      ]
     },
     "execution_count": 10,
     "metadata": {},
     "output_type": "execute_result"
    }
   ],
   "source": [
    "arr3"
   ]
  },
  {
   "cell_type": "code",
   "execution_count": 7,
   "id": "30b0c1ae",
   "metadata": {},
   "outputs": [
    {
     "data": {
      "text/plain": [
       "array([ 9, 10])"
      ]
     },
     "execution_count": 7,
     "metadata": {},
     "output_type": "execute_result"
    }
   ],
   "source": [
    "arr3+8"
   ]
  },
  {
   "cell_type": "code",
   "execution_count": 11,
   "id": "536e5759",
   "metadata": {
    "scrolled": true
   },
   "outputs": [
    {
     "data": {
      "text/plain": [
       "1"
      ]
     },
     "execution_count": 11,
     "metadata": {},
     "output_type": "execute_result"
    }
   ],
   "source": [
    "arr3.ndim"
   ]
  },
  {
   "cell_type": "code",
   "execution_count": 5,
   "id": "a5ba56a6",
   "metadata": {},
   "outputs": [
    {
     "ename": "ValueError",
     "evalue": "operands could not be broadcast together with shapes (2,5) (2,) ",
     "output_type": "error",
     "traceback": [
      "\u001b[1;31m---------------------------------------------------------------------------\u001b[0m",
      "\u001b[1;31mValueError\u001b[0m                                Traceback (most recent call last)",
      "\u001b[1;32m<ipython-input-5-76273358d4ce>\u001b[0m in \u001b[0;36m<module>\u001b[1;34m\u001b[0m\n\u001b[1;32m----> 1\u001b[1;33m \u001b[0marr1\u001b[0m\u001b[1;33m+\u001b[0m\u001b[0marr3\u001b[0m\u001b[1;33m\u001b[0m\u001b[1;33m\u001b[0m\u001b[0m\n\u001b[0m",
      "\u001b[1;31mValueError\u001b[0m: operands could not be broadcast together with shapes (2,5) (2,) "
     ]
    }
   ],
   "source": [
    "arr1+arr3"
   ]
  },
  {
   "cell_type": "code",
   "execution_count": 13,
   "id": "7ca35b65",
   "metadata": {},
   "outputs": [],
   "source": [
    "arr4=np.array([1,2,3,4,5])"
   ]
  },
  {
   "cell_type": "code",
   "execution_count": 14,
   "id": "a1280368",
   "metadata": {},
   "outputs": [
    {
     "data": {
      "text/plain": [
       "(5,)"
      ]
     },
     "execution_count": 14,
     "metadata": {},
     "output_type": "execute_result"
    }
   ],
   "source": [
    "arr4.shape"
   ]
  },
  {
   "cell_type": "code",
   "execution_count": 8,
   "id": "1db772c6",
   "metadata": {},
   "outputs": [
    {
     "data": {
      "text/plain": [
       "array([[ 1,  2,  3,  4,  5],\n",
       "       [ 6,  7,  8,  9, 10]])"
      ]
     },
     "execution_count": 8,
     "metadata": {},
     "output_type": "execute_result"
    }
   ],
   "source": [
    "arr1"
   ]
  },
  {
   "cell_type": "code",
   "execution_count": 16,
   "id": "e61f9899",
   "metadata": {
    "scrolled": false
   },
   "outputs": [
    {
     "data": {
      "text/plain": [
       "array([[ 2,  4,  6,  8, 10],\n",
       "       [ 7,  9, 11, 13, 15]])"
      ]
     },
     "execution_count": 16,
     "metadata": {},
     "output_type": "execute_result"
    }
   ],
   "source": [
    "arr1+arr4   #<- here, arr4 will be add in both rows of arr1. It means all the values will be added.\n",
    "# So, it shows that if you want to add element, both have either same no. of columns or both have same no. of rows "
   ]
  },
  {
   "cell_type": "code",
   "execution_count": 17,
   "id": "33dbfd63",
   "metadata": {},
   "outputs": [],
   "source": [
    "arr5=np.array([[1],[2]])"
   ]
  },
  {
   "cell_type": "code",
   "execution_count": 10,
   "id": "a5e80c47",
   "metadata": {},
   "outputs": [
    {
     "data": {
      "text/plain": [
       "array([[1],\n",
       "       [2]])"
      ]
     },
     "execution_count": 10,
     "metadata": {},
     "output_type": "execute_result"
    }
   ],
   "source": [
    "arr5"
   ]
  },
  {
   "cell_type": "code",
   "execution_count": 19,
   "id": "3c41702c",
   "metadata": {},
   "outputs": [
    {
     "data": {
      "text/plain": [
       "array([[ 2,  3,  4,  5,  6],\n",
       "       [ 8,  9, 10, 11, 12]])"
      ]
     },
     "execution_count": 19,
     "metadata": {},
     "output_type": "execute_result"
    }
   ],
   "source": [
    "arr1+arr5     #The both array has same number of rows, so it will be added. Here, row of arr5 is added in every element of arr1 "
   ]
  },
  {
   "cell_type": "code",
   "execution_count": null,
   "id": "990e9b12",
   "metadata": {},
   "outputs": [],
   "source": []
  },
  {
   "cell_type": "markdown",
   "id": "56e90c6a",
   "metadata": {},
   "source": [
    "Subtraction -> it will subtract every element of array"
   ]
  },
  {
   "cell_type": "code",
   "execution_count": 21,
   "id": "56ee2fac",
   "metadata": {},
   "outputs": [
    {
     "data": {
      "text/plain": [
       "array([[ 1,  2,  3,  4,  5],\n",
       "       [ 6,  7,  8,  9, 10]])"
      ]
     },
     "execution_count": 21,
     "metadata": {},
     "output_type": "execute_result"
    }
   ],
   "source": [
    "arr1"
   ]
  },
  {
   "cell_type": "code",
   "execution_count": 22,
   "id": "12cd91f3",
   "metadata": {
    "scrolled": true
   },
   "outputs": [
    {
     "data": {
      "text/plain": [
       "array([[10,  9,  8,  7,  6],\n",
       "       [ 5,  4,  3,  2,  1]])"
      ]
     },
     "execution_count": 22,
     "metadata": {},
     "output_type": "execute_result"
    }
   ],
   "source": [
    "arr2"
   ]
  },
  {
   "cell_type": "code",
   "execution_count": 23,
   "id": "95b463d2",
   "metadata": {},
   "outputs": [
    {
     "data": {
      "text/plain": [
       "array([[-9, -7, -5, -3, -1],\n",
       "       [ 1,  3,  5,  7,  9]])"
      ]
     },
     "execution_count": 23,
     "metadata": {},
     "output_type": "execute_result"
    }
   ],
   "source": [
    "arr1-arr2"
   ]
  },
  {
   "cell_type": "code",
   "execution_count": 24,
   "id": "232eebb0",
   "metadata": {},
   "outputs": [
    {
     "data": {
      "text/plain": [
       "array([[-99, -98, -97, -96, -95],\n",
       "       [-94, -93, -92, -91, -90]])"
      ]
     },
     "execution_count": 24,
     "metadata": {},
     "output_type": "execute_result"
    }
   ],
   "source": [
    "arr1-100"
   ]
  },
  {
   "cell_type": "code",
   "execution_count": null,
   "id": "d478253b",
   "metadata": {},
   "outputs": [],
   "source": []
  },
  {
   "cell_type": "markdown",
   "id": "d0f246ab",
   "metadata": {},
   "source": [
    "# Division"
   ]
  },
  {
   "cell_type": "code",
   "execution_count": 26,
   "id": "dbda9d41",
   "metadata": {},
   "outputs": [
    {
     "data": {
      "text/plain": [
       "array([[ 1,  2,  3,  4,  5],\n",
       "       [ 6,  7,  8,  9, 10]])"
      ]
     },
     "execution_count": 26,
     "metadata": {},
     "output_type": "execute_result"
    }
   ],
   "source": [
    "arr1"
   ]
  },
  {
   "cell_type": "code",
   "execution_count": 27,
   "id": "ee911139",
   "metadata": {},
   "outputs": [
    {
     "data": {
      "text/plain": [
       "array([[10,  9,  8,  7,  6],\n",
       "       [ 5,  4,  3,  2,  1]])"
      ]
     },
     "execution_count": 27,
     "metadata": {},
     "output_type": "execute_result"
    }
   ],
   "source": [
    "arr2"
   ]
  },
  {
   "cell_type": "code",
   "execution_count": 29,
   "id": "1060e1b6",
   "metadata": {},
   "outputs": [
    {
     "data": {
      "text/plain": [
       "array([[ 0.1       ,  0.22222222,  0.375     ,  0.57142857,  0.83333333],\n",
       "       [ 1.2       ,  1.75      ,  2.66666667,  4.5       , 10.        ]])"
      ]
     },
     "execution_count": 29,
     "metadata": {},
     "output_type": "execute_result"
    }
   ],
   "source": [
    "arr1/arr2"
   ]
  },
  {
   "cell_type": "code",
   "execution_count": 30,
   "id": "72d76d99",
   "metadata": {},
   "outputs": [
    {
     "data": {
      "text/plain": [
       "array([[1., 1., 1., 1., 1.],\n",
       "       [1., 1., 1., 1., 1.]])"
      ]
     },
     "execution_count": 30,
     "metadata": {},
     "output_type": "execute_result"
    }
   ],
   "source": [
    "arr1/arr1"
   ]
  },
  {
   "cell_type": "code",
   "execution_count": 12,
   "id": "c91a588e",
   "metadata": {},
   "outputs": [
    {
     "data": {
      "text/plain": [
       "array([[ 0,  0,  0,  0,  0],\n",
       "       [ 1,  1,  2,  4, 10]], dtype=int32)"
      ]
     },
     "execution_count": 12,
     "metadata": {},
     "output_type": "execute_result"
    }
   ],
   "source": [
    "arr1//arr2     #It will print the quotient after deviding "
   ]
  },
  {
   "cell_type": "code",
   "execution_count": 14,
   "id": "ab1411e7",
   "metadata": {},
   "outputs": [
    {
     "data": {
      "text/plain": [
       "array([[1, 2, 3, 4, 5],\n",
       "       [1, 3, 2, 1, 0]], dtype=int32)"
      ]
     },
     "execution_count": 14,
     "metadata": {},
     "output_type": "execute_result"
    }
   ],
   "source": [
    "arr1%arr2    # It will print the remainder after a1 devided by a2"
   ]
  },
  {
   "cell_type": "code",
   "execution_count": 31,
   "id": "2ef4be7e",
   "metadata": {},
   "outputs": [
    {
     "data": {
      "text/plain": [
       "array([[0.25, 0.5 , 0.75, 1.  , 1.25],\n",
       "       [1.5 , 1.75, 2.  , 2.25, 2.5 ]])"
      ]
     },
     "execution_count": 31,
     "metadata": {},
     "output_type": "execute_result"
    }
   ],
   "source": [
    "arr1/4    #<- All the elements will be devided by 4"
   ]
  },
  {
   "cell_type": "code",
   "execution_count": null,
   "id": "1f76ea8b",
   "metadata": {},
   "outputs": [],
   "source": []
  },
  {
   "cell_type": "markdown",
   "id": "243dcce9",
   "metadata": {},
   "source": [
    "# Multiplication"
   ]
  },
  {
   "cell_type": "code",
   "execution_count": 33,
   "id": "2c96eb6f",
   "metadata": {},
   "outputs": [
    {
     "data": {
      "text/plain": [
       "array([[ 1,  2,  3,  4,  5],\n",
       "       [ 6,  7,  8,  9, 10]])"
      ]
     },
     "execution_count": 33,
     "metadata": {},
     "output_type": "execute_result"
    }
   ],
   "source": [
    "arr1"
   ]
  },
  {
   "cell_type": "code",
   "execution_count": 34,
   "id": "7614a978",
   "metadata": {},
   "outputs": [
    {
     "data": {
      "text/plain": [
       "array([[10,  9,  8,  7,  6],\n",
       "       [ 5,  4,  3,  2,  1]])"
      ]
     },
     "execution_count": 34,
     "metadata": {},
     "output_type": "execute_result"
    }
   ],
   "source": [
    "arr2"
   ]
  },
  {
   "cell_type": "code",
   "execution_count": 37,
   "id": "02788df1",
   "metadata": {},
   "outputs": [
    {
     "data": {
      "text/plain": [
       "array([[10, 18, 24, 28, 30],\n",
       "       [30, 28, 24, 18, 10]])"
      ]
     },
     "execution_count": 37,
     "metadata": {},
     "output_type": "execute_result"
    }
   ],
   "source": [
    "arr1*arr2"
   ]
  },
  {
   "cell_type": "code",
   "execution_count": 36,
   "id": "5eb18024",
   "metadata": {},
   "outputs": [
    {
     "data": {
      "text/plain": [
       "array([[    1,   512,  6561, 16384, 15625],\n",
       "       [ 7776,  2401,   512,    81,    10]], dtype=int32)"
      ]
     },
     "execution_count": 36,
     "metadata": {},
     "output_type": "execute_result"
    }
   ],
   "source": [
    "arr1**arr2    # It will be arr1 raise to arr2"
   ]
  },
  {
   "cell_type": "code",
   "execution_count": 40,
   "id": "25cbcc3d",
   "metadata": {},
   "outputs": [
    {
     "data": {
      "text/plain": [
       "array([[  1,   4,   9,  16,  25],\n",
       "       [ 36,  49,  64,  81, 100]], dtype=int32)"
      ]
     },
     "execution_count": 40,
     "metadata": {},
     "output_type": "execute_result"
    }
   ],
   "source": [
    "arr1 ** 2"
   ]
  },
  {
   "cell_type": "code",
   "execution_count": null,
   "id": "af17ed83",
   "metadata": {},
   "outputs": [],
   "source": []
  },
  {
   "cell_type": "markdown",
   "id": "400200fc",
   "metadata": {},
   "source": [
    "# Mulitiplication - cross & dot"
   ]
  },
  {
   "cell_type": "code",
   "execution_count": 42,
   "id": "46f8a543",
   "metadata": {},
   "outputs": [
    {
     "data": {
      "text/plain": [
       "array([[ 1,  2,  3,  4,  5],\n",
       "       [ 6,  7,  8,  9, 10]])"
      ]
     },
     "execution_count": 42,
     "metadata": {},
     "output_type": "execute_result"
    }
   ],
   "source": [
    "arr1"
   ]
  },
  {
   "cell_type": "code",
   "execution_count": 43,
   "id": "656a6a83",
   "metadata": {},
   "outputs": [
    {
     "data": {
      "text/plain": [
       "array([[10,  9,  8,  7,  6],\n",
       "       [ 5,  4,  3,  2,  1]])"
      ]
     },
     "execution_count": 43,
     "metadata": {},
     "output_type": "execute_result"
    }
   ],
   "source": [
    "arr2"
   ]
  },
  {
   "cell_type": "code",
   "execution_count": 44,
   "id": "1dd5f93a",
   "metadata": {
    "scrolled": true
   },
   "outputs": [
    {
     "data": {
      "text/plain": [
       "array([[10, 18, 24, 28, 30],\n",
       "       [30, 28, 24, 18, 10]])"
      ]
     },
     "execution_count": 44,
     "metadata": {},
     "output_type": "execute_result"
    }
   ],
   "source": [
    "# cross Product\n",
    "arr1*arr2    #<- this will multiply of every element of arr1 with arr2"
   ]
  },
  {
   "cell_type": "code",
   "execution_count": null,
   "id": "66760301",
   "metadata": {},
   "outputs": [],
   "source": [
    "# here, arr1 = 2x5 and arr2 = 2x5 , so here dot product can not be happened because for dot product axb and bxc should be happened, and the resultant matrix will be axc  "
   ]
  },
  {
   "cell_type": "code",
   "execution_count": 42,
   "id": "a62d6cbe",
   "metadata": {},
   "outputs": [
    {
     "ename": "ValueError",
     "evalue": "shapes (2,5) and (2,5) not aligned: 5 (dim 1) != 2 (dim 0)",
     "output_type": "error",
     "traceback": [
      "\u001b[1;31m---------------------------------------------------------------------------\u001b[0m",
      "\u001b[1;31mValueError\u001b[0m                                Traceback (most recent call last)",
      "\u001b[1;32m<ipython-input-42-10bb1f92d69a>\u001b[0m in \u001b[0;36m<module>\u001b[1;34m\u001b[0m\n\u001b[1;32m----> 1\u001b[1;33m \u001b[0marr1\u001b[0m\u001b[1;33m.\u001b[0m\u001b[0mdot\u001b[0m\u001b[1;33m(\u001b[0m\u001b[0marr2\u001b[0m\u001b[1;33m)\u001b[0m\u001b[1;33m\u001b[0m\u001b[1;33m\u001b[0m\u001b[0m\n\u001b[0m",
      "\u001b[1;31mValueError\u001b[0m: shapes (2,5) and (2,5) not aligned: 5 (dim 1) != 2 (dim 0)"
     ]
    }
   ],
   "source": [
    "arr1.dot(arr2)"
   ]
  },
  {
   "cell_type": "code",
   "execution_count": 43,
   "id": "708f9134",
   "metadata": {},
   "outputs": [],
   "source": [
    "arr3=np.array([[1,2],[3,4],[5,6],[7,8],[9,10]])"
   ]
  },
  {
   "cell_type": "code",
   "execution_count": 44,
   "id": "b7d3eb14",
   "metadata": {},
   "outputs": [
    {
     "data": {
      "text/plain": [
       "2"
      ]
     },
     "execution_count": 44,
     "metadata": {},
     "output_type": "execute_result"
    }
   ],
   "source": [
    "arr3.ndim"
   ]
  },
  {
   "cell_type": "code",
   "execution_count": 45,
   "id": "ff996349",
   "metadata": {},
   "outputs": [
    {
     "data": {
      "text/plain": [
       "(5, 2)"
      ]
     },
     "execution_count": 45,
     "metadata": {},
     "output_type": "execute_result"
    }
   ],
   "source": [
    "arr3.shape"
   ]
  },
  {
   "cell_type": "code",
   "execution_count": 48,
   "id": "e44e5893",
   "metadata": {},
   "outputs": [
    {
     "data": {
      "text/plain": [
       "array([[ 1,  2,  3,  4,  5],\n",
       "       [ 6,  7,  8,  9, 10]])"
      ]
     },
     "execution_count": 48,
     "metadata": {},
     "output_type": "execute_result"
    }
   ],
   "source": [
    "arr1"
   ]
  },
  {
   "cell_type": "code",
   "execution_count": 47,
   "id": "67d3b085",
   "metadata": {
    "scrolled": true
   },
   "outputs": [
    {
     "data": {
      "text/plain": [
       "array([[ 1,  2],\n",
       "       [ 3,  4],\n",
       "       [ 5,  6],\n",
       "       [ 7,  8],\n",
       "       [ 9, 10]])"
      ]
     },
     "execution_count": 47,
     "metadata": {},
     "output_type": "execute_result"
    }
   ],
   "source": [
    "arr3"
   ]
  },
  {
   "cell_type": "code",
   "execution_count": 46,
   "id": "cff50648",
   "metadata": {},
   "outputs": [
    {
     "data": {
      "text/plain": [
       "array([[ 95, 110],\n",
       "       [220, 260]])"
      ]
     },
     "execution_count": 46,
     "metadata": {},
     "output_type": "execute_result"
    }
   ],
   "source": [
    "# arr1 & arr3 dot product can be possible because 2x5 and 5x2 gives result matrix 2x2\n",
    "np.dot(arr1,arr3)\n",
    "#or also you can write\n",
    "arr1.dot(arr3)"
   ]
  },
  {
   "cell_type": "code",
   "execution_count": 50,
   "id": "8e3740f0",
   "metadata": {},
   "outputs": [
    {
     "data": {
      "text/plain": [
       "array([[ 95, 110],\n",
       "       [220, 260]])"
      ]
     },
     "execution_count": 50,
     "metadata": {},
     "output_type": "execute_result"
    }
   ],
   "source": [
    "np.dot(arr1,arr3)"
   ]
  },
  {
   "cell_type": "code",
   "execution_count": 53,
   "id": "659f2da7",
   "metadata": {},
   "outputs": [
    {
     "data": {
      "text/plain": [
       "array([[ 95, 110],\n",
       "       [220, 260]])"
      ]
     },
     "execution_count": 53,
     "metadata": {},
     "output_type": "execute_result"
    }
   ],
   "source": [
    "np.matmul(arr1,arr3)   #<- it will also used to do dot product of 2 matrix"
   ]
  },
  {
   "cell_type": "code",
   "execution_count": null,
   "id": "696aa0c3",
   "metadata": {},
   "outputs": [],
   "source": []
  },
  {
   "cell_type": "markdown",
   "id": "903ec949",
   "metadata": {},
   "source": [
    "# Diterminent"
   ]
  },
  {
   "cell_type": "code",
   "execution_count": null,
   "id": "d67b6552",
   "metadata": {},
   "outputs": [],
   "source": [
    "# square matrix -> No. of rows = No. of columns\n",
    "# square matrix -> No. of rows & No. of columns = same"
   ]
  },
  {
   "cell_type": "code",
   "execution_count": 50,
   "id": "7f0e231d",
   "metadata": {},
   "outputs": [],
   "source": [
    "import numpy as np\n",
    "arr = np.array([[-4,-10],[0,5]])"
   ]
  },
  {
   "cell_type": "code",
   "execution_count": 61,
   "id": "76dc2750",
   "metadata": {},
   "outputs": [
    {
     "data": {
      "text/plain": [
       "array([[ -4, -10],\n",
       "       [  0,   5]])"
      ]
     },
     "execution_count": 61,
     "metadata": {},
     "output_type": "execute_result"
    }
   ],
   "source": [
    "arr"
   ]
  },
  {
   "cell_type": "code",
   "execution_count": 63,
   "id": "c80a3546",
   "metadata": {},
   "outputs": [],
   "source": [
    "|arr|= |(-4*5) - (-10,0)| = |-20 - 0| = 20"
   ]
  },
  {
   "cell_type": "code",
   "execution_count": null,
   "id": "2a7e0673",
   "metadata": {},
   "outputs": [],
   "source": [
    "[   a    (-1)b      c]\n",
    "[(-1)d       e  (-1)f]\n",
    "[   g    (-1)h      i]"
   ]
  },
  {
   "cell_type": "code",
   "execution_count": 51,
   "id": "c616e904",
   "metadata": {},
   "outputs": [],
   "source": [
    "#np.linalg.det(arr)  linalg <- linear algebra\n",
    "a=np.linalg.det(arr)"
   ]
  },
  {
   "cell_type": "code",
   "execution_count": 52,
   "id": "7f80e198",
   "metadata": {},
   "outputs": [],
   "source": [
    "arr=abs(a)"
   ]
  },
  {
   "cell_type": "code",
   "execution_count": 53,
   "id": "21d3f37b",
   "metadata": {},
   "outputs": [
    {
     "data": {
      "text/plain": [
       "19.999999999999996"
      ]
     },
     "execution_count": 53,
     "metadata": {},
     "output_type": "execute_result"
    }
   ],
   "source": [
    "arr"
   ]
  },
  {
   "cell_type": "code",
   "execution_count": null,
   "id": "aafcff0d",
   "metadata": {},
   "outputs": [],
   "source": []
  },
  {
   "cell_type": "code",
   "execution_count": 54,
   "id": "fd9bd26d",
   "metadata": {},
   "outputs": [],
   "source": [
    "detarray = np.array([[-10,-4,-6],[2,4,6],[-9,6,5]])"
   ]
  },
  {
   "cell_type": "code",
   "execution_count": 55,
   "id": "5d3f6328",
   "metadata": {},
   "outputs": [
    {
     "data": {
      "text/plain": [
       "array([[-10,  -4,  -6],\n",
       "       [  2,   4,   6],\n",
       "       [ -9,   6,   5]])"
      ]
     },
     "execution_count": 55,
     "metadata": {},
     "output_type": "execute_result"
    }
   ],
   "source": [
    "detarray"
   ]
  },
  {
   "cell_type": "code",
   "execution_count": null,
   "id": "52729957",
   "metadata": {},
   "outputs": [],
   "source": [
    " |detaray|=|-10(4*5-6*6)-(-4)(2*5-6*(-9)+ (-6)(2*6-4*-9)|"
   ]
  },
  {
   "cell_type": "code",
   "execution_count": 57,
   "id": "6ec53a43",
   "metadata": {},
   "outputs": [
    {
     "data": {
      "text/plain": [
       "127.99999999999986"
      ]
     },
     "execution_count": 57,
     "metadata": {},
     "output_type": "execute_result"
    }
   ],
   "source": [
    "np.linalg.det(detarray)"
   ]
  },
  {
   "cell_type": "code",
   "execution_count": 58,
   "id": "8ba13fea",
   "metadata": {},
   "outputs": [],
   "source": [
    "arr8=np.array([[1,1,1],[1,1,1],[1,1,1]])"
   ]
  },
  {
   "cell_type": "code",
   "execution_count": 59,
   "id": "a97f085f",
   "metadata": {},
   "outputs": [
    {
     "data": {
      "text/plain": [
       "0.0"
      ]
     },
     "execution_count": 59,
     "metadata": {},
     "output_type": "execute_result"
    }
   ],
   "source": [
    "np.linalg.det(arr8)"
   ]
  },
  {
   "cell_type": "code",
   "execution_count": null,
   "id": "245243f1",
   "metadata": {},
   "outputs": [],
   "source": []
  },
  {
   "cell_type": "markdown",
   "id": "42fe8c72",
   "metadata": {},
   "source": [
    "# Inverse of a matrix"
   ]
  },
  {
   "cell_type": "code",
   "execution_count": 60,
   "id": "f9aa8314",
   "metadata": {},
   "outputs": [],
   "source": [
    "arr=np.array([[1,2],[3,4]])"
   ]
  },
  {
   "cell_type": "code",
   "execution_count": 61,
   "id": "a5dce0f7",
   "metadata": {},
   "outputs": [
    {
     "data": {
      "text/plain": [
       "array([[1, 2],\n",
       "       [3, 4]])"
      ]
     },
     "execution_count": 61,
     "metadata": {},
     "output_type": "execute_result"
    }
   ],
   "source": [
    "arr"
   ]
  },
  {
   "cell_type": "code",
   "execution_count": null,
   "id": "3cdf16aa",
   "metadata": {},
   "outputs": [],
   "source": [
    "Inverse= (1/det(mat)) * transpose(adj.matrix)"
   ]
  },
  {
   "cell_type": "code",
   "execution_count": 62,
   "id": "b2018924",
   "metadata": {},
   "outputs": [
    {
     "data": {
      "text/plain": [
       "array([[-2. ,  1. ],\n",
       "       [ 1.5, -0.5]])"
      ]
     },
     "execution_count": 62,
     "metadata": {},
     "output_type": "execute_result"
    }
   ],
   "source": [
    "np.linalg.inv(arr)"
   ]
  },
  {
   "cell_type": "code",
   "execution_count": 63,
   "id": "979cf9c4",
   "metadata": {},
   "outputs": [
    {
     "data": {
      "text/plain": [
       "array([[1, 3],\n",
       "       [2, 4]])"
      ]
     },
     "execution_count": 63,
     "metadata": {},
     "output_type": "execute_result"
    }
   ],
   "source": [
    "arr.transpose()"
   ]
  },
  {
   "cell_type": "code",
   "execution_count": 64,
   "id": "5c6cd687",
   "metadata": {},
   "outputs": [
    {
     "data": {
      "text/plain": [
       "array([[1, 3],\n",
       "       [2, 4]])"
      ]
     },
     "execution_count": 64,
     "metadata": {},
     "output_type": "execute_result"
    }
   ],
   "source": [
    "np.transpose(arr)"
   ]
  },
  {
   "cell_type": "code",
   "execution_count": 65,
   "id": "7d9b686e",
   "metadata": {},
   "outputs": [
    {
     "data": {
      "text/plain": [
       "5"
      ]
     },
     "execution_count": 65,
     "metadata": {},
     "output_type": "execute_result"
    }
   ],
   "source": [
    "abs(-5)"
   ]
  },
  {
   "cell_type": "code",
   "execution_count": 68,
   "id": "6646a5e0",
   "metadata": {},
   "outputs": [],
   "source": [
    "deter= np.linalg.det(arr)"
   ]
  },
  {
   "cell_type": "code",
   "execution_count": 69,
   "id": "2ab2bfb8",
   "metadata": {},
   "outputs": [
    {
     "data": {
      "text/plain": [
       "-2.0000000000000004"
      ]
     },
     "execution_count": 69,
     "metadata": {},
     "output_type": "execute_result"
    }
   ],
   "source": [
    "deter"
   ]
  },
  {
   "cell_type": "code",
   "execution_count": 70,
   "id": "64a151d7",
   "metadata": {},
   "outputs": [],
   "source": [
    "det = abs(deter)"
   ]
  },
  {
   "cell_type": "code",
   "execution_count": 86,
   "id": "b815f96e",
   "metadata": {},
   "outputs": [
    {
     "data": {
      "text/plain": [
       "2.0000000000000004"
      ]
     },
     "execution_count": 86,
     "metadata": {},
     "output_type": "execute_result"
    }
   ],
   "source": [
    "det"
   ]
  },
  {
   "cell_type": "code",
   "execution_count": 79,
   "id": "237691ff",
   "metadata": {},
   "outputs": [
    {
     "data": {
      "text/plain": [
       "array([[1, 2],\n",
       "       [3, 4]])"
      ]
     },
     "execution_count": 79,
     "metadata": {},
     "output_type": "execute_result"
    }
   ],
   "source": [
    "arr"
   ]
  },
  {
   "cell_type": "code",
   "execution_count": 77,
   "id": "c9619f35",
   "metadata": {},
   "outputs": [
    {
     "data": {
      "text/plain": [
       "array([[-0.5, -1.5],\n",
       "       [-1. , -2. ]])"
      ]
     },
     "execution_count": 77,
     "metadata": {},
     "output_type": "execute_result"
    }
   ],
   "source": [
    "arr.transpose()/deter"
   ]
  },
  {
   "cell_type": "code",
   "execution_count": null,
   "id": "16eb002d",
   "metadata": {},
   "outputs": [],
   "source": []
  },
  {
   "cell_type": "markdown",
   "id": "bd4d2212",
   "metadata": {},
   "source": [
    "# Reciprocal \n",
    "A matrix's all values are inverse is known as reciprocal matrix means  1/ele."
   ]
  },
  {
   "cell_type": "code",
   "execution_count": 91,
   "id": "24bfcc12",
   "metadata": {},
   "outputs": [],
   "source": [
    "arrec=np.array([[10,20],[30,40]])"
   ]
  },
  {
   "cell_type": "code",
   "execution_count": 92,
   "id": "c37ac47c",
   "metadata": {},
   "outputs": [
    {
     "data": {
      "text/plain": [
       "array([[10, 20],\n",
       "       [30, 40]])"
      ]
     },
     "execution_count": 92,
     "metadata": {},
     "output_type": "execute_result"
    }
   ],
   "source": [
    "arrec"
   ]
  },
  {
   "cell_type": "code",
   "execution_count": null,
   "id": "9c769884",
   "metadata": {},
   "outputs": [],
   "source": [
    "# reciprocal means every element are divided\n",
    "# like reciprocal of aarec = [[1/10,1/20],\n",
    "#                             [1/30,1/40]]"
   ]
  },
  {
   "cell_type": "code",
   "execution_count": 93,
   "id": "c28e5e40",
   "metadata": {},
   "outputs": [
    {
     "data": {
      "text/plain": [
       "array([[0, 0],\n",
       "       [0, 0]], dtype=int32)"
      ]
     },
     "execution_count": 93,
     "metadata": {},
     "output_type": "execute_result"
    }
   ],
   "source": [
    "np.reciprocal(arrec)    #<- it prints 0 because the answer is in int"
   ]
  },
  {
   "cell_type": "code",
   "execution_count": 94,
   "id": "710d8a2e",
   "metadata": {},
   "outputs": [
    {
     "data": {
      "text/plain": [
       "array([[0.1       , 0.05      ],\n",
       "       [0.03333333, 0.025     ]])"
      ]
     },
     "execution_count": 94,
     "metadata": {},
     "output_type": "execute_result"
    }
   ],
   "source": [
    "np.reciprocal(arrec, dtype=\"float\")    #<- Now, it wil give the value in float and in point"
   ]
  },
  {
   "cell_type": "code",
   "execution_count": null,
   "id": "3db594c3",
   "metadata": {},
   "outputs": [],
   "source": []
  },
  {
   "cell_type": "markdown",
   "id": "85ac80ed",
   "metadata": {},
   "source": [
    "# Statistics"
   ]
  },
  {
   "cell_type": "code",
   "execution_count": 83,
   "id": "9b67ab9f",
   "metadata": {},
   "outputs": [],
   "source": [
    "statarr = np.array([[20,-9,-40],[0,10,-1],[7,6,34]])"
   ]
  },
  {
   "cell_type": "code",
   "execution_count": null,
   "id": "2b167be6",
   "metadata": {},
   "outputs": [],
   "source": []
  },
  {
   "cell_type": "code",
   "execution_count": 97,
   "id": "51d56cfd",
   "metadata": {},
   "outputs": [
    {
     "data": {
      "text/plain": [
       "array([[ 20,  -9, -40],\n",
       "       [  0,  10,  -1],\n",
       "       [  7,   6,  34]])"
      ]
     },
     "execution_count": 97,
     "metadata": {},
     "output_type": "execute_result"
    }
   ],
   "source": [
    "statarr"
   ]
  },
  {
   "cell_type": "markdown",
   "id": "eae15132",
   "metadata": {},
   "source": [
    "max()  <- It returns the maximum no. of element from the array"
   ]
  },
  {
   "cell_type": "code",
   "execution_count": 98,
   "id": "9bb0d186",
   "metadata": {},
   "outputs": [
    {
     "data": {
      "text/plain": [
       "34"
      ]
     },
     "execution_count": 98,
     "metadata": {},
     "output_type": "execute_result"
    }
   ],
   "source": [
    "np.max(statarr)"
   ]
  },
  {
   "cell_type": "code",
   "execution_count": null,
   "id": "08414f5e",
   "metadata": {},
   "outputs": [],
   "source": [
    "#Or you can also write like this"
   ]
  },
  {
   "cell_type": "code",
   "execution_count": 8,
   "id": "fd9f11d6",
   "metadata": {},
   "outputs": [
    {
     "data": {
      "text/plain": [
       "34"
      ]
     },
     "execution_count": 8,
     "metadata": {},
     "output_type": "execute_result"
    }
   ],
   "source": [
    "statarr.max()"
   ]
  },
  {
   "cell_type": "code",
   "execution_count": 99,
   "id": "3652f671",
   "metadata": {
    "scrolled": true
   },
   "outputs": [
    {
     "data": {
      "text/plain": [
       "array([20, 10, 34])"
      ]
     },
     "execution_count": 99,
     "metadata": {},
     "output_type": "execute_result"
    }
   ],
   "source": [
    "np.max(statarr, axis=0)  #<- remember that axis=0 means column and axis=1 means rows\n",
    "# This will give the maximum value from each columns of array"
   ]
  },
  {
   "cell_type": "code",
   "execution_count": 86,
   "id": "93a606ed",
   "metadata": {},
   "outputs": [
    {
     "data": {
      "text/plain": [
       "array([20, 10, 34])"
      ]
     },
     "execution_count": 86,
     "metadata": {},
     "output_type": "execute_result"
    }
   ],
   "source": [
    "np.max(statarr,axis=1) # column"
   ]
  },
  {
   "cell_type": "code",
   "execution_count": 10,
   "id": "48247490",
   "metadata": {},
   "outputs": [],
   "source": [
    "statarr = np.array([[20,50,-40],[9,10,-1],[7,26,34]])"
   ]
  },
  {
   "cell_type": "code",
   "execution_count": 103,
   "id": "a72c10ba",
   "metadata": {},
   "outputs": [
    {
     "data": {
      "text/plain": [
       "array([[ 20,  50, -40],\n",
       "       [  9,  10,  -1],\n",
       "       [  7,  26,  34]])"
      ]
     },
     "execution_count": 103,
     "metadata": {},
     "output_type": "execute_result"
    }
   ],
   "source": [
    "statarr"
   ]
  },
  {
   "cell_type": "code",
   "execution_count": 104,
   "id": "66c453df",
   "metadata": {},
   "outputs": [
    {
     "data": {
      "text/plain": [
       "array([50, 10, 34])"
      ]
     },
     "execution_count": 104,
     "metadata": {},
     "output_type": "execute_result"
    }
   ],
   "source": [
    "np.max(statarr, axis=1)   #<- It will give the max values from every rows because axis=1 means rows"
   ]
  },
  {
   "cell_type": "code",
   "execution_count": null,
   "id": "e16fda19",
   "metadata": {},
   "outputs": [],
   "source": []
  },
  {
   "cell_type": "code",
   "execution_count": 105,
   "id": "bc56ed4f",
   "metadata": {},
   "outputs": [
    {
     "data": {
      "text/plain": [
       "array([[ 20,  50, -40],\n",
       "       [  9,  10,  -1],\n",
       "       [  7,  26,  34]])"
      ]
     },
     "execution_count": 105,
     "metadata": {},
     "output_type": "execute_result"
    }
   ],
   "source": [
    "statarr"
   ]
  },
  {
   "cell_type": "code",
   "execution_count": 106,
   "id": "f1260be0",
   "metadata": {
    "scrolled": true
   },
   "outputs": [
    {
     "data": {
      "text/plain": [
       "-40"
      ]
     },
     "execution_count": 106,
     "metadata": {},
     "output_type": "execute_result"
    }
   ],
   "source": [
    "np.min(statarr)"
   ]
  },
  {
   "cell_type": "code",
   "execution_count": 107,
   "id": "aab776c8",
   "metadata": {},
   "outputs": [
    {
     "data": {
      "text/plain": [
       "array([  7,  10, -40])"
      ]
     },
     "execution_count": 107,
     "metadata": {},
     "output_type": "execute_result"
    }
   ],
   "source": [
    "np.min(statarr, axis=0)  # axis=0 for column"
   ]
  },
  {
   "cell_type": "code",
   "execution_count": 108,
   "id": "b1e2acd2",
   "metadata": {},
   "outputs": [
    {
     "data": {
      "text/plain": [
       "array([-40,  -1,   7])"
      ]
     },
     "execution_count": 108,
     "metadata": {},
     "output_type": "execute_result"
    }
   ],
   "source": [
    "np.min(statarr,axis=1)   #axis=1 for rows"
   ]
  },
  {
   "cell_type": "code",
   "execution_count": null,
   "id": "216977cc",
   "metadata": {},
   "outputs": [],
   "source": []
  },
  {
   "cell_type": "markdown",
   "id": "5bd4f5cd",
   "metadata": {},
   "source": [
    "# sum()"
   ]
  },
  {
   "cell_type": "code",
   "execution_count": 89,
   "id": "6c97f661",
   "metadata": {
    "scrolled": true
   },
   "outputs": [
    {
     "data": {
      "text/plain": [
       "array([[ 20,  -9, -40],\n",
       "       [  0,  10,  -1],\n",
       "       [  7,   6,  34]])"
      ]
     },
     "execution_count": 89,
     "metadata": {},
     "output_type": "execute_result"
    }
   ],
   "source": [
    "statarr"
   ]
  },
  {
   "cell_type": "code",
   "execution_count": 90,
   "id": "0de2d4eb",
   "metadata": {},
   "outputs": [
    {
     "data": {
      "text/plain": [
       "27"
      ]
     },
     "execution_count": 90,
     "metadata": {},
     "output_type": "execute_result"
    }
   ],
   "source": [
    "np.sum(statarr)   #it prints sum of all elements"
   ]
  },
  {
   "cell_type": "code",
   "execution_count": 97,
   "id": "612b43ea",
   "metadata": {},
   "outputs": [],
   "source": [
    "arr1=np.array([[1,2,3],[4,5,6]])\n",
    "arr2=np.array([[8,5,6],[4,5,6]])"
   ]
  },
  {
   "cell_type": "code",
   "execution_count": null,
   "id": "cbf1698c",
   "metadata": {},
   "outputs": [],
   "source": [
    "# or you can write like this"
   ]
  },
  {
   "cell_type": "code",
   "execution_count": 13,
   "id": "ad41b9b4",
   "metadata": {},
   "outputs": [
    {
     "data": {
      "text/plain": [
       "115"
      ]
     },
     "execution_count": 13,
     "metadata": {},
     "output_type": "execute_result"
    }
   ],
   "source": [
    "statarr.sum()"
   ]
  },
  {
   "cell_type": "code",
   "execution_count": null,
   "id": "d31cd416",
   "metadata": {},
   "outputs": [],
   "source": []
  },
  {
   "cell_type": "code",
   "execution_count": 111,
   "id": "1fd662c5",
   "metadata": {},
   "outputs": [
    {
     "data": {
      "text/plain": [
       "array([36, 86, -7])"
      ]
     },
     "execution_count": 111,
     "metadata": {},
     "output_type": "execute_result"
    }
   ],
   "source": [
    "np.sum(statarr,axis=0)   #sum of every elements of column"
   ]
  },
  {
   "cell_type": "code",
   "execution_count": 112,
   "id": "469d58cc",
   "metadata": {},
   "outputs": [
    {
     "data": {
      "text/plain": [
       "array([30, 18, 67])"
      ]
     },
     "execution_count": 112,
     "metadata": {},
     "output_type": "execute_result"
    }
   ],
   "source": [
    "np.sum(statarr,axis=1)   #sum of every elements of rows"
   ]
  },
  {
   "cell_type": "code",
   "execution_count": null,
   "id": "cca44fc6",
   "metadata": {},
   "outputs": [],
   "source": []
  },
  {
   "cell_type": "code",
   "execution_count": null,
   "id": "897372de",
   "metadata": {},
   "outputs": [],
   "source": []
  },
  {
   "cell_type": "markdown",
   "id": "fb3811e5",
   "metadata": {},
   "source": [
    "# argmax() & argmin()"
   ]
  },
  {
   "cell_type": "code",
   "execution_count": 114,
   "id": "e9246da4",
   "metadata": {},
   "outputs": [
    {
     "data": {
      "text/plain": [
       "array([[ 20,  50, -40],\n",
       "       [  9,  10,  -1],\n",
       "       [  7,  26,  34]])"
      ]
     },
     "execution_count": 114,
     "metadata": {},
     "output_type": "execute_result"
    }
   ],
   "source": [
    "statarr"
   ]
  },
  {
   "cell_type": "code",
   "execution_count": 115,
   "id": "ceb009e9",
   "metadata": {},
   "outputs": [
    {
     "data": {
      "text/plain": [
       "1"
      ]
     },
     "execution_count": 115,
     "metadata": {},
     "output_type": "execute_result"
    }
   ],
   "source": [
    "np.argmax(statarr)   #<- it gives the index number of maximum element number as per array number which start from 0"
   ]
  },
  {
   "cell_type": "code",
   "execution_count": 14,
   "id": "4a949554",
   "metadata": {},
   "outputs": [
    {
     "data": {
      "text/plain": [
       "1"
      ]
     },
     "execution_count": 14,
     "metadata": {},
     "output_type": "execute_result"
    }
   ],
   "source": [
    "#OR\n",
    "statarr.argmax()"
   ]
  },
  {
   "cell_type": "code",
   "execution_count": null,
   "id": "aae7c142",
   "metadata": {},
   "outputs": [],
   "source": []
  },
  {
   "cell_type": "code",
   "execution_count": 121,
   "id": "e5c54a93",
   "metadata": {},
   "outputs": [
    {
     "data": {
      "text/plain": [
       "2"
      ]
     },
     "execution_count": 121,
     "metadata": {},
     "output_type": "execute_result"
    }
   ],
   "source": [
    "np.argmin(statarr)"
   ]
  },
  {
   "cell_type": "code",
   "execution_count": 124,
   "id": "c1756cd6",
   "metadata": {},
   "outputs": [],
   "source": [
    "statarr[(2,1)]=100\n",
    "statarr[(1,1)]=-100"
   ]
  },
  {
   "cell_type": "code",
   "execution_count": 127,
   "id": "110beb5f",
   "metadata": {},
   "outputs": [
    {
     "data": {
      "text/plain": [
       "array([[  20,   50,  -40],\n",
       "       [   9, -100,   -1],\n",
       "       [   7,  100,   34]])"
      ]
     },
     "execution_count": 127,
     "metadata": {},
     "output_type": "execute_result"
    }
   ],
   "source": [
    "statarr"
   ]
  },
  {
   "cell_type": "code",
   "execution_count": 128,
   "id": "78ac6274",
   "metadata": {},
   "outputs": [
    {
     "data": {
      "text/plain": [
       "7"
      ]
     },
     "execution_count": 128,
     "metadata": {},
     "output_type": "execute_result"
    }
   ],
   "source": [
    "# remember, for argmax function, array is like statarr=[20,50,-40,9,-100,-1,7,100,34]\n",
    "np.argmax(statarr)  #<-here, 100 will come at index number 7 from starting to 0 index"
   ]
  },
  {
   "cell_type": "code",
   "execution_count": 130,
   "id": "7db13d09",
   "metadata": {},
   "outputs": [
    {
     "data": {
      "text/plain": [
       "4"
      ]
     },
     "execution_count": 130,
     "metadata": {},
     "output_type": "execute_result"
    }
   ],
   "source": [
    "np.argmin(statarr)  #<-here, -100 will come at index number 4 from starting to 0 index"
   ]
  },
  {
   "cell_type": "code",
   "execution_count": 132,
   "id": "ed6f8e9d",
   "metadata": {},
   "outputs": [
    {
     "data": {
      "text/plain": [
       "array([1, 0, 1], dtype=int64)"
      ]
     },
     "execution_count": 132,
     "metadata": {},
     "output_type": "execute_result"
    }
   ],
   "source": [
    "np.argmax(statarr, axis=1)   #<- it vill give highest value index from every rows"
   ]
  },
  {
   "cell_type": "code",
   "execution_count": 133,
   "id": "12f83f20",
   "metadata": {},
   "outputs": [
    {
     "data": {
      "text/plain": [
       "array([0, 2, 2], dtype=int64)"
      ]
     },
     "execution_count": 133,
     "metadata": {},
     "output_type": "execute_result"
    }
   ],
   "source": [
    "np.argmax(statarr, axis=0)  #<- it vill give highest value index from every column"
   ]
  },
  {
   "cell_type": "code",
   "execution_count": null,
   "id": "8df77c58",
   "metadata": {},
   "outputs": [],
   "source": []
  },
  {
   "cell_type": "markdown",
   "id": "0b7d9307",
   "metadata": {},
   "source": [
    "# around()"
   ]
  },
  {
   "cell_type": "code",
   "execution_count": 107,
   "id": "1bde51e5",
   "metadata": {},
   "outputs": [],
   "source": [
    "arr = np.array([0.51,0.98])"
   ]
  },
  {
   "cell_type": "code",
   "execution_count": 108,
   "id": "1718a0da",
   "metadata": {},
   "outputs": [
    {
     "data": {
      "text/plain": [
       "array([1., 1.])"
      ]
     },
     "execution_count": 108,
     "metadata": {},
     "output_type": "execute_result"
    }
   ],
   "source": [
    "np.around(arr)  #It will round off of every element as per it's values"
   ]
  },
  {
   "cell_type": "code",
   "execution_count": 16,
   "id": "fd5eb3d6",
   "metadata": {},
   "outputs": [],
   "source": [
    "arr= np.array([0.46,0.98])   #<- if value is less than or equal to 0.5, then it will print 0"
   ]
  },
  {
   "cell_type": "code",
   "execution_count": 17,
   "id": "bf1af1e5",
   "metadata": {},
   "outputs": [
    {
     "data": {
      "text/plain": [
       "array([0., 1.])"
      ]
     },
     "execution_count": 17,
     "metadata": {},
     "output_type": "execute_result"
    }
   ],
   "source": [
    "np.around(arr)"
   ]
  },
  {
   "cell_type": "code",
   "execution_count": 18,
   "id": "734ca805",
   "metadata": {},
   "outputs": [],
   "source": [
    "arr= np.array([0.5,0.98])"
   ]
  },
  {
   "cell_type": "code",
   "execution_count": 19,
   "id": "b57bb93f",
   "metadata": {},
   "outputs": [
    {
     "data": {
      "text/plain": [
       "array([0., 1.])"
      ]
     },
     "execution_count": 19,
     "metadata": {},
     "output_type": "execute_result"
    }
   ],
   "source": [
    "np.around(arr)"
   ]
  },
  {
   "cell_type": "code",
   "execution_count": null,
   "id": "96672781",
   "metadata": {},
   "outputs": [],
   "source": []
  },
  {
   "cell_type": "code",
   "execution_count": 110,
   "id": "3b3c312c",
   "metadata": {},
   "outputs": [
    {
     "data": {
      "text/plain": [
       "array([0.5, 1. ])"
      ]
     },
     "execution_count": 110,
     "metadata": {},
     "output_type": "execute_result"
    }
   ],
   "source": [
    "np.around(arr,decimals=1)  #It will round of the value after 1 point of the element"
   ]
  },
  {
   "cell_type": "code",
   "execution_count": 111,
   "id": "060a5b83",
   "metadata": {},
   "outputs": [],
   "source": [
    "arr=np.array([3.509,0.98])"
   ]
  },
  {
   "cell_type": "code",
   "execution_count": 112,
   "id": "97cabe18",
   "metadata": {},
   "outputs": [
    {
     "data": {
      "text/plain": [
       "array([3.509, 0.98 ])"
      ]
     },
     "execution_count": 112,
     "metadata": {},
     "output_type": "execute_result"
    }
   ],
   "source": [
    "np.around(arr, decimals=3)   # It will round of the value after 3 point of element"
   ]
  },
  {
   "cell_type": "code",
   "execution_count": 113,
   "id": "08ce2caf",
   "metadata": {},
   "outputs": [
    {
     "data": {
      "text/plain": [
       "array([3.51, 0.98])"
      ]
     },
     "execution_count": 113,
     "metadata": {},
     "output_type": "execute_result"
    }
   ],
   "source": [
    "np.around(arr,decimals=2)  # It will round off  till 2 points after the element"
   ]
  },
  {
   "cell_type": "code",
   "execution_count": 115,
   "id": "78c49a03",
   "metadata": {},
   "outputs": [
    {
     "data": {
      "text/plain": [
       "array([3.5, 1. ])"
      ]
     },
     "execution_count": 115,
     "metadata": {},
     "output_type": "execute_result"
    }
   ],
   "source": [
    "np.around(arr,decimals=1)"
   ]
  },
  {
   "cell_type": "markdown",
   "id": "98c3d180",
   "metadata": {},
   "source": [
    "# floor & ceil"
   ]
  },
  {
   "cell_type": "code",
   "execution_count": 146,
   "id": "e506bea8",
   "metadata": {},
   "outputs": [],
   "source": [
    "a=np.array([-1.7,-4.2,4.6,-0.87])"
   ]
  },
  {
   "cell_type": "code",
   "execution_count": 147,
   "id": "9ef11899",
   "metadata": {},
   "outputs": [
    {
     "data": {
      "text/plain": [
       "array([-2., -5.,  4., -1.])"
      ]
     },
     "execution_count": 147,
     "metadata": {},
     "output_type": "execute_result"
    }
   ],
   "source": [
    "np.floor(a)"
   ]
  },
  {
   "cell_type": "code",
   "execution_count": 148,
   "id": "b044c043",
   "metadata": {},
   "outputs": [
    {
     "data": {
      "text/plain": [
       "array([-1., -4.,  5., -0.])"
      ]
     },
     "execution_count": 148,
     "metadata": {},
     "output_type": "execute_result"
    }
   ],
   "source": [
    "np.ceil(a)"
   ]
  },
  {
   "cell_type": "code",
   "execution_count": null,
   "id": "5be642be",
   "metadata": {},
   "outputs": [],
   "source": [
    "# arr1+arr2 or you can write also np.add(arr1,arr2)"
   ]
  },
  {
   "cell_type": "code",
   "execution_count": null,
   "id": "6969a6f8",
   "metadata": {},
   "outputs": [],
   "source": []
  },
  {
   "cell_type": "markdown",
   "id": "7dc81c0a",
   "metadata": {},
   "source": [
    "# copy and view"
   ]
  },
  {
   "cell_type": "code",
   "execution_count": null,
   "id": "ea5be98e",
   "metadata": {},
   "outputs": [],
   "source": [
    "# copy will copy the element and it will not reflect in new copied element if there will be some change in old matrix\n",
    "# where as view will be effect in new element and also on old element if changes were happen in either new matrix or old matrix"
   ]
  },
  {
   "cell_type": "code",
   "execution_count": 149,
   "id": "76d9e996",
   "metadata": {},
   "outputs": [
    {
     "data": {
      "text/plain": [
       "array([3.509, 0.98 ])"
      ]
     },
     "execution_count": 149,
     "metadata": {},
     "output_type": "execute_result"
    }
   ],
   "source": [
    "arr"
   ]
  },
  {
   "cell_type": "code",
   "execution_count": 150,
   "id": "b2dab11b",
   "metadata": {},
   "outputs": [],
   "source": [
    "x=arr.copy()"
   ]
  },
  {
   "cell_type": "code",
   "execution_count": 151,
   "id": "ed1e7606",
   "metadata": {},
   "outputs": [
    {
     "data": {
      "text/plain": [
       "array([3.509, 0.98 ])"
      ]
     },
     "execution_count": 151,
     "metadata": {},
     "output_type": "execute_result"
    }
   ],
   "source": [
    "x"
   ]
  },
  {
   "cell_type": "code",
   "execution_count": 152,
   "id": "bfa6069d",
   "metadata": {},
   "outputs": [],
   "source": [
    "x[0]=10"
   ]
  },
  {
   "cell_type": "code",
   "execution_count": 153,
   "id": "237af720",
   "metadata": {},
   "outputs": [
    {
     "data": {
      "text/plain": [
       "array([10.  ,  0.98])"
      ]
     },
     "execution_count": 153,
     "metadata": {},
     "output_type": "execute_result"
    }
   ],
   "source": [
    "x"
   ]
  },
  {
   "cell_type": "code",
   "execution_count": 154,
   "id": "aba5d5b7",
   "metadata": {},
   "outputs": [
    {
     "data": {
      "text/plain": [
       "array([3.509, 0.98 ])"
      ]
     },
     "execution_count": 154,
     "metadata": {},
     "output_type": "execute_result"
    }
   ],
   "source": [
    "arr    #<- there is no change in arr after changing the value of x"
   ]
  },
  {
   "cell_type": "code",
   "execution_count": 155,
   "id": "22b8eecc",
   "metadata": {},
   "outputs": [],
   "source": [
    "y=arr.view()"
   ]
  },
  {
   "cell_type": "code",
   "execution_count": 156,
   "id": "b1bf6c0f",
   "metadata": {},
   "outputs": [
    {
     "data": {
      "text/plain": [
       "array([3.509, 0.98 ])"
      ]
     },
     "execution_count": 156,
     "metadata": {},
     "output_type": "execute_result"
    }
   ],
   "source": [
    "y"
   ]
  },
  {
   "cell_type": "code",
   "execution_count": 157,
   "id": "32c22bef",
   "metadata": {},
   "outputs": [
    {
     "data": {
      "text/plain": [
       "array([3.509, 0.98 ])"
      ]
     },
     "execution_count": 157,
     "metadata": {},
     "output_type": "execute_result"
    }
   ],
   "source": [
    "arr"
   ]
  },
  {
   "cell_type": "code",
   "execution_count": 158,
   "id": "6a28a329",
   "metadata": {},
   "outputs": [],
   "source": [
    "y[0]=25"
   ]
  },
  {
   "cell_type": "code",
   "execution_count": 159,
   "id": "a4e0ab3d",
   "metadata": {},
   "outputs": [
    {
     "data": {
      "text/plain": [
       "array([25.  ,  0.98])"
      ]
     },
     "execution_count": 159,
     "metadata": {},
     "output_type": "execute_result"
    }
   ],
   "source": [
    "y"
   ]
  },
  {
   "cell_type": "code",
   "execution_count": 160,
   "id": "33781397",
   "metadata": {},
   "outputs": [
    {
     "data": {
      "text/plain": [
       "array([25.  ,  0.98])"
      ]
     },
     "execution_count": 160,
     "metadata": {},
     "output_type": "execute_result"
    }
   ],
   "source": [
    "arr    #<- here, due to view, we have changed the value in y, then also it change happened in arr"
   ]
  },
  {
   "cell_type": "code",
   "execution_count": null,
   "id": "2b0e4e63",
   "metadata": {},
   "outputs": [],
   "source": []
  },
  {
   "cell_type": "markdown",
   "id": "67a5400b",
   "metadata": {},
   "source": [
    "# Iteration"
   ]
  },
  {
   "cell_type": "code",
   "execution_count": 161,
   "id": "b7fe5361",
   "metadata": {},
   "outputs": [
    {
     "data": {
      "text/plain": [
       "array([25.  ,  0.98])"
      ]
     },
     "execution_count": 161,
     "metadata": {},
     "output_type": "execute_result"
    }
   ],
   "source": [
    "arr"
   ]
  },
  {
   "cell_type": "code",
   "execution_count": 162,
   "id": "d6af4999",
   "metadata": {},
   "outputs": [
    {
     "name": "stdout",
     "output_type": "stream",
     "text": [
      "25.0\n",
      "0.98\n"
     ]
    }
   ],
   "source": [
    "for i in arr:\n",
    "    print(i)"
   ]
  },
  {
   "cell_type": "code",
   "execution_count": 163,
   "id": "7a377f64",
   "metadata": {},
   "outputs": [
    {
     "data": {
      "text/plain": [
       "array([[ 1,  2,  3,  4,  5],\n",
       "       [ 6,  7,  8,  9, 10]])"
      ]
     },
     "execution_count": 163,
     "metadata": {},
     "output_type": "execute_result"
    }
   ],
   "source": [
    "arr1"
   ]
  },
  {
   "cell_type": "code",
   "execution_count": 164,
   "id": "69089883",
   "metadata": {},
   "outputs": [
    {
     "name": "stdout",
     "output_type": "stream",
     "text": [
      "[1 2 3 4 5]\n",
      "[ 6  7  8  9 10]\n"
     ]
    }
   ],
   "source": [
    "for i in arr1:\n",
    "    print(i)      #<- it will print 2 list which contain 2 different rows"
   ]
  },
  {
   "cell_type": "code",
   "execution_count": 165,
   "id": "3437468d",
   "metadata": {
    "scrolled": true
   },
   "outputs": [
    {
     "name": "stdout",
     "output_type": "stream",
     "text": [
      "1\n",
      "2\n",
      "3\n",
      "4\n",
      "5\n",
      "6\n",
      "7\n",
      "8\n",
      "9\n",
      "10\n"
     ]
    }
   ],
   "source": [
    "for i in arr1:    #<- This will print all the element of arr1 in one single line\n",
    "    for j in i:\n",
    "        print(j)\n",
    "# But here, The complexity will be more due to 2 for loop        "
   ]
  },
  {
   "cell_type": "code",
   "execution_count": 167,
   "id": "b2ce83ab",
   "metadata": {
    "scrolled": true
   },
   "outputs": [
    {
     "name": "stdout",
     "output_type": "stream",
     "text": [
      "1\n",
      "2\n",
      "3\n",
      "4\n",
      "5\n",
      "6\n",
      "7\n",
      "8\n",
      "9\n",
      "10\n"
     ]
    }
   ],
   "source": [
    "for i in np.nditer(arr1):  #This nditer will print all the elements of array very easily and with good efficiency\n",
    "    print(i)"
   ]
  },
  {
   "cell_type": "code",
   "execution_count": 169,
   "id": "5aeeeac1",
   "metadata": {},
   "outputs": [
    {
     "name": "stdout",
     "output_type": "stream",
     "text": [
      "6\n",
      "7\n",
      "8\n",
      "9\n",
      "10\n"
     ]
    }
   ],
   "source": [
    "for i in np.nditer(arr1[1]):    #It will print all the element which row is at index 1\n",
    "    print(i)"
   ]
  },
  {
   "cell_type": "code",
   "execution_count": null,
   "id": "af96288f",
   "metadata": {},
   "outputs": [],
   "source": []
  },
  {
   "cell_type": "code",
   "execution_count": null,
   "id": "b620a1b4",
   "metadata": {},
   "outputs": [],
   "source": []
  },
  {
   "cell_type": "code",
   "execution_count": null,
   "id": "970d8c25",
   "metadata": {},
   "outputs": [],
   "source": []
  },
  {
   "cell_type": "code",
   "execution_count": null,
   "id": "033d07e9",
   "metadata": {},
   "outputs": [],
   "source": []
  },
  {
   "cell_type": "code",
   "execution_count": null,
   "id": "656824c1",
   "metadata": {},
   "outputs": [],
   "source": []
  },
  {
   "cell_type": "code",
   "execution_count": null,
   "id": "46ec9d57",
   "metadata": {},
   "outputs": [],
   "source": []
  },
  {
   "cell_type": "code",
   "execution_count": 69,
   "id": "3daa58c3",
   "metadata": {},
   "outputs": [
    {
     "data": {
      "application/javascript": [
       "IPython.notebook.set_autosave_interval(120000)"
      ]
     },
     "metadata": {},
     "output_type": "display_data"
    },
    {
     "name": "stdout",
     "output_type": "stream",
     "text": [
      "Autosaving every 120 seconds\n"
     ]
    }
   ],
   "source": [
    "%autosave 120"
   ]
  }
 ],
 "metadata": {
  "kernelspec": {
   "display_name": "Python 3",
   "language": "python",
   "name": "python3"
  },
  "language_info": {
   "codemirror_mode": {
    "name": "ipython",
    "version": 3
   },
   "file_extension": ".py",
   "mimetype": "text/x-python",
   "name": "python",
   "nbconvert_exporter": "python",
   "pygments_lexer": "ipython3",
   "version": "3.8.8"
  }
 },
 "nbformat": 4,
 "nbformat_minor": 5
}
