{
 "cells": [
  {
   "cell_type": "markdown",
   "id": "fb36dc3e",
   "metadata": {},
   "source": [
    "# Numpy\n",
    "\n",
    "Moduled -> Packages -> libraried -> Framework"
   ]
  },
  {
   "cell_type": "code",
   "execution_count": null,
   "id": "dd2f3a1d",
   "metadata": {},
   "outputs": [],
   "source": [
    "Numpy -> Numerical Python"
   ]
  },
  {
   "cell_type": "code",
   "execution_count": null,
   "id": "d2a01bfc",
   "metadata": {},
   "outputs": [],
   "source": [
    "Numpy array is 50x faster than list"
   ]
  },
  {
   "cell_type": "code",
   "execution_count": 3,
   "id": "af4489e9",
   "metadata": {},
   "outputs": [],
   "source": [
    "import numpy as np\n",
    "import time"
   ]
  },
  {
   "cell_type": "code",
   "execution_count": 42,
   "id": "5d2d81c3",
   "metadata": {},
   "outputs": [],
   "source": [
    "a=np.array([1,10])"
   ]
  },
  {
   "cell_type": "code",
   "execution_count": 43,
   "id": "3ebab99a",
   "metadata": {},
   "outputs": [
    {
     "data": {
      "text/plain": [
       "array([ 1, 10])"
      ]
     },
     "execution_count": 43,
     "metadata": {},
     "output_type": "execute_result"
    }
   ],
   "source": [
    "a"
   ]
  },
  {
   "cell_type": "code",
   "execution_count": 49,
   "id": "eb90ee47",
   "metadata": {},
   "outputs": [],
   "source": [
    "a= np.random.rand(100000000)"
   ]
  },
  {
   "cell_type": "code",
   "execution_count": 50,
   "id": "7d24b843",
   "metadata": {},
   "outputs": [
    {
     "data": {
      "text/plain": [
       "array([0.03918802, 0.84803947, 0.71277938, ..., 0.46722051, 0.29350024,\n",
       "       0.41777521])"
      ]
     },
     "execution_count": 50,
     "metadata": {},
     "output_type": "execute_result"
    }
   ],
   "source": [
    "a"
   ]
  },
  {
   "cell_type": "code",
   "execution_count": 51,
   "id": "684c0397",
   "metadata": {},
   "outputs": [
    {
     "data": {
      "text/plain": [
       "1668619105.6732779"
      ]
     },
     "execution_count": 51,
     "metadata": {},
     "output_type": "execute_result"
    }
   ],
   "source": [
    "time.time()"
   ]
  },
  {
   "cell_type": "code",
   "execution_count": 52,
   "id": "f5f86d47",
   "metadata": {},
   "outputs": [
    {
     "name": "stdout",
     "output_type": "stream",
     "text": [
      "10.736345767974854\n"
     ]
    }
   ],
   "source": [
    "# List\n",
    "start=time.time()    # It will show or capture the presently time\n",
    "mean_list = sum(a)/len(a)\n",
    "print(time.time()- start)"
   ]
  },
  {
   "cell_type": "code",
   "execution_count": 53,
   "id": "e3fe797a",
   "metadata": {},
   "outputs": [
    {
     "name": "stdout",
     "output_type": "stream",
     "text": [
      "0.2000737190246582\n"
     ]
    }
   ],
   "source": [
    "#Numpy\n",
    "start=time.time()\n",
    "mean_np = np.mean(a)\n",
    "print(time.time()-start)"
   ]
  },
  {
   "cell_type": "code",
   "execution_count": 7,
   "id": "eb53e21e",
   "metadata": {},
   "outputs": [
    {
     "data": {
      "text/plain": [
       "0.5000146461275833"
      ]
     },
     "execution_count": 7,
     "metadata": {},
     "output_type": "execute_result"
    }
   ],
   "source": [
    "mean_np   #here both value of average are same but numpy takes very few time for it. Where as, list takes more time than numpy"
   ]
  },
  {
   "cell_type": "code",
   "execution_count": 8,
   "id": "7b914075",
   "metadata": {},
   "outputs": [
    {
     "data": {
      "text/plain": [
       "0.500014646127636"
      ]
     },
     "execution_count": 8,
     "metadata": {},
     "output_type": "execute_result"
    }
   ],
   "source": [
    "mean_list"
   ]
  },
  {
   "cell_type": "code",
   "execution_count": 12,
   "id": "29be4715",
   "metadata": {},
   "outputs": [
    {
     "data": {
      "text/plain": [
       "1629249504.1721337"
      ]
     },
     "execution_count": 12,
     "metadata": {},
     "output_type": "execute_result"
    }
   ],
   "source": [
    "time.time()"
   ]
  },
  {
   "cell_type": "code",
   "execution_count": null,
   "id": "e6a4db3f",
   "metadata": {},
   "outputs": [],
   "source": [
    "!pip install numpy   #<- pip install a package installer for python\n",
    "for google colab and jupyter notebook,add ! at start. In othereditor, do not use ! for installing through pip"
   ]
  },
  {
   "cell_type": "code",
   "execution_count": null,
   "id": "bac9b1d4",
   "metadata": {},
   "outputs": [],
   "source": [
    "open source means -> 1. free to use\n",
    "                     2. source code should be available\n",
    "# Google is not an open source site bcoz you can't able to watch the source code means backend work of its site.    "
   ]
  },
  {
   "cell_type": "code",
   "execution_count": 13,
   "id": "2b984122",
   "metadata": {},
   "outputs": [],
   "source": [
    "import numpy as np"
   ]
  },
  {
   "cell_type": "code",
   "execution_count": 15,
   "id": "58b4d8bd",
   "metadata": {},
   "outputs": [
    {
     "data": {
      "text/plain": [
       "'1.19.5'"
      ]
     },
     "execution_count": 15,
     "metadata": {},
     "output_type": "execute_result"
    }
   ],
   "source": [
    "np.__version__  #<- It shows the current version of numpy in pc"
   ]
  },
  {
   "cell_type": "code",
   "execution_count": null,
   "id": "69e331d4",
   "metadata": {},
   "outputs": [],
   "source": []
  },
  {
   "cell_type": "markdown",
   "id": "399d86e4",
   "metadata": {},
   "source": [
    " # Operations through numpy"
   ]
  },
  {
   "cell_type": "markdown",
   "id": "90c3b6c6",
   "metadata": {},
   "source": [
    "Initializing the Numpy array\n"
   ]
  },
  {
   "cell_type": "code",
   "execution_count": 1,
   "id": "077ab3fd",
   "metadata": {},
   "outputs": [],
   "source": [
    "# for list\n",
    "lis= []"
   ]
  },
  {
   "cell_type": "code",
   "execution_count": 4,
   "id": "190cbd61",
   "metadata": {},
   "outputs": [
    {
     "ename": "TypeError",
     "evalue": "array() missing required argument 'object' (pos 1)",
     "output_type": "error",
     "traceback": [
      "\u001b[1;31m---------------------------------------------------------------------------\u001b[0m",
      "\u001b[1;31mTypeError\u001b[0m                                 Traceback (most recent call last)",
      "\u001b[1;32m<ipython-input-4-cdd8f0504143>\u001b[0m in \u001b[0;36m<module>\u001b[1;34m\u001b[0m\n\u001b[0;32m      1\u001b[0m \u001b[1;31m#for numpy\u001b[0m\u001b[1;33m\u001b[0m\u001b[1;33m\u001b[0m\u001b[1;33m\u001b[0m\u001b[0m\n\u001b[1;32m----> 2\u001b[1;33m \u001b[0marr\u001b[0m\u001b[1;33m=\u001b[0m\u001b[0mnp\u001b[0m\u001b[1;33m.\u001b[0m\u001b[0marray\u001b[0m\u001b[1;33m(\u001b[0m\u001b[1;33m)\u001b[0m\u001b[1;33m\u001b[0m\u001b[1;33m\u001b[0m\u001b[0m\n\u001b[0m",
      "\u001b[1;31mTypeError\u001b[0m: array() missing required argument 'object' (pos 1)"
     ]
    }
   ],
   "source": [
    "#for numpy\n",
    "arr=np.array()"
   ]
  },
  {
   "cell_type": "code",
   "execution_count": null,
   "id": "ab342557",
   "metadata": {},
   "outputs": [],
   "source": []
  },
  {
   "cell_type": "code",
   "execution_count": 5,
   "id": "0d8d2381",
   "metadata": {},
   "outputs": [],
   "source": [
    "# 0D (Zero Dimensional)\n",
    "arr= np.array(4)"
   ]
  },
  {
   "cell_type": "code",
   "execution_count": 57,
   "id": "4a353eed",
   "metadata": {},
   "outputs": [
    {
     "data": {
      "text/plain": [
       "array(4)"
      ]
     },
     "execution_count": 57,
     "metadata": {},
     "output_type": "execute_result"
    }
   ],
   "source": [
    "arr"
   ]
  },
  {
   "cell_type": "code",
   "execution_count": null,
   "id": "cdc10e11",
   "metadata": {},
   "outputs": [],
   "source": []
  },
  {
   "cell_type": "code",
   "execution_count": 7,
   "id": "f3e70aac",
   "metadata": {},
   "outputs": [],
   "source": [
    "arr=np.array((1,2,3,4,5,6,7,8,9,10)) "
   ]
  },
  {
   "cell_type": "code",
   "execution_count": 8,
   "id": "6f65b332",
   "metadata": {},
   "outputs": [
    {
     "data": {
      "text/plain": [
       "array([ 1,  2,  3,  4,  5,  6,  7,  8,  9, 10])"
      ]
     },
     "execution_count": 8,
     "metadata": {},
     "output_type": "execute_result"
    }
   ],
   "source": [
    "arr"
   ]
  },
  {
   "cell_type": "code",
   "execution_count": null,
   "id": "187ca0ef",
   "metadata": {},
   "outputs": [],
   "source": []
  },
  {
   "cell_type": "code",
   "execution_count": 58,
   "id": "4c83d480",
   "metadata": {},
   "outputs": [],
   "source": [
    "# 1D (One Dimensional)\n",
    "arr=np.array([1,2,3,4,5,6,7,8,9,10]) "
   ]
  },
  {
   "cell_type": "code",
   "execution_count": 59,
   "id": "0c829593",
   "metadata": {},
   "outputs": [
    {
     "data": {
      "text/plain": [
       "array([ 1,  2,  3,  4,  5,  6,  7,  8,  9, 10])"
      ]
     },
     "execution_count": 59,
     "metadata": {},
     "output_type": "execute_result"
    }
   ],
   "source": [
    "arr"
   ]
  },
  {
   "cell_type": "code",
   "execution_count": null,
   "id": "3cf1490c",
   "metadata": {},
   "outputs": [],
   "source": [
    "# you can also define an array in () <- tuple bracket instead of square column [] . both can be applicable."
   ]
  },
  {
   "cell_type": "code",
   "execution_count": 10,
   "id": "21f1674f",
   "metadata": {},
   "outputs": [],
   "source": [
    "# 2D (Two DImensional)\n",
    "arr = np.array([[1,2,3,4],[5,6,7,8]])\n",
    "arr=np.array([[1,2,3,4,5],[5,6,7,8,9]])"
   ]
  },
  {
   "cell_type": "code",
   "execution_count": 11,
   "id": "4fd8742d",
   "metadata": {},
   "outputs": [
    {
     "data": {
      "text/plain": [
       "array([[1, 2, 3, 4, 5],\n",
       "       [5, 6, 7, 8, 9]])"
      ]
     },
     "execution_count": 11,
     "metadata": {},
     "output_type": "execute_result"
    }
   ],
   "source": [
    "arr"
   ]
  },
  {
   "cell_type": "code",
   "execution_count": 67,
   "id": "3fbfa8ec",
   "metadata": {},
   "outputs": [],
   "source": [
    "arr = np.array([[1,2,3,4],[5,6,7,8],[9,0,11,12]])"
   ]
  },
  {
   "cell_type": "code",
   "execution_count": 68,
   "id": "1ab51e61",
   "metadata": {},
   "outputs": [
    {
     "data": {
      "text/plain": [
       "array([[ 1,  2,  3,  4],\n",
       "       [ 5,  6,  7,  8],\n",
       "       [ 9,  0, 11, 12]])"
      ]
     },
     "execution_count": 68,
     "metadata": {},
     "output_type": "execute_result"
    }
   ],
   "source": [
    "arr"
   ]
  },
  {
   "cell_type": "code",
   "execution_count": null,
   "id": "b5b6d367",
   "metadata": {},
   "outputs": [],
   "source": []
  },
  {
   "cell_type": "code",
   "execution_count": 12,
   "id": "d1621f68",
   "metadata": {},
   "outputs": [],
   "source": [
    "# 3D (Three Dimensional) - 3D dimensional array means multiple 2nd dimensional array\n",
    "arr = np.array([[ [1,2,3,4],[5,6,7,8]],[[8,7,6,5],[4,3,2,1]]])"
   ]
  },
  {
   "cell_type": "code",
   "execution_count": 14,
   "id": "f5839fb6",
   "metadata": {},
   "outputs": [],
   "source": [
    "arr5=np.array([[\n",
    "            [1,2,3,4],\n",
    "            [5,6,7,8]],\n",
    "        [[5,4,3,2],\n",
    "         [9,8,7,6]\n",
    "]])"
   ]
  },
  {
   "cell_type": "code",
   "execution_count": 15,
   "id": "31f1dca3",
   "metadata": {},
   "outputs": [
    {
     "data": {
      "text/plain": [
       "array([[[1, 2, 3, 4],\n",
       "        [5, 6, 7, 8]],\n",
       "\n",
       "       [[5, 4, 3, 2],\n",
       "        [9, 8, 7, 6]]])"
      ]
     },
     "execution_count": 15,
     "metadata": {},
     "output_type": "execute_result"
    }
   ],
   "source": [
    "arr5"
   ]
  },
  {
   "cell_type": "code",
   "execution_count": 72,
   "id": "8613bf03",
   "metadata": {},
   "outputs": [
    {
     "data": {
      "text/plain": [
       "array([[[1, 2, 3, 4],\n",
       "        [5, 6, 7, 8]],\n",
       "\n",
       "       [[1, 3, 5, 7],\n",
       "        [6, 8, 9, 4]]])"
      ]
     },
     "execution_count": 72,
     "metadata": {},
     "output_type": "execute_result"
    }
   ],
   "source": [
    "arr"
   ]
  },
  {
   "cell_type": "code",
   "execution_count": null,
   "id": "851a38c7",
   "metadata": {},
   "outputs": [],
   "source": []
  },
  {
   "cell_type": "code",
   "execution_count": 40,
   "id": "e8a60695",
   "metadata": {},
   "outputs": [
    {
     "data": {
      "text/plain": [
       "numpy.ndarray"
      ]
     },
     "execution_count": 40,
     "metadata": {},
     "output_type": "execute_result"
    }
   ],
   "source": [
    "type(arr)     #<- it is not list but it is one type of ndarray of numpy"
   ]
  },
  {
   "cell_type": "code",
   "execution_count": null,
   "id": "3593967b",
   "metadata": {},
   "outputs": [],
   "source": []
  },
  {
   "cell_type": "markdown",
   "id": "8071a7f9",
   "metadata": {},
   "source": [
    "# ndim attribute \n",
    "it will gonna return the dimensions of the array"
   ]
  },
  {
   "cell_type": "code",
   "execution_count": 73,
   "id": "3c7ca159",
   "metadata": {},
   "outputs": [],
   "source": [
    "arr = np.array([[ \n",
    "                 [1,2,3,4],\n",
    "                 [5,6,7,8]\n",
    "               ],[ \n",
    "                 [8,7,6,5],\n",
    "                 [4,3,2,1]\n",
    "               ]\n",
    "])"
   ]
  },
  {
   "cell_type": "code",
   "execution_count": 74,
   "id": "0f608389",
   "metadata": {},
   "outputs": [
    {
     "data": {
      "text/plain": [
       "3"
      ]
     },
     "execution_count": 74,
     "metadata": {},
     "output_type": "execute_result"
    }
   ],
   "source": [
    "arr.ndim"
   ]
  },
  {
   "cell_type": "code",
   "execution_count": 16,
   "id": "b187154f",
   "metadata": {},
   "outputs": [],
   "source": [
    "arr = np.array([[[1,2,3,4],[5,6,7,8],[9,0,11,12]]])"
   ]
  },
  {
   "cell_type": "code",
   "execution_count": 17,
   "id": "ded67e0c",
   "metadata": {},
   "outputs": [
    {
     "data": {
      "text/plain": [
       "array([[[ 1,  2,  3,  4],\n",
       "        [ 5,  6,  7,  8],\n",
       "        [ 9,  0, 11, 12]]])"
      ]
     },
     "execution_count": 17,
     "metadata": {},
     "output_type": "execute_result"
    }
   ],
   "source": [
    "arr"
   ]
  },
  {
   "cell_type": "code",
   "execution_count": 18,
   "id": "5a658337",
   "metadata": {},
   "outputs": [
    {
     "data": {
      "text/plain": [
       "3"
      ]
     },
     "execution_count": 18,
     "metadata": {},
     "output_type": "execute_result"
    }
   ],
   "source": [
    "arr.ndim  #<-- it shows the dimension of an array"
   ]
  },
  {
   "cell_type": "code",
   "execution_count": 81,
   "id": "3dbc271c",
   "metadata": {},
   "outputs": [],
   "source": [
    "arr=np.array([1,2,3,4])"
   ]
  },
  {
   "cell_type": "code",
   "execution_count": 82,
   "id": "2970a4f6",
   "metadata": {},
   "outputs": [
    {
     "data": {
      "text/plain": [
       "1"
      ]
     },
     "execution_count": 82,
     "metadata": {},
     "output_type": "execute_result"
    }
   ],
   "source": [
    "arr.ndim"
   ]
  },
  {
   "cell_type": "code",
   "execution_count": 83,
   "id": "96c084cd",
   "metadata": {},
   "outputs": [],
   "source": [
    "arr=np.array([[[1,2,3,4]]])"
   ]
  },
  {
   "cell_type": "code",
   "execution_count": 85,
   "id": "acce42eb",
   "metadata": {},
   "outputs": [
    {
     "data": {
      "text/plain": [
       "array([[[1, 2, 3, 4]]])"
      ]
     },
     "execution_count": 85,
     "metadata": {},
     "output_type": "execute_result"
    }
   ],
   "source": [
    "arr"
   ]
  },
  {
   "cell_type": "code",
   "execution_count": 84,
   "id": "188ff498",
   "metadata": {},
   "outputs": [
    {
     "data": {
      "text/plain": [
       "3"
      ]
     },
     "execution_count": 84,
     "metadata": {},
     "output_type": "execute_result"
    }
   ],
   "source": [
    "arr.ndim"
   ]
  },
  {
   "cell_type": "code",
   "execution_count": null,
   "id": "973164a9",
   "metadata": {},
   "outputs": [],
   "source": []
  },
  {
   "cell_type": "code",
   "execution_count": null,
   "id": "60423503",
   "metadata": {},
   "outputs": [],
   "source": []
  },
  {
   "cell_type": "markdown",
   "id": "03634de6",
   "metadata": {},
   "source": [
    "# ndmin \n",
    "This will change the array in that dimension which you want"
   ]
  },
  {
   "cell_type": "code",
   "execution_count": 19,
   "id": "994f995b",
   "metadata": {},
   "outputs": [],
   "source": [
    "arr=np.array([1,2,3,4],ndmin=10)"
   ]
  },
  {
   "cell_type": "code",
   "execution_count": 20,
   "id": "dffa143a",
   "metadata": {},
   "outputs": [],
   "source": [
    "k=list(arr)"
   ]
  },
  {
   "cell_type": "code",
   "execution_count": 21,
   "id": "2ebe9f22",
   "metadata": {},
   "outputs": [
    {
     "data": {
      "text/plain": [
       "[array([[[[[[[[[1, 2, 3, 4]]]]]]]]])]"
      ]
     },
     "execution_count": 21,
     "metadata": {},
     "output_type": "execute_result"
    }
   ],
   "source": [
    "k"
   ]
  },
  {
   "cell_type": "code",
   "execution_count": 50,
   "id": "e0d50ad4",
   "metadata": {
    "scrolled": true
   },
   "outputs": [
    {
     "data": {
      "text/plain": [
       "10"
      ]
     },
     "execution_count": 50,
     "metadata": {},
     "output_type": "execute_result"
    }
   ],
   "source": [
    "arr.ndim  #<- now it will show as 10 dimension array"
   ]
  },
  {
   "cell_type": "code",
   "execution_count": 51,
   "id": "112f0a5a",
   "metadata": {},
   "outputs": [
    {
     "data": {
      "text/plain": [
       "array([[[[[[[[[[1, 2, 3, 4]]]]]]]]]])"
      ]
     },
     "execution_count": 51,
     "metadata": {},
     "output_type": "execute_result"
    }
   ],
   "source": [
    "arr   #<-this is the 10 dimension array"
   ]
  },
  {
   "cell_type": "code",
   "execution_count": null,
   "id": "67d96509",
   "metadata": {},
   "outputs": [],
   "source": []
  },
  {
   "cell_type": "code",
   "execution_count": 89,
   "id": "a321ae70",
   "metadata": {},
   "outputs": [],
   "source": [
    "arr=np.array([1],ndmin=10)"
   ]
  },
  {
   "cell_type": "code",
   "execution_count": 90,
   "id": "582171b8",
   "metadata": {},
   "outputs": [
    {
     "data": {
      "text/plain": [
       "array([[[[[[[[[[1]]]]]]]]]])"
      ]
     },
     "execution_count": 90,
     "metadata": {},
     "output_type": "execute_result"
    }
   ],
   "source": [
    "arr"
   ]
  },
  {
   "cell_type": "code",
   "execution_count": 27,
   "id": "5d894717",
   "metadata": {},
   "outputs": [],
   "source": [
    "arr = np.array([[1,2,3,4],[5,6,7,8]],ndmin=2)"
   ]
  },
  {
   "cell_type": "code",
   "execution_count": 28,
   "id": "2e72b238",
   "metadata": {},
   "outputs": [
    {
     "data": {
      "text/plain": [
       "array([[1, 2, 3, 4],\n",
       "       [5, 6, 7, 8]])"
      ]
     },
     "execution_count": 28,
     "metadata": {},
     "output_type": "execute_result"
    }
   ],
   "source": [
    "arr"
   ]
  },
  {
   "cell_type": "code",
   "execution_count": 102,
   "id": "824e1b26",
   "metadata": {},
   "outputs": [
    {
     "data": {
      "text/plain": [
       "2"
      ]
     },
     "execution_count": 102,
     "metadata": {},
     "output_type": "execute_result"
    }
   ],
   "source": [
    "arr.ndim"
   ]
  },
  {
   "cell_type": "markdown",
   "id": "ef5d9aa6",
   "metadata": {},
   "source": [
    "**Remember that you can convert 2 dimension array into his high dimension array but not in low dimension array. like, you can convert 2 dimension array in 10 dimension, using ndmin but you can't convert 2 dimension array in 1 dimension using ndmin."
   ]
  },
  {
   "cell_type": "code",
   "execution_count": null,
   "id": "62126630",
   "metadata": {},
   "outputs": [],
   "source": []
  },
  {
   "cell_type": "markdown",
   "id": "d9ab276a",
   "metadata": {},
   "source": [
    "# shape\n",
    "It tells about the number of elements or the type of the array"
   ]
  },
  {
   "cell_type": "code",
   "execution_count": null,
   "id": "d5e36e84",
   "metadata": {},
   "outputs": [],
   "source": []
  },
  {
   "cell_type": "code",
   "execution_count": 29,
   "id": "3f7a4860",
   "metadata": {},
   "outputs": [],
   "source": [
    "arr = np.array([[1,2,3,4],\n",
    "                [5,6,7,8],\n",
    "                [9,0,11,12]])"
   ]
  },
  {
   "cell_type": "code",
   "execution_count": 30,
   "id": "5d73e611",
   "metadata": {},
   "outputs": [
    {
     "data": {
      "text/plain": [
       "(3, 4)"
      ]
     },
     "execution_count": 30,
     "metadata": {},
     "output_type": "execute_result"
    }
   ],
   "source": [
    "arr.shape"
   ]
  },
  {
   "cell_type": "code",
   "execution_count": null,
   "id": "1be69463",
   "metadata": {},
   "outputs": [],
   "source": []
  },
  {
   "cell_type": "code",
   "execution_count": 103,
   "id": "98485d38",
   "metadata": {},
   "outputs": [],
   "source": [
    "arr= np.array([1,2,3,4,5])  #here, it shows the size of an array is 5 because it has only 5 straight column in the array"
   ]
  },
  {
   "cell_type": "code",
   "execution_count": 104,
   "id": "2962fe4b",
   "metadata": {},
   "outputs": [
    {
     "data": {
      "text/plain": [
       "(5,)"
      ]
     },
     "execution_count": 104,
     "metadata": {},
     "output_type": "execute_result"
    }
   ],
   "source": [
    "arr.shape   "
   ]
  },
  {
   "cell_type": "code",
   "execution_count": 36,
   "id": "12400720",
   "metadata": {},
   "outputs": [],
   "source": [
    "j=np.array([ \n",
    "                 [1,2,3,4],\n",
    "                 [5,6,7,8]\n",
    "               ])"
   ]
  },
  {
   "cell_type": "code",
   "execution_count": 40,
   "id": "2d1c839d",
   "metadata": {},
   "outputs": [
    {
     "data": {
      "text/plain": [
       "array([[1, 2],\n",
       "       [3, 4],\n",
       "       [5, 6],\n",
       "       [7, 8]])"
      ]
     },
     "execution_count": 40,
     "metadata": {},
     "output_type": "execute_result"
    }
   ],
   "source": [
    "j.reshape(4,2)"
   ]
  },
  {
   "cell_type": "code",
   "execution_count": 41,
   "id": "be67a556",
   "metadata": {},
   "outputs": [
    {
     "data": {
      "text/plain": [
       "array([[1, 2, 3, 4],\n",
       "       [5, 6, 7, 8]])"
      ]
     },
     "execution_count": 41,
     "metadata": {},
     "output_type": "execute_result"
    }
   ],
   "source": [
    "j"
   ]
  },
  {
   "cell_type": "code",
   "execution_count": 33,
   "id": "4ff3f58b",
   "metadata": {},
   "outputs": [],
   "source": [
    "arr = np.array([[ \n",
    "                 [1,2,3,4],\n",
    "                 [5,6,7,8]\n",
    "               ],[ \n",
    "                 [8,7,6,5],\n",
    "                 [4,3,2,1]\n",
    "               ]\n",
    "])"
   ]
  },
  {
   "cell_type": "code",
   "execution_count": 35,
   "id": "f4c4b837",
   "metadata": {},
   "outputs": [
    {
     "data": {
      "text/plain": [
       "array([[[1, 2, 3, 4],\n",
       "        [5, 6, 7, 8]],\n",
       "\n",
       "       [[8, 7, 6, 5],\n",
       "        [4, 3, 2, 1]]])"
      ]
     },
     "execution_count": 35,
     "metadata": {},
     "output_type": "execute_result"
    }
   ],
   "source": [
    "arr"
   ]
  },
  {
   "cell_type": "code",
   "execution_count": 34,
   "id": "ced9b0ca",
   "metadata": {},
   "outputs": [
    {
     "data": {
      "text/plain": [
       "(2, 2, 4)"
      ]
     },
     "execution_count": 34,
     "metadata": {},
     "output_type": "execute_result"
    }
   ],
   "source": [
    "arr.shape  #<- here,1st 2 shows that how many 2 dimensional array you have. 2nd 2 shows that how many rows in one 2 dimensional array\n",
    "           #third 4 shows the total column in the array   a"
   ]
  },
  {
   "cell_type": "code",
   "execution_count": null,
   "id": "2d37f8a4",
   "metadata": {},
   "outputs": [],
   "source": []
  },
  {
   "cell_type": "code",
   "execution_count": 44,
   "id": "47329920",
   "metadata": {},
   "outputs": [],
   "source": [
    "arr = np.array([[ \n",
    "                 [1,2,3,4],\n",
    "                 [5,6,7,8]\n",
    "               ],[ \n",
    "                 [8,7,6,5],\n",
    "                 [4,3,2,1]\n",
    "               ],[\n",
    "                 [9,10,11,12],\n",
    "                 [13,14,15,16]\n",
    "]\n",
    "])"
   ]
  },
  {
   "cell_type": "code",
   "execution_count": 46,
   "id": "04b5ebcc",
   "metadata": {},
   "outputs": [
    {
     "data": {
      "text/plain": [
       "(3, 2, 4)"
      ]
     },
     "execution_count": 46,
     "metadata": {},
     "output_type": "execute_result"
    }
   ],
   "source": [
    "arr.shape    #<- first 3 numbr shows the total number of 2nd dimension array. second 2 shows the no. of rows in every 2nd dimension array and third 4 shows the column in the array"
   ]
  },
  {
   "cell_type": "code",
   "execution_count": null,
   "id": "ba81c911",
   "metadata": {},
   "outputs": [],
   "source": []
  },
  {
   "cell_type": "code",
   "execution_count": 47,
   "id": "5ec3b03d",
   "metadata": {},
   "outputs": [],
   "source": [
    "arr = np.array([[ \n",
    "                 [1,2,3,4],\n",
    "                 [5,6,7,8]\n",
    "               ],[ \n",
    "                 [8,7,6,5],\n",
    "                 [4,3,2,1]\n",
    "               ]\n",
    "],ndmin=10)"
   ]
  },
  {
   "cell_type": "code",
   "execution_count": 48,
   "id": "02a08cae",
   "metadata": {},
   "outputs": [
    {
     "data": {
      "text/plain": [
       "(1, 1, 1, 1, 1, 1, 1, 2, 2, 4)"
      ]
     },
     "execution_count": 48,
     "metadata": {},
     "output_type": "execute_result"
    }
   ],
   "source": [
    "arr.shape  #<- it shows the total attribute as per size of its dimension"
   ]
  },
  {
   "cell_type": "code",
   "execution_count": 49,
   "id": "ad842d14",
   "metadata": {},
   "outputs": [
    {
     "data": {
      "text/plain": [
       "array([[[[[[[[[[1, 2, 3, 4],\n",
       "               [5, 6, 7, 8]],\n",
       "\n",
       "              [[8, 7, 6, 5],\n",
       "               [4, 3, 2, 1]]]]]]]]]])"
      ]
     },
     "execution_count": 49,
     "metadata": {},
     "output_type": "execute_result"
    }
   ],
   "source": [
    "arr"
   ]
  },
  {
   "cell_type": "code",
   "execution_count": null,
   "id": "8ecb39c6",
   "metadata": {},
   "outputs": [],
   "source": []
  },
  {
   "cell_type": "markdown",
   "id": "6f1eb126",
   "metadata": {},
   "source": [
    "# dtype\n",
    "It tell about the type of the data"
   ]
  },
  {
   "cell_type": "code",
   "execution_count": 76,
   "id": "7c34808b",
   "metadata": {},
   "outputs": [],
   "source": [
    "arr = np.array([[1,2,3,4],\n",
    "                [5,6,7,8],\n",
    "                [9,0,11,12]])"
   ]
  },
  {
   "cell_type": "code",
   "execution_count": 77,
   "id": "26c759e9",
   "metadata": {},
   "outputs": [
    {
     "data": {
      "text/plain": [
       "dtype('int32')"
      ]
     },
     "execution_count": 77,
     "metadata": {},
     "output_type": "execute_result"
    }
   ],
   "source": [
    "arr.dtype"
   ]
  },
  {
   "cell_type": "code",
   "execution_count": 78,
   "id": "0c00e76e",
   "metadata": {},
   "outputs": [],
   "source": [
    "arr = np.array([\"mangoes\",\"apple\",\"cherry\"])"
   ]
  },
  {
   "cell_type": "code",
   "execution_count": 79,
   "id": "2d1fa625",
   "metadata": {},
   "outputs": [
    {
     "data": {
      "text/plain": [
       "dtype('<U7')"
      ]
     },
     "execution_count": 79,
     "metadata": {},
     "output_type": "execute_result"
    }
   ],
   "source": [
    "arr.dtype   #<-  It shows unicode. In mathamatics, strings can be called as in form of unicode"
   ]
  },
  {
   "cell_type": "code",
   "execution_count": null,
   "id": "082b7d7e",
   "metadata": {},
   "outputs": [],
   "source": [
    "i - integer\n",
    "s - string\n",
    "b - boolean\n",
    "c - complex\n",
    "f - float"
   ]
  },
  {
   "cell_type": "code",
   "execution_count": 103,
   "id": "c945f6ca",
   "metadata": {},
   "outputs": [],
   "source": [
    "arr = np.array([\"mangoes\",\"apple\",\"cherry\",9.9])  #<- numpy can support hetrogeneous data"
   ]
  },
  {
   "cell_type": "code",
   "execution_count": 104,
   "id": "4de82029",
   "metadata": {},
   "outputs": [
    {
     "data": {
      "text/plain": [
       "array(['mangoes', 'apple', 'cherry', '9.9'], dtype='<U32')"
      ]
     },
     "execution_count": 104,
     "metadata": {},
     "output_type": "execute_result"
    }
   ],
   "source": [
    "arr"
   ]
  },
  {
   "cell_type": "code",
   "execution_count": 105,
   "id": "bb7fc80b",
   "metadata": {},
   "outputs": [],
   "source": [
    "arr = np.array([[1,2,3,4],\n",
    "                [5,6,7,8],\n",
    "                [9,0,11,12]], dtype='int16')"
   ]
  },
  {
   "cell_type": "code",
   "execution_count": 106,
   "id": "e800c182",
   "metadata": {},
   "outputs": [
    {
     "data": {
      "text/plain": [
       "array([[ 1,  2,  3,  4],\n",
       "       [ 5,  6,  7,  8],\n",
       "       [ 9,  0, 11, 12]], dtype=int16)"
      ]
     },
     "execution_count": 106,
     "metadata": {},
     "output_type": "execute_result"
    }
   ],
   "source": [
    "arr"
   ]
  },
  {
   "cell_type": "code",
   "execution_count": 107,
   "id": "937181d7",
   "metadata": {},
   "outputs": [
    {
     "data": {
      "text/plain": [
       "2"
      ]
     },
     "execution_count": 107,
     "metadata": {},
     "output_type": "execute_result"
    }
   ],
   "source": [
    "arr.ndim"
   ]
  },
  {
   "cell_type": "code",
   "execution_count": 84,
   "id": "a137e33b",
   "metadata": {},
   "outputs": [
    {
     "data": {
      "text/plain": [
       "dtype('int16')"
      ]
     },
     "execution_count": 84,
     "metadata": {},
     "output_type": "execute_result"
    }
   ],
   "source": [
    "arr.dtype"
   ]
  },
  {
   "cell_type": "code",
   "execution_count": null,
   "id": "77eebf54",
   "metadata": {},
   "outputs": [],
   "source": [
    "int16 int32 shows the space given to every integer"
   ]
  },
  {
   "cell_type": "code",
   "execution_count": 85,
   "id": "a7fbf84d",
   "metadata": {},
   "outputs": [],
   "source": [
    "arr = np.array([[1,2,3,4],\n",
    "                [5,6,7,8],\n",
    "                [9,0,11,12]], dtype='S')"
   ]
  },
  {
   "cell_type": "code",
   "execution_count": 86,
   "id": "4d45b7c7",
   "metadata": {},
   "outputs": [
    {
     "data": {
      "text/plain": [
       "dtype('S2')"
      ]
     },
     "execution_count": 86,
     "metadata": {},
     "output_type": "execute_result"
    }
   ],
   "source": [
    "arr.dtype"
   ]
  },
  {
   "cell_type": "code",
   "execution_count": 87,
   "id": "43c825b1",
   "metadata": {},
   "outputs": [],
   "source": [
    "arr = np.array([[\"1\",2,3,4],\n",
    "                [5,6,7,8],\n",
    "                [9,0,11,12]])"
   ]
  },
  {
   "cell_type": "code",
   "execution_count": 88,
   "id": "bd6c577b",
   "metadata": {},
   "outputs": [
    {
     "data": {
      "text/plain": [
       "dtype('<U2')"
      ]
     },
     "execution_count": 88,
     "metadata": {},
     "output_type": "execute_result"
    }
   ],
   "source": [
    "arr.dtype"
   ]
  },
  {
   "cell_type": "code",
   "execution_count": null,
   "id": "d7b4d9b4",
   "metadata": {},
   "outputs": [],
   "source": []
  },
  {
   "cell_type": "markdown",
   "id": "6105e7aa",
   "metadata": {},
   "source": [
    "# Size\n",
    "It shows the total no. of elements inside the array"
   ]
  },
  {
   "cell_type": "code",
   "execution_count": 108,
   "id": "292e5397",
   "metadata": {},
   "outputs": [],
   "source": [
    "arr = np.array([[1,2,3,4],\n",
    "                [5,6,7,8],\n",
    "                [9,10,11,12]])"
   ]
  },
  {
   "cell_type": "code",
   "execution_count": 93,
   "id": "2c1a3056",
   "metadata": {},
   "outputs": [
    {
     "data": {
      "text/plain": [
       "12"
      ]
     },
     "execution_count": 93,
     "metadata": {},
     "output_type": "execute_result"
    }
   ],
   "source": [
    "arr.size    #<- this size is an attribute"
   ]
  },
  {
   "cell_type": "code",
   "execution_count": null,
   "id": "3012f0c4",
   "metadata": {},
   "outputs": [],
   "source": []
  },
  {
   "cell_type": "code",
   "execution_count": null,
   "id": "927645e6",
   "metadata": {},
   "outputs": [],
   "source": [
    "#This following size is an function that which we take from numpy"
   ]
  },
  {
   "cell_type": "code",
   "execution_count": null,
   "id": "4cef937e",
   "metadata": {},
   "outputs": [],
   "source": [
    "When you want to the number of elements from row or column\n",
    "Syntax:-  np.size(name of ndarry, 1(row) & 0(column))"
   ]
  },
  {
   "cell_type": "code",
   "execution_count": 109,
   "id": "fc54dfc2",
   "metadata": {},
   "outputs": [
    {
     "data": {
      "text/plain": [
       "4"
      ]
     },
     "execution_count": 109,
     "metadata": {},
     "output_type": "execute_result"
    }
   ],
   "source": [
    "np.size(arr,1)"
   ]
  },
  {
   "cell_type": "code",
   "execution_count": 92,
   "id": "df97334e",
   "metadata": {},
   "outputs": [
    {
     "data": {
      "text/plain": [
       "3"
      ]
     },
     "execution_count": 92,
     "metadata": {},
     "output_type": "execute_result"
    }
   ],
   "source": [
    "np.size(arr,0)"
   ]
  },
  {
   "cell_type": "code",
   "execution_count": null,
   "id": "3a735470",
   "metadata": {},
   "outputs": [],
   "source": []
  },
  {
   "cell_type": "markdown",
   "id": "84bfd91c",
   "metadata": {},
   "source": [
    "# Itemsize\n",
    "It tells us about the length of the single element in bytes"
   ]
  },
  {
   "cell_type": "code",
   "execution_count": 55,
   "id": "65045b23",
   "metadata": {},
   "outputs": [],
   "source": [
    "arr = np.array([[1,2,3,4],\n",
    "                [5,6,7,8],\n",
    "                [9,0,11,12]],dtype='int8')"
   ]
  },
  {
   "cell_type": "code",
   "execution_count": 56,
   "id": "2465fd2d",
   "metadata": {},
   "outputs": [
    {
     "data": {
      "text/plain": [
       "1"
      ]
     },
     "execution_count": 56,
     "metadata": {},
     "output_type": "execute_result"
    }
   ],
   "source": [
    "arr.itemsize    #<- each element has given these bytes of size"
   ]
  },
  {
   "cell_type": "code",
   "execution_count": 97,
   "id": "4e2d8e43",
   "metadata": {},
   "outputs": [],
   "source": [
    "arr = np.array([[1,2,3,4],\n",
    "                [5,6,7,8],\n",
    "                [9,0,11,12]],dtype='int64')"
   ]
  },
  {
   "cell_type": "code",
   "execution_count": 98,
   "id": "d3f24bc0",
   "metadata": {},
   "outputs": [
    {
     "data": {
      "text/plain": [
       "8"
      ]
     },
     "execution_count": 98,
     "metadata": {},
     "output_type": "execute_result"
    }
   ],
   "source": [
    "arr.itemsize    #<- you have converted this element in 8 byte through dtype function"
   ]
  },
  {
   "cell_type": "code",
   "execution_count": null,
   "id": "6516d0a0",
   "metadata": {},
   "outputs": [],
   "source": []
  },
  {
   "cell_type": "code",
   "execution_count": null,
   "id": "b439c388",
   "metadata": {},
   "outputs": [],
   "source": []
  },
  {
   "cell_type": "markdown",
   "id": "a1d91ef3",
   "metadata": {},
   "source": [
    "# nbytes\n",
    "it gives the total number of bytes in the array"
   ]
  },
  {
   "cell_type": "code",
   "execution_count": 75,
   "id": "13ce2035",
   "metadata": {},
   "outputs": [],
   "source": [
    "arr=np.array([\"hii\",\"Hello\",2,4])"
   ]
  },
  {
   "cell_type": "code",
   "execution_count": 76,
   "id": "d80be485",
   "metadata": {
    "scrolled": true
   },
   "outputs": [
    {
     "data": {
      "text/plain": [
       "44"
      ]
     },
     "execution_count": 76,
     "metadata": {},
     "output_type": "execute_result"
    }
   ],
   "source": [
    "arr.itemsize"
   ]
  },
  {
   "cell_type": "code",
   "execution_count": 77,
   "id": "9a9c5f1a",
   "metadata": {},
   "outputs": [
    {
     "data": {
      "text/plain": [
       "176"
      ]
     },
     "execution_count": 77,
     "metadata": {},
     "output_type": "execute_result"
    }
   ],
   "source": [
    "arr.nbytes     #(44*4(total number of elements)=176)"
   ]
  },
  {
   "cell_type": "code",
   "execution_count": null,
   "id": "17bdec5c",
   "metadata": {},
   "outputs": [],
   "source": []
  },
  {
   "cell_type": "code",
   "execution_count": 72,
   "id": "aa90723a",
   "metadata": {},
   "outputs": [],
   "source": [
    "arr = np.array([[1,2,3,4],\n",
    "                [5,6,7,8],\n",
    "                [9,0,11,12]])"
   ]
  },
  {
   "cell_type": "code",
   "execution_count": 73,
   "id": "a7ba4fd8",
   "metadata": {},
   "outputs": [
    {
     "data": {
      "text/plain": [
       "4"
      ]
     },
     "execution_count": 73,
     "metadata": {},
     "output_type": "execute_result"
    }
   ],
   "source": [
    "arr.itemsize"
   ]
  },
  {
   "cell_type": "code",
   "execution_count": 100,
   "id": "e9a79ebe",
   "metadata": {},
   "outputs": [
    {
     "data": {
      "text/plain": [
       "96"
      ]
     },
     "execution_count": 100,
     "metadata": {},
     "output_type": "execute_result"
    }
   ],
   "source": [
    "arr.nbytes   #<- each element has 8 bytes and total 12 elements in array. so total 12*8=96"
   ]
  },
  {
   "cell_type": "code",
   "execution_count": null,
   "id": "2ff10abe",
   "metadata": {},
   "outputs": [],
   "source": [
    " "
   ]
  },
  {
   "cell_type": "code",
   "execution_count": 96,
   "id": "51642354",
   "metadata": {},
   "outputs": [],
   "source": [
    "arr = np.array([[\"1\",2,3,4],\n",
    "                [5,6,7,8],\n",
    "                [9,0,11,12]])"
   ]
  },
  {
   "cell_type": "code",
   "execution_count": 97,
   "id": "0db76299",
   "metadata": {},
   "outputs": [
    {
     "data": {
      "text/plain": [
       "array([['1', '2', '3', '4'],\n",
       "       ['5', '6', '7', '8'],\n",
       "       ['9', '0', '11', '12']], dtype='<U11')"
      ]
     },
     "execution_count": 97,
     "metadata": {},
     "output_type": "execute_result"
    }
   ],
   "source": [
    "arr"
   ]
  },
  {
   "cell_type": "code",
   "execution_count": 98,
   "id": "596e17db",
   "metadata": {},
   "outputs": [
    {
     "data": {
      "text/plain": [
       "44"
      ]
     },
     "execution_count": 98,
     "metadata": {},
     "output_type": "execute_result"
    }
   ],
   "source": [
    "arr.itemsize   #<- it gives 8 bytes of size to every element though there are string inside the array"
   ]
  },
  {
   "cell_type": "code",
   "execution_count": 99,
   "id": "0726707f",
   "metadata": {},
   "outputs": [
    {
     "data": {
      "text/plain": [
       "528"
      ]
     },
     "execution_count": 99,
     "metadata": {},
     "output_type": "execute_result"
    }
   ],
   "source": [
    "arr.nbytes"
   ]
  },
  {
   "cell_type": "code",
   "execution_count": null,
   "id": "00bc1a84",
   "metadata": {},
   "outputs": [],
   "source": []
  },
  {
   "cell_type": "code",
   "execution_count": null,
   "id": "d8b13f3e",
   "metadata": {},
   "outputs": [],
   "source": []
  },
  {
   "cell_type": "code",
   "execution_count": 39,
   "id": "9d20ff0f",
   "metadata": {},
   "outputs": [
    {
     "data": {
      "application/javascript": [
       "IPython.notebook.set_autosave_interval(120000)"
      ]
     },
     "metadata": {},
     "output_type": "display_data"
    },
    {
     "name": "stdout",
     "output_type": "stream",
     "text": [
      "Autosaving every 120 seconds\n"
     ]
    }
   ],
   "source": [
    "%autosave 120"
   ]
  }
 ],
 "metadata": {
  "kernelspec": {
   "display_name": "Python 3",
   "language": "python",
   "name": "python3"
  },
  "language_info": {
   "codemirror_mode": {
    "name": "ipython",
    "version": 3
   },
   "file_extension": ".py",
   "mimetype": "text/x-python",
   "name": "python",
   "nbconvert_exporter": "python",
   "pygments_lexer": "ipython3",
   "version": "3.8.8"
  }
 },
 "nbformat": 4,
 "nbformat_minor": 5
}
