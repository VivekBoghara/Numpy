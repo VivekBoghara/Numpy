{
 "cells": [
  {
   "cell_type": "markdown",
   "id": "f183da26",
   "metadata": {},
   "source": [
    "# More with numpy"
   ]
  },
  {
   "cell_type": "code",
   "execution_count": 1,
   "id": "5634d2cc",
   "metadata": {},
   "outputs": [],
   "source": [
    "import numpy as np"
   ]
  },
  {
   "cell_type": "code",
   "execution_count": 2,
   "id": "99ac38aa",
   "metadata": {},
   "outputs": [],
   "source": [
    "arr1=np.array([[1,2,3],[4,5,6]])\n",
    "arr2=np.array([[11,12,13],[14,15,16]])"
   ]
  },
  {
   "cell_type": "code",
   "execution_count": null,
   "id": "953582b3",
   "metadata": {},
   "outputs": [],
   "source": []
  },
  {
   "cell_type": "markdown",
   "id": "c679fd73",
   "metadata": {},
   "source": [
    "# Stacking"
   ]
  },
  {
   "cell_type": "code",
   "execution_count": 7,
   "id": "046d8070",
   "metadata": {},
   "outputs": [
    {
     "data": {
      "text/plain": [
       "array([[1, 2, 3],\n",
       "       [4, 5, 6]])"
      ]
     },
     "execution_count": 7,
     "metadata": {},
     "output_type": "execute_result"
    }
   ],
   "source": [
    "arr1 "
   ]
  },
  {
   "cell_type": "code",
   "execution_count": 8,
   "id": "35fe695f",
   "metadata": {},
   "outputs": [
    {
     "data": {
      "text/plain": [
       "array([[11, 12, 13],\n",
       "       [14, 15, 16]])"
      ]
     },
     "execution_count": 8,
     "metadata": {},
     "output_type": "execute_result"
    }
   ],
   "source": [
    "arr2"
   ]
  },
  {
   "cell_type": "code",
   "execution_count": null,
   "id": "20c3ef40",
   "metadata": {},
   "outputs": [],
   "source": [
    "# hstack() - Horizontal stack & vstack() - vartical stack"
   ]
  },
  {
   "cell_type": "code",
   "execution_count": 10,
   "id": "25a47ef3",
   "metadata": {},
   "outputs": [
    {
     "data": {
      "text/plain": [
       "array([[ 1,  2,  3],\n",
       "       [ 4,  5,  6],\n",
       "       [11, 12, 13],\n",
       "       [14, 15, 16]])"
      ]
     },
     "execution_count": 10,
     "metadata": {},
     "output_type": "execute_result"
    }
   ],
   "source": [
    "np.vstack((arr1,arr2))  # It will add the array in vertical side"
   ]
  },
  {
   "cell_type": "code",
   "execution_count": 11,
   "id": "d55379d7",
   "metadata": {},
   "outputs": [
    {
     "data": {
      "text/plain": [
       "array([[ 1,  2,  3],\n",
       "       [ 4,  5,  6],\n",
       "       [11, 12, 13],\n",
       "       [14, 15, 16],\n",
       "       [ 1,  2,  3],\n",
       "       [ 4,  5,  6],\n",
       "       [11, 12, 13],\n",
       "       [14, 15, 16]])"
      ]
     },
     "execution_count": 11,
     "metadata": {},
     "output_type": "execute_result"
    }
   ],
   "source": [
    "np.vstack((arr1,arr2,arr1,arr2))  "
   ]
  },
  {
   "cell_type": "code",
   "execution_count": 14,
   "id": "bef5db27",
   "metadata": {},
   "outputs": [
    {
     "data": {
      "text/plain": [
       "array([[ 1,  2,  3, 11, 12, 13],\n",
       "       [ 4,  5,  6, 14, 15, 16]])"
      ]
     },
     "execution_count": 14,
     "metadata": {},
     "output_type": "execute_result"
    }
   ],
   "source": [
    "np.hstack((arr1,arr2))   #It will add the array in horizontal right side"
   ]
  },
  {
   "cell_type": "code",
   "execution_count": 4,
   "id": "98ad3c6f",
   "metadata": {},
   "outputs": [],
   "source": [
    "arr3=np.array([100,200,300])"
   ]
  },
  {
   "cell_type": "code",
   "execution_count": 20,
   "id": "be7eec28",
   "metadata": {},
   "outputs": [
    {
     "data": {
      "text/plain": [
       "array([[  1,   2,   3],\n",
       "       [  4,   5,   6],\n",
       "       [100, 200, 300]])"
      ]
     },
     "execution_count": 20,
     "metadata": {},
     "output_type": "execute_result"
    }
   ],
   "source": [
    "np.vstack((arr1,arr3))"
   ]
  },
  {
   "cell_type": "code",
   "execution_count": 5,
   "id": "05e614ae",
   "metadata": {},
   "outputs": [
    {
     "ename": "ValueError",
     "evalue": "all the input arrays must have same number of dimensions, but the array at index 0 has 2 dimension(s) and the array at index 1 has 1 dimension(s)",
     "output_type": "error",
     "traceback": [
      "\u001b[1;31m---------------------------------------------------------------------------\u001b[0m",
      "\u001b[1;31mValueError\u001b[0m                                Traceback (most recent call last)",
      "\u001b[1;32m<ipython-input-5-ae154b1faf20>\u001b[0m in \u001b[0;36m<module>\u001b[1;34m\u001b[0m\n\u001b[1;32m----> 1\u001b[1;33m \u001b[0mnp\u001b[0m\u001b[1;33m.\u001b[0m\u001b[0mhstack\u001b[0m\u001b[1;33m(\u001b[0m\u001b[1;33m(\u001b[0m\u001b[0marr1\u001b[0m\u001b[1;33m,\u001b[0m\u001b[0marr3\u001b[0m\u001b[1;33m)\u001b[0m\u001b[1;33m)\u001b[0m\u001b[1;33m\u001b[0m\u001b[1;33m\u001b[0m\u001b[0m\n\u001b[0m",
      "\u001b[1;32m<__array_function__ internals>\u001b[0m in \u001b[0;36mhstack\u001b[1;34m(*args, **kwargs)\u001b[0m\n",
      "\u001b[1;32m~\\anaconda3\\lib\\site-packages\\numpy\\core\\shape_base.py\u001b[0m in \u001b[0;36mhstack\u001b[1;34m(tup)\u001b[0m\n\u001b[0;32m    344\u001b[0m         \u001b[1;32mreturn\u001b[0m \u001b[0m_nx\u001b[0m\u001b[1;33m.\u001b[0m\u001b[0mconcatenate\u001b[0m\u001b[1;33m(\u001b[0m\u001b[0marrs\u001b[0m\u001b[1;33m,\u001b[0m \u001b[1;36m0\u001b[0m\u001b[1;33m)\u001b[0m\u001b[1;33m\u001b[0m\u001b[1;33m\u001b[0m\u001b[0m\n\u001b[0;32m    345\u001b[0m     \u001b[1;32melse\u001b[0m\u001b[1;33m:\u001b[0m\u001b[1;33m\u001b[0m\u001b[1;33m\u001b[0m\u001b[0m\n\u001b[1;32m--> 346\u001b[1;33m         \u001b[1;32mreturn\u001b[0m \u001b[0m_nx\u001b[0m\u001b[1;33m.\u001b[0m\u001b[0mconcatenate\u001b[0m\u001b[1;33m(\u001b[0m\u001b[0marrs\u001b[0m\u001b[1;33m,\u001b[0m \u001b[1;36m1\u001b[0m\u001b[1;33m)\u001b[0m\u001b[1;33m\u001b[0m\u001b[1;33m\u001b[0m\u001b[0m\n\u001b[0m\u001b[0;32m    347\u001b[0m \u001b[1;33m\u001b[0m\u001b[0m\n\u001b[0;32m    348\u001b[0m \u001b[1;33m\u001b[0m\u001b[0m\n",
      "\u001b[1;32m<__array_function__ internals>\u001b[0m in \u001b[0;36mconcatenate\u001b[1;34m(*args, **kwargs)\u001b[0m\n",
      "\u001b[1;31mValueError\u001b[0m: all the input arrays must have same number of dimensions, but the array at index 0 has 2 dimension(s) and the array at index 1 has 1 dimension(s)"
     ]
    }
   ],
   "source": [
    "np.hstack((arr1,arr3))"
   ]
  },
  {
   "cell_type": "code",
   "execution_count": 23,
   "id": "5a8581da",
   "metadata": {},
   "outputs": [
    {
     "data": {
      "text/plain": [
       "array([100, 200, 300])"
      ]
     },
     "execution_count": 23,
     "metadata": {},
     "output_type": "execute_result"
    }
   ],
   "source": [
    "arr3"
   ]
  },
  {
   "cell_type": "code",
   "execution_count": 2,
   "id": "55b76e26",
   "metadata": {},
   "outputs": [],
   "source": [
    "import numpy as np\n",
    "arr4=np.array([500,600,700])"
   ]
  },
  {
   "cell_type": "code",
   "execution_count": 24,
   "id": "44fb95fb",
   "metadata": {},
   "outputs": [
    {
     "data": {
      "text/plain": [
       "array([[[100, 500],\n",
       "        [200, 600],\n",
       "        [300, 700]]])"
      ]
     },
     "execution_count": 24,
     "metadata": {},
     "output_type": "execute_result"
    }
   ],
   "source": [
    "#dstack\n",
    "np.dstack((arr3,arr4))   #<- This will happened if the both mateix have same number of elements\n",
    "# This will vertically stack both array and then transpose of it"
   ]
  },
  {
   "cell_type": "code",
   "execution_count": null,
   "id": "664267dd",
   "metadata": {},
   "outputs": [],
   "source": []
  },
  {
   "cell_type": "code",
   "execution_count": null,
   "id": "ee92840f",
   "metadata": {},
   "outputs": [],
   "source": []
  },
  {
   "cell_type": "markdown",
   "id": "a1eddb5a",
   "metadata": {},
   "source": [
    "# spliting\n",
    "Break one array into multiple array"
   ]
  },
  {
   "cell_type": "code",
   "execution_count": null,
   "id": "59feb763",
   "metadata": {},
   "outputs": [],
   "source": [
    "#array_split()"
   ]
  },
  {
   "cell_type": "code",
   "execution_count": 25,
   "id": "778ecc1d",
   "metadata": {},
   "outputs": [
    {
     "data": {
      "text/plain": [
       "array([100, 200, 300])"
      ]
     },
     "execution_count": 25,
     "metadata": {},
     "output_type": "execute_result"
    }
   ],
   "source": [
    "arr3"
   ]
  },
  {
   "cell_type": "code",
   "execution_count": 26,
   "id": "e790000e",
   "metadata": {},
   "outputs": [
    {
     "data": {
      "text/plain": [
       "[array([100]), array([200]), array([300])]"
      ]
     },
     "execution_count": 26,
     "metadata": {},
     "output_type": "execute_result"
    }
   ],
   "source": [
    "#array_split()\n",
    "np.array_split(arr3,3)"
   ]
  },
  {
   "cell_type": "code",
   "execution_count": 31,
   "id": "5ff92670",
   "metadata": {},
   "outputs": [],
   "source": [
    "br= np.array_split(arr3,3)"
   ]
  },
  {
   "cell_type": "code",
   "execution_count": 32,
   "id": "1807f6f6",
   "metadata": {},
   "outputs": [
    {
     "data": {
      "text/plain": [
       "array([100])"
      ]
     },
     "execution_count": 32,
     "metadata": {},
     "output_type": "execute_result"
    }
   ],
   "source": [
    "br[0]"
   ]
  },
  {
   "cell_type": "code",
   "execution_count": 5,
   "id": "44dc59ea",
   "metadata": {},
   "outputs": [
    {
     "data": {
      "text/plain": [
       "[array([500]), array([600]), array([700])]"
      ]
     },
     "execution_count": 5,
     "metadata": {},
     "output_type": "execute_result"
    }
   ],
   "source": [
    "np.array_split(arr4,3)"
   ]
  },
  {
   "cell_type": "code",
   "execution_count": 7,
   "id": "b915c9b1",
   "metadata": {},
   "outputs": [],
   "source": [
    "x=np.array([[1,2,3],[4,5,6]])"
   ]
  },
  {
   "cell_type": "code",
   "execution_count": 8,
   "id": "38efdd74",
   "metadata": {},
   "outputs": [
    {
     "data": {
      "text/plain": [
       "[array([[1, 2, 3]]), array([[4, 5, 6]])]"
      ]
     },
     "execution_count": 8,
     "metadata": {},
     "output_type": "execute_result"
    }
   ],
   "source": [
    "np.array_split(x,2)"
   ]
  },
  {
   "cell_type": "code",
   "execution_count": 10,
   "id": "b0252982",
   "metadata": {},
   "outputs": [
    {
     "data": {
      "text/plain": [
       "[array([[1, 2, 3]]), array([[4, 5, 6]]), array([], shape=(0, 3), dtype=int32)]"
      ]
     },
     "execution_count": 10,
     "metadata": {},
     "output_type": "execute_result"
    }
   ],
   "source": [
    "np.array_split(x,3)"
   ]
  },
  {
   "cell_type": "code",
   "execution_count": null,
   "id": "5017df2f",
   "metadata": {},
   "outputs": [],
   "source": []
  },
  {
   "cell_type": "code",
   "execution_count": 6,
   "id": "23f45c7b",
   "metadata": {},
   "outputs": [
    {
     "data": {
      "text/plain": [
       "[array([100]),\n",
       " array([200]),\n",
       " array([300]),\n",
       " array([], dtype=int32),\n",
       " array([], dtype=int32),\n",
       " array([], dtype=int32),\n",
       " array([], dtype=int32),\n",
       " array([], dtype=int32)]"
      ]
     },
     "execution_count": 6,
     "metadata": {},
     "output_type": "execute_result"
    }
   ],
   "source": [
    "np.array_split(arr3,8)  #here, there will be 3 array with values and the 4th will be empty array"
   ]
  },
  {
   "cell_type": "code",
   "execution_count": 35,
   "id": "0db283c3",
   "metadata": {},
   "outputs": [
    {
     "data": {
      "text/plain": [
       "[array([100, 200]), array([300])]"
      ]
     },
     "execution_count": 35,
     "metadata": {},
     "output_type": "execute_result"
    }
   ],
   "source": [
    "np.array_split(arr3,2)   #here, it will give first 2 values in 1st array and another 1 value will be given in 2nd array "
   ]
  },
  {
   "cell_type": "code",
   "execution_count": 36,
   "id": "8758a31c",
   "metadata": {},
   "outputs": [
    {
     "data": {
      "text/plain": [
       "[array([100]),\n",
       " array([200]),\n",
       " array([300]),\n",
       " array([], dtype=int32),\n",
       " array([], dtype=int32),\n",
       " array([], dtype=int32),\n",
       " array([], dtype=int32),\n",
       " array([], dtype=int32),\n",
       " array([], dtype=int32),\n",
       " array([], dtype=int32)]"
      ]
     },
     "execution_count": 36,
     "metadata": {},
     "output_type": "execute_result"
    }
   ],
   "source": [
    "np.array_split(arr3,10)   #here, the first 3 array will be take the values and another 7 will be remain empty"
   ]
  },
  {
   "cell_type": "code",
   "execution_count": 37,
   "id": "ac331e59",
   "metadata": {},
   "outputs": [
    {
     "data": {
      "text/plain": [
       "array([[1, 2, 3],\n",
       "       [4, 5, 6]])"
      ]
     },
     "execution_count": 37,
     "metadata": {},
     "output_type": "execute_result"
    }
   ],
   "source": [
    "arr1"
   ]
  },
  {
   "cell_type": "code",
   "execution_count": 38,
   "id": "a98864e5",
   "metadata": {},
   "outputs": [
    {
     "data": {
      "text/plain": [
       "[array([[1, 2, 3]]),\n",
       " array([[4, 5, 6]]),\n",
       " array([], shape=(0, 3), dtype=int32),\n",
       " array([], shape=(0, 3), dtype=int32)]"
      ]
     },
     "execution_count": 38,
     "metadata": {},
     "output_type": "execute_result"
    }
   ],
   "source": [
    "np.array_split(arr1,4)"
   ]
  },
  {
   "cell_type": "code",
   "execution_count": 39,
   "id": "5e055c9e",
   "metadata": {},
   "outputs": [
    {
     "data": {
      "text/plain": [
       "[array([[1, 2, 3]]),\n",
       " array([[4, 5, 6]]),\n",
       " array([], shape=(0, 3), dtype=int32),\n",
       " array([], shape=(0, 3), dtype=int32),\n",
       " array([], shape=(0, 3), dtype=int32),\n",
       " array([], shape=(0, 3), dtype=int32)]"
      ]
     },
     "execution_count": 39,
     "metadata": {},
     "output_type": "execute_result"
    }
   ],
   "source": [
    "np.array_split(arr1,6)"
   ]
  },
  {
   "cell_type": "code",
   "execution_count": null,
   "id": "ead342ed",
   "metadata": {},
   "outputs": [],
   "source": []
  },
  {
   "cell_type": "markdown",
   "id": "f8cca403",
   "metadata": {},
   "source": [
    "# searching"
   ]
  },
  {
   "cell_type": "code",
   "execution_count": 16,
   "id": "ed9d130e",
   "metadata": {},
   "outputs": [],
   "source": [
    "arr=np.array([1,2,3,4,5,6,3,3])"
   ]
  },
  {
   "cell_type": "code",
   "execution_count": 17,
   "id": "d6afdc03",
   "metadata": {},
   "outputs": [
    {
     "data": {
      "text/plain": [
       "array([1, 2, 3, 4, 5, 6, 3, 3])"
      ]
     },
     "execution_count": 17,
     "metadata": {},
     "output_type": "execute_result"
    }
   ],
   "source": [
    "arr"
   ]
  },
  {
   "cell_type": "code",
   "execution_count": 48,
   "id": "5aa2d448",
   "metadata": {},
   "outputs": [
    {
     "data": {
      "text/plain": [
       "(array([2, 6, 7], dtype=int64),)"
      ]
     },
     "execution_count": 48,
     "metadata": {},
     "output_type": "execute_result"
    }
   ],
   "source": [
    "#where\n",
    "np.where(arr==3)   #It return the index number of the array where values will be 3"
   ]
  },
  {
   "cell_type": "code",
   "execution_count": 9,
   "id": "50024c49",
   "metadata": {},
   "outputs": [
    {
     "data": {
      "text/plain": [
       "(array([], dtype=int64),)"
      ]
     },
     "execution_count": 9,
     "metadata": {},
     "output_type": "execute_result"
    }
   ],
   "source": [
    "np.where(arr==25)"
   ]
  },
  {
   "cell_type": "code",
   "execution_count": 50,
   "id": "d815cdce",
   "metadata": {},
   "outputs": [
    {
     "data": {
      "text/plain": [
       "(array([0, 1, 2, 6, 7], dtype=int64),)"
      ]
     },
     "execution_count": 50,
     "metadata": {},
     "output_type": "execute_result"
    }
   ],
   "source": [
    "np.where(arr<4)  #It gives the index of that elements which has value <4"
   ]
  },
  {
   "cell_type": "code",
   "execution_count": 52,
   "id": "4f6bf83f",
   "metadata": {},
   "outputs": [
    {
     "data": {
      "text/plain": [
       "array([[1, 2, 3],\n",
       "       [4, 5, 6]])"
      ]
     },
     "execution_count": 52,
     "metadata": {},
     "output_type": "execute_result"
    }
   ],
   "source": [
    "arr1"
   ]
  },
  {
   "cell_type": "code",
   "execution_count": 51,
   "id": "47266bf1",
   "metadata": {},
   "outputs": [
    {
     "data": {
      "text/plain": [
       "(array([1], dtype=int64), array([0], dtype=int64))"
      ]
     },
     "execution_count": 51,
     "metadata": {},
     "output_type": "execute_result"
    }
   ],
   "source": [
    "np.where(arr1==4)"
   ]
  },
  {
   "cell_type": "code",
   "execution_count": 54,
   "id": "f2100392",
   "metadata": {},
   "outputs": [
    {
     "data": {
      "text/plain": [
       "(array([0], dtype=int64), array([1], dtype=int64))"
      ]
     },
     "execution_count": 54,
     "metadata": {},
     "output_type": "execute_result"
    }
   ],
   "source": [
    "np.where(arr1==2)"
   ]
  },
  {
   "cell_type": "code",
   "execution_count": null,
   "id": "06eb1ea8",
   "metadata": {},
   "outputs": [],
   "source": []
  },
  {
   "cell_type": "markdown",
   "id": "43a7f40b",
   "metadata": {},
   "source": [
    "# Sorting"
   ]
  },
  {
   "cell_type": "code",
   "execution_count": 11,
   "id": "6085a748",
   "metadata": {},
   "outputs": [],
   "source": [
    "newarr=np.array([10,5,6,-10,-7,20,0,4.5,18])"
   ]
  },
  {
   "cell_type": "code",
   "execution_count": 12,
   "id": "29912c5e",
   "metadata": {},
   "outputs": [
    {
     "data": {
      "text/plain": [
       "array([ 10. ,   5. ,   6. , -10. ,  -7. ,  20. ,   0. ,   4.5,  18. ])"
      ]
     },
     "execution_count": 12,
     "metadata": {},
     "output_type": "execute_result"
    }
   ],
   "source": [
    "newarr"
   ]
  },
  {
   "cell_type": "code",
   "execution_count": 57,
   "id": "d6b40acd",
   "metadata": {},
   "outputs": [
    {
     "data": {
      "text/plain": [
       "array([-10. ,  -7. ,   0. ,   4.5,   5. ,   6. ,  10. ,  18. ,  20. ])"
      ]
     },
     "execution_count": 57,
     "metadata": {},
     "output_type": "execute_result"
    }
   ],
   "source": [
    "np.sort(newarr)  #It will print the sorted array in ascending order"
   ]
  },
  {
   "cell_type": "code",
   "execution_count": 60,
   "id": "12c2844b",
   "metadata": {},
   "outputs": [
    {
     "data": {
      "text/plain": [
       "array([ 20. ,  18. ,  10. ,   6. ,   5. ,   4.5,   0. ,  -7. , -10. ])"
      ]
     },
     "execution_count": 60,
     "metadata": {},
     "output_type": "execute_result"
    }
   ],
   "source": [
    "#Descending\n",
    "-np.sort(-newarr)   #It will print all the sorted array in descending order"
   ]
  },
  {
   "cell_type": "code",
   "execution_count": null,
   "id": "66b4dc09",
   "metadata": {},
   "outputs": [],
   "source": []
  },
  {
   "cell_type": "markdown",
   "id": "4b545316",
   "metadata": {},
   "source": [
    "# Any() & All()\n",
    "->any of the particular value among these array will be satisfy with condition then, it will print true.\n",
    "\n",
    " ->if every elements of an array will satisfy the condition, then and then it will print true otherwise it will give false"
   ]
  },
  {
   "cell_type": "code",
   "execution_count": 63,
   "id": "6eb3c83c",
   "metadata": {},
   "outputs": [],
   "source": [
    "newarr= np.array([2,4,6,8,9])"
   ]
  },
  {
   "cell_type": "code",
   "execution_count": 64,
   "id": "67d891ec",
   "metadata": {},
   "outputs": [
    {
     "data": {
      "text/plain": [
       "array([2, 4, 6, 8, 9])"
      ]
     },
     "execution_count": 64,
     "metadata": {},
     "output_type": "execute_result"
    }
   ],
   "source": [
    "newarr"
   ]
  },
  {
   "cell_type": "code",
   "execution_count": 65,
   "id": "ce1151cb",
   "metadata": {},
   "outputs": [
    {
     "data": {
      "text/plain": [
       "True"
      ]
     },
     "execution_count": 65,
     "metadata": {},
     "output_type": "execute_result"
    }
   ],
   "source": [
    "np.any(newarr%2==0)  #any of the particular value among these array will be satisfy with condition then, it will print true. "
   ]
  },
  {
   "cell_type": "code",
   "execution_count": 66,
   "id": "52daeb1e",
   "metadata": {},
   "outputs": [
    {
     "data": {
      "text/plain": [
       "False"
      ]
     },
     "execution_count": 66,
     "metadata": {},
     "output_type": "execute_result"
    }
   ],
   "source": [
    "np.all(newarr%2==0)  #if every elements of an array will satisfy the condition, then and them it will print true otherwise it will give false"
   ]
  },
  {
   "cell_type": "code",
   "execution_count": 24,
   "id": "b33c2395",
   "metadata": {},
   "outputs": [],
   "source": [
    "newarr= np.array([2,4,6,8,10])"
   ]
  },
  {
   "cell_type": "code",
   "execution_count": 69,
   "id": "a11b770e",
   "metadata": {},
   "outputs": [
    {
     "data": {
      "text/plain": [
       "True"
      ]
     },
     "execution_count": 69,
     "metadata": {},
     "output_type": "execute_result"
    }
   ],
   "source": [
    "np.all(newarr%2==0)"
   ]
  },
  {
   "cell_type": "markdown",
   "id": "86a5c835",
   "metadata": {},
   "source": [
    "# Resize()"
   ]
  },
  {
   "cell_type": "code",
   "execution_count": 27,
   "id": "860a9ac9",
   "metadata": {},
   "outputs": [],
   "source": [
    "a = np.arange(12)"
   ]
  },
  {
   "cell_type": "code",
   "execution_count": 28,
   "id": "a8eaaa76",
   "metadata": {},
   "outputs": [
    {
     "data": {
      "text/plain": [
       "array([ 0,  1,  2,  3,  4,  5,  6,  7,  8,  9, 10, 11])"
      ]
     },
     "execution_count": 28,
     "metadata": {},
     "output_type": "execute_result"
    }
   ],
   "source": [
    "a"
   ]
  },
  {
   "cell_type": "code",
   "execution_count": 11,
   "id": "f89852ac",
   "metadata": {},
   "outputs": [
    {
     "data": {
      "text/plain": [
       "array([[ 0,  1,  2],\n",
       "       [ 3,  4,  5],\n",
       "       [ 6,  7,  8],\n",
       "       [ 9, 10, 11]])"
      ]
     },
     "execution_count": 11,
     "metadata": {},
     "output_type": "execute_result"
    }
   ],
   "source": [
    "a.reshape(4,3)"
   ]
  },
  {
   "cell_type": "code",
   "execution_count": 12,
   "id": "4c3f4c8c",
   "metadata": {},
   "outputs": [
    {
     "data": {
      "text/plain": [
       "array([[ 0,  1,  2,  3],\n",
       "       [ 4,  5,  6,  7],\n",
       "       [ 8,  9, 10, 11]])"
      ]
     },
     "execution_count": 12,
     "metadata": {},
     "output_type": "execute_result"
    }
   ],
   "source": [
    "np.reshape(a,(3,4))"
   ]
  },
  {
   "cell_type": "code",
   "execution_count": null,
   "id": "66fe2e9c",
   "metadata": {},
   "outputs": [],
   "source": []
  },
  {
   "cell_type": "code",
   "execution_count": 73,
   "id": "8ed57ed6",
   "metadata": {
    "scrolled": true
   },
   "outputs": [
    {
     "ename": "ValueError",
     "evalue": "cannot reshape array of size 12 into shape (5,5)",
     "output_type": "error",
     "traceback": [
      "\u001b[1;31m---------------------------------------------------------------------------\u001b[0m",
      "\u001b[1;31mValueError\u001b[0m                                Traceback (most recent call last)",
      "\u001b[1;32m<ipython-input-73-aca501296918>\u001b[0m in \u001b[0;36m<module>\u001b[1;34m\u001b[0m\n\u001b[1;32m----> 1\u001b[1;33m \u001b[0mnp\u001b[0m\u001b[1;33m.\u001b[0m\u001b[0mreshape\u001b[0m\u001b[1;33m(\u001b[0m\u001b[0ma\u001b[0m\u001b[1;33m,\u001b[0m\u001b[1;33m(\u001b[0m\u001b[1;36m5\u001b[0m\u001b[1;33m,\u001b[0m\u001b[1;36m5\u001b[0m\u001b[1;33m)\u001b[0m\u001b[1;33m)\u001b[0m\u001b[1;33m\u001b[0m\u001b[1;33m\u001b[0m\u001b[0m\n\u001b[0m",
      "\u001b[1;32m<__array_function__ internals>\u001b[0m in \u001b[0;36mreshape\u001b[1;34m(*args, **kwargs)\u001b[0m\n",
      "\u001b[1;32mc:\\users\\hello\\appdata\\local\\programs\\python\\python39\\lib\\site-packages\\numpy\\core\\fromnumeric.py\u001b[0m in \u001b[0;36mreshape\u001b[1;34m(a, newshape, order)\u001b[0m\n\u001b[0;32m    297\u001b[0m            [5, 6]])\n\u001b[0;32m    298\u001b[0m     \"\"\"\n\u001b[1;32m--> 299\u001b[1;33m     \u001b[1;32mreturn\u001b[0m \u001b[0m_wrapfunc\u001b[0m\u001b[1;33m(\u001b[0m\u001b[0ma\u001b[0m\u001b[1;33m,\u001b[0m \u001b[1;34m'reshape'\u001b[0m\u001b[1;33m,\u001b[0m \u001b[0mnewshape\u001b[0m\u001b[1;33m,\u001b[0m \u001b[0morder\u001b[0m\u001b[1;33m=\u001b[0m\u001b[0morder\u001b[0m\u001b[1;33m)\u001b[0m\u001b[1;33m\u001b[0m\u001b[1;33m\u001b[0m\u001b[0m\n\u001b[0m\u001b[0;32m    300\u001b[0m \u001b[1;33m\u001b[0m\u001b[0m\n\u001b[0;32m    301\u001b[0m \u001b[1;33m\u001b[0m\u001b[0m\n",
      "\u001b[1;32mc:\\users\\hello\\appdata\\local\\programs\\python\\python39\\lib\\site-packages\\numpy\\core\\fromnumeric.py\u001b[0m in \u001b[0;36m_wrapfunc\u001b[1;34m(obj, method, *args, **kwds)\u001b[0m\n\u001b[0;32m     56\u001b[0m \u001b[1;33m\u001b[0m\u001b[0m\n\u001b[0;32m     57\u001b[0m     \u001b[1;32mtry\u001b[0m\u001b[1;33m:\u001b[0m\u001b[1;33m\u001b[0m\u001b[1;33m\u001b[0m\u001b[0m\n\u001b[1;32m---> 58\u001b[1;33m         \u001b[1;32mreturn\u001b[0m \u001b[0mbound\u001b[0m\u001b[1;33m(\u001b[0m\u001b[1;33m*\u001b[0m\u001b[0margs\u001b[0m\u001b[1;33m,\u001b[0m \u001b[1;33m**\u001b[0m\u001b[0mkwds\u001b[0m\u001b[1;33m)\u001b[0m\u001b[1;33m\u001b[0m\u001b[1;33m\u001b[0m\u001b[0m\n\u001b[0m\u001b[0;32m     59\u001b[0m     \u001b[1;32mexcept\u001b[0m \u001b[0mTypeError\u001b[0m\u001b[1;33m:\u001b[0m\u001b[1;33m\u001b[0m\u001b[1;33m\u001b[0m\u001b[0m\n\u001b[0;32m     60\u001b[0m         \u001b[1;31m# A TypeError occurs if the object does have such a method in its\u001b[0m\u001b[1;33m\u001b[0m\u001b[1;33m\u001b[0m\u001b[1;33m\u001b[0m\u001b[0m\n",
      "\u001b[1;31mValueError\u001b[0m: cannot reshape array of size 12 into shape (5,5)"
     ]
    }
   ],
   "source": [
    "np.reshape(a,(5,5))   #<- it will give an error because you can't reshape more than ele. size array"
   ]
  },
  {
   "cell_type": "code",
   "execution_count": 74,
   "id": "19f63299",
   "metadata": {
    "scrolled": true
   },
   "outputs": [
    {
     "data": {
      "text/plain": [
       "array([[ 0,  1,  2,  3,  4],\n",
       "       [ 5,  6,  7,  8,  9],\n",
       "       [10, 11,  0,  1,  2],\n",
       "       [ 3,  4,  5,  6,  7],\n",
       "       [ 8,  9, 10, 11,  0]])"
      ]
     },
     "execution_count": 74,
     "metadata": {},
     "output_type": "execute_result"
    }
   ],
   "source": [
    "np.resize(a,(5,5))   # But,resize wil print the value with it's extra size and it will fill up the value with re again that numbers or repeat the numbers "
   ]
  },
  {
   "cell_type": "code",
   "execution_count": 29,
   "id": "4aa4d1ad",
   "metadata": {},
   "outputs": [],
   "source": [
    "arr=np.array([[1,2,3],[4,5,6]])"
   ]
  },
  {
   "cell_type": "code",
   "execution_count": 31,
   "id": "06991634",
   "metadata": {},
   "outputs": [
    {
     "data": {
      "text/plain": [
       "array([[1, 2, 3, 4, 5],\n",
       "       [6, 1, 2, 3, 4],\n",
       "       [5, 6, 1, 2, 3],\n",
       "       [4, 5, 6, 1, 2],\n",
       "       [3, 4, 5, 6, 1]])"
      ]
     },
     "execution_count": 31,
     "metadata": {},
     "output_type": "execute_result"
    }
   ],
   "source": [
    "np.resize(arr,(5,5))"
   ]
  },
  {
   "cell_type": "code",
   "execution_count": null,
   "id": "36aab244",
   "metadata": {},
   "outputs": [],
   "source": []
  },
  {
   "cell_type": "code",
   "execution_count": null,
   "id": "1eb2f058",
   "metadata": {},
   "outputs": [],
   "source": []
  },
  {
   "cell_type": "markdown",
   "id": "2e4a8c42",
   "metadata": {},
   "source": [
    "# Delete"
   ]
  },
  {
   "cell_type": "code",
   "execution_count": 32,
   "id": "6a73ebd2",
   "metadata": {},
   "outputs": [
    {
     "data": {
      "text/plain": [
       "array([ 0,  1,  2,  3,  4,  5,  6,  7,  8,  9, 10, 11])"
      ]
     },
     "execution_count": 32,
     "metadata": {},
     "output_type": "execute_result"
    }
   ],
   "source": [
    "a"
   ]
  },
  {
   "cell_type": "code",
   "execution_count": null,
   "id": "c8dc23b0",
   "metadata": {},
   "outputs": [],
   "source": [
    "#delete(arr,obj,axis)"
   ]
  },
  {
   "cell_type": "code",
   "execution_count": 34,
   "id": "4d8be883",
   "metadata": {},
   "outputs": [
    {
     "data": {
      "text/plain": [
       "array([ 0,  1,  2,  3,  4,  6,  7,  8,  9, 10, 11])"
      ]
     },
     "execution_count": 34,
     "metadata": {},
     "output_type": "execute_result"
    }
   ],
   "source": [
    "# for 1 D\n",
    "np.delete(a,5)   # 5 will be deleted from the array"
   ]
  },
  {
   "cell_type": "code",
   "execution_count": 35,
   "id": "9d64b0d9",
   "metadata": {},
   "outputs": [
    {
     "data": {
      "text/plain": [
       "array([ 0,  1,  2,  3,  4,  5,  6,  7,  8,  9, 10, 11])"
      ]
     },
     "execution_count": 35,
     "metadata": {},
     "output_type": "execute_result"
    }
   ],
   "source": [
    "a"
   ]
  },
  {
   "cell_type": "code",
   "execution_count": 37,
   "id": "cfabf24c",
   "metadata": {},
   "outputs": [],
   "source": [
    "delmat=np.array([[1,2,3],[3,3,6]])"
   ]
  },
  {
   "cell_type": "code",
   "execution_count": 38,
   "id": "f0df7d7d",
   "metadata": {},
   "outputs": [
    {
     "data": {
      "text/plain": [
       "array([[1, 2, 3],\n",
       "       [3, 3, 6]])"
      ]
     },
     "execution_count": 38,
     "metadata": {},
     "output_type": "execute_result"
    }
   ],
   "source": [
    "delmat"
   ]
  },
  {
   "cell_type": "code",
   "execution_count": 39,
   "id": "8149526e",
   "metadata": {},
   "outputs": [
    {
     "data": {
      "text/plain": [
       "array([1, 2, 3, 3, 6])"
      ]
     },
     "execution_count": 39,
     "metadata": {},
     "output_type": "execute_result"
    }
   ],
   "source": [
    "# for 2D, the delete function will convert all the dimension array in 1D and also for every dimension except 1D, it will remove the element from the index\n",
    "np.delete(delmat,3) #<- it will not permanent delete the element from the array also it will remove only 1st 3 from the array"
   ]
  },
  {
   "cell_type": "code",
   "execution_count": 40,
   "id": "c1d39b30",
   "metadata": {},
   "outputs": [
    {
     "data": {
      "text/plain": [
       "array([[1, 2, 3],\n",
       "       [3, 3, 6]])"
      ]
     },
     "execution_count": 40,
     "metadata": {},
     "output_type": "execute_result"
    }
   ],
   "source": [
    "delmat"
   ]
  },
  {
   "cell_type": "code",
   "execution_count": 41,
   "id": "64bddca6",
   "metadata": {},
   "outputs": [
    {
     "data": {
      "text/plain": [
       "array([[1, 2, 3]])"
      ]
     },
     "execution_count": 41,
     "metadata": {},
     "output_type": "execute_result"
    }
   ],
   "source": [
    "np.delete(delmat,1,axis=0)  # The whole 2nd row will be deleted"
   ]
  },
  {
   "cell_type": "code",
   "execution_count": 16,
   "id": "b6a07a4f",
   "metadata": {},
   "outputs": [
    {
     "data": {
      "text/plain": [
       "array([[1, 3],\n",
       "       [4, 6]])"
      ]
     },
     "execution_count": 16,
     "metadata": {},
     "output_type": "execute_result"
    }
   ],
   "source": [
    "np.delete(delmat,1,axis=1)   #All second column will be deleted"
   ]
  },
  {
   "cell_type": "code",
   "execution_count": null,
   "id": "d2619a07",
   "metadata": {},
   "outputs": [],
   "source": []
  },
  {
   "cell_type": "markdown",
   "id": "56338a30",
   "metadata": {},
   "source": [
    "# LCM - Least Common Multiple"
   ]
  },
  {
   "cell_type": "code",
   "execution_count": null,
   "id": "b563a126",
   "metadata": {},
   "outputs": [],
   "source": [
    "lcm= least common multiple\n",
    "# lcm(4,6) = 12"
   ]
  },
  {
   "cell_type": "code",
   "execution_count": 42,
   "id": "0b18e14e",
   "metadata": {},
   "outputs": [
    {
     "data": {
      "text/plain": [
       "125"
      ]
     },
     "execution_count": 42,
     "metadata": {},
     "output_type": "execute_result"
    }
   ],
   "source": [
    "num1=25\n",
    "num2=125\n",
    "np.lcm(num1,num2)"
   ]
  },
  {
   "cell_type": "code",
   "execution_count": 43,
   "id": "99f7beef",
   "metadata": {},
   "outputs": [],
   "source": [
    "num3=625"
   ]
  },
  {
   "cell_type": "code",
   "execution_count": 44,
   "id": "8f38c12d",
   "metadata": {},
   "outputs": [
    {
     "ename": "TypeError",
     "evalue": "return arrays must be of ArrayType",
     "output_type": "error",
     "traceback": [
      "\u001b[1;31m---------------------------------------------------------------------------\u001b[0m",
      "\u001b[1;31mTypeError\u001b[0m                                 Traceback (most recent call last)",
      "\u001b[1;32m<ipython-input-44-dee3d46b5a7b>\u001b[0m in \u001b[0;36m<module>\u001b[1;34m\u001b[0m\n\u001b[1;32m----> 1\u001b[1;33m \u001b[0mnp\u001b[0m\u001b[1;33m.\u001b[0m\u001b[0mlcm\u001b[0m\u001b[1;33m(\u001b[0m\u001b[0mnum1\u001b[0m\u001b[1;33m,\u001b[0m\u001b[0mnum2\u001b[0m\u001b[1;33m,\u001b[0m\u001b[0mnum3\u001b[0m\u001b[1;33m)\u001b[0m   \u001b[1;31m#<- it will give an error bcoz with this method, you can find lcm of any 2 numbers only, not 3.\u001b[0m\u001b[1;33m\u001b[0m\u001b[1;33m\u001b[0m\u001b[0m\n\u001b[0m",
      "\u001b[1;31mTypeError\u001b[0m: return arrays must be of ArrayType"
     ]
    }
   ],
   "source": [
    "np.lcm(num1,num2,num3)   #<- it will give an error bcoz with this method, you can find lcm of any 2 numbers only, not 3."
   ]
  },
  {
   "cell_type": "code",
   "execution_count": 46,
   "id": "6710920c",
   "metadata": {},
   "outputs": [
    {
     "data": {
      "text/plain": [
       "array([ 2,  4,  6,  8, 10])"
      ]
     },
     "execution_count": 46,
     "metadata": {},
     "output_type": "execute_result"
    }
   ],
   "source": [
    "newarr"
   ]
  },
  {
   "cell_type": "code",
   "execution_count": 47,
   "id": "be47cd2b",
   "metadata": {},
   "outputs": [
    {
     "ename": "ValueError",
     "evalue": "invalid number of arguments",
     "output_type": "error",
     "traceback": [
      "\u001b[1;31m---------------------------------------------------------------------------\u001b[0m",
      "\u001b[1;31mValueError\u001b[0m                                Traceback (most recent call last)",
      "\u001b[1;32m<ipython-input-47-fab026e438ba>\u001b[0m in \u001b[0;36m<module>\u001b[1;34m\u001b[0m\n\u001b[1;32m----> 1\u001b[1;33m \u001b[0mnp\u001b[0m\u001b[1;33m.\u001b[0m\u001b[0mlcm\u001b[0m\u001b[1;33m(\u001b[0m\u001b[0mnewarr\u001b[0m\u001b[1;33m)\u001b[0m  \u001b[1;31m#There are more than 2 values here, so it wil give an error\u001b[0m\u001b[1;33m\u001b[0m\u001b[1;33m\u001b[0m\u001b[0m\n\u001b[0m",
      "\u001b[1;31mValueError\u001b[0m: invalid number of arguments"
     ]
    }
   ],
   "source": [
    "np.lcm(newarr)  #There are more than 2 values here, so it wil give an error"
   ]
  },
  {
   "cell_type": "code",
   "execution_count": null,
   "id": "14d389b7",
   "metadata": {},
   "outputs": [],
   "source": [
    "# For do lcm more than 2 numbers, we will use reduce function"
   ]
  },
  {
   "cell_type": "code",
   "execution_count": 48,
   "id": "a9f2ba54",
   "metadata": {},
   "outputs": [
    {
     "data": {
      "text/plain": [
       "625"
      ]
     },
     "execution_count": 48,
     "metadata": {},
     "output_type": "execute_result"
    }
   ],
   "source": [
    "np.lcm.reduce((num1,num2,num3))"
   ]
  },
  {
   "cell_type": "code",
   "execution_count": 102,
   "id": "5d951c08",
   "metadata": {},
   "outputs": [
    {
     "data": {
      "text/plain": [
       "120"
      ]
     },
     "execution_count": 102,
     "metadata": {},
     "output_type": "execute_result"
    }
   ],
   "source": [
    "np.lcm.reduce(newarr)   #now, due to reduce function, we can find lcm of the function"
   ]
  },
  {
   "cell_type": "code",
   "execution_count": null,
   "id": "647359ab",
   "metadata": {},
   "outputs": [],
   "source": []
  },
  {
   "cell_type": "code",
   "execution_count": null,
   "id": "5d8f46f2",
   "metadata": {},
   "outputs": [],
   "source": []
  },
  {
   "cell_type": "markdown",
   "id": "0208dcec",
   "metadata": {},
   "source": [
    "# GCD - Greatest Common Devisior"
   ]
  },
  {
   "cell_type": "code",
   "execution_count": 105,
   "id": "afffb815",
   "metadata": {},
   "outputs": [],
   "source": [
    "a=6\n",
    "b=9\n",
    "#gcd() will be 3"
   ]
  },
  {
   "cell_type": "code",
   "execution_count": 106,
   "id": "d4b48570",
   "metadata": {},
   "outputs": [
    {
     "data": {
      "text/plain": [
       "3"
      ]
     },
     "execution_count": 106,
     "metadata": {},
     "output_type": "execute_result"
    }
   ],
   "source": [
    "np.gcd(a,b)"
   ]
  },
  {
   "cell_type": "code",
   "execution_count": 108,
   "id": "42e0be1d",
   "metadata": {},
   "outputs": [
    {
     "data": {
      "text/plain": [
       "6"
      ]
     },
     "execution_count": 108,
     "metadata": {},
     "output_type": "execute_result"
    }
   ],
   "source": [
    "np.gcd.reduce((6,18,24))"
   ]
  },
  {
   "cell_type": "code",
   "execution_count": 109,
   "id": "b2ec9b1b",
   "metadata": {},
   "outputs": [
    {
     "data": {
      "text/plain": [
       "6"
      ]
     },
     "execution_count": 109,
     "metadata": {},
     "output_type": "execute_result"
    }
   ],
   "source": [
    "np.gcd.reduce([6,18,24])"
   ]
  },
  {
   "cell_type": "code",
   "execution_count": 110,
   "id": "5dcc5d2a",
   "metadata": {},
   "outputs": [
    {
     "data": {
      "text/plain": [
       "array([ 2,  4,  6,  8, 10])"
      ]
     },
     "execution_count": 110,
     "metadata": {},
     "output_type": "execute_result"
    }
   ],
   "source": [
    "newarr"
   ]
  },
  {
   "cell_type": "code",
   "execution_count": 111,
   "id": "c8aaf1aa",
   "metadata": {},
   "outputs": [
    {
     "data": {
      "text/plain": [
       "2"
      ]
     },
     "execution_count": 111,
     "metadata": {},
     "output_type": "execute_result"
    }
   ],
   "source": [
    "np.gcd.reduce(newarr)"
   ]
  },
  {
   "cell_type": "code",
   "execution_count": null,
   "id": "5cc0f159",
   "metadata": {},
   "outputs": [],
   "source": []
  },
  {
   "cell_type": "code",
   "execution_count": null,
   "id": "7f08013e",
   "metadata": {},
   "outputs": [],
   "source": []
  },
  {
   "cell_type": "markdown",
   "id": "17fadf44",
   "metadata": {},
   "source": [
    "# Linear Eqaution"
   ]
  },
  {
   "cell_type": "code",
   "execution_count": null,
   "id": "35033f9e",
   "metadata": {},
   "outputs": [],
   "source": [
    "3x + y =9\n",
    "x + 2y = 8"
   ]
  },
  {
   "cell_type": "code",
   "execution_count": 50,
   "id": "04fc898a",
   "metadata": {},
   "outputs": [],
   "source": [
    "a=np.array([[3,1],[1,2]])\n",
    "b=np.array([9,8])"
   ]
  },
  {
   "cell_type": "code",
   "execution_count": 113,
   "id": "38c33db2",
   "metadata": {},
   "outputs": [
    {
     "data": {
      "text/plain": [
       "array([[3, 1],\n",
       "       [1, 2]])"
      ]
     },
     "execution_count": 113,
     "metadata": {},
     "output_type": "execute_result"
    }
   ],
   "source": [
    "a"
   ]
  },
  {
   "cell_type": "code",
   "execution_count": 114,
   "id": "2b24e541",
   "metadata": {},
   "outputs": [
    {
     "data": {
      "text/plain": [
       "array([9, 8])"
      ]
     },
     "execution_count": 114,
     "metadata": {},
     "output_type": "execute_result"
    }
   ],
   "source": [
    "b"
   ]
  },
  {
   "cell_type": "code",
   "execution_count": 115,
   "id": "84a461c3",
   "metadata": {},
   "outputs": [
    {
     "data": {
      "text/plain": [
       "array([2., 3.])"
      ]
     },
     "execution_count": 115,
     "metadata": {},
     "output_type": "execute_result"
    }
   ],
   "source": [
    "#np.linalg.solve(a,b)\n",
    "np.linalg.solve(a,b)"
   ]
  },
  {
   "cell_type": "code",
   "execution_count": null,
   "id": "f11da614",
   "metadata": {},
   "outputs": [],
   "source": []
  },
  {
   "cell_type": "code",
   "execution_count": null,
   "id": "46e9cfba",
   "metadata": {},
   "outputs": [],
   "source": [
    "4x + 2y=18\n",
    "x + 3y = 7"
   ]
  },
  {
   "cell_type": "code",
   "execution_count": 51,
   "id": "c41f0253",
   "metadata": {},
   "outputs": [],
   "source": [
    "a=np.array([[4,2],[1,3]])\n",
    "b=np.array([18,7])"
   ]
  },
  {
   "cell_type": "code",
   "execution_count": 52,
   "id": "ed3e6ebd",
   "metadata": {},
   "outputs": [
    {
     "data": {
      "text/plain": [
       "array([4., 1.])"
      ]
     },
     "execution_count": 52,
     "metadata": {},
     "output_type": "execute_result"
    }
   ],
   "source": [
    "np.linalg.solve(a,b)"
   ]
  },
  {
   "cell_type": "code",
   "execution_count": null,
   "id": "c1d3f9c1",
   "metadata": {},
   "outputs": [],
   "source": []
  },
  {
   "cell_type": "code",
   "execution_count": null,
   "id": "455b5b7b",
   "metadata": {},
   "outputs": [],
   "source": []
  },
  {
   "cell_type": "markdown",
   "id": "c499057d",
   "metadata": {},
   "source": [
    "# Quadretic equation"
   ]
  },
  {
   "cell_type": "code",
   "execution_count": null,
   "id": "3dad665c",
   "metadata": {},
   "outputs": [],
   "source": [
    "x^2 + 4x = -4\n",
    "x^2 + 4x + 4 = 0"
   ]
  },
  {
   "cell_type": "code",
   "execution_count": 117,
   "id": "f3bbc105",
   "metadata": {},
   "outputs": [],
   "source": [
    "coeff = np.array([1,4,4])  # write all the coefficient of the equation"
   ]
  },
  {
   "cell_type": "code",
   "execution_count": 118,
   "id": "31d7b804",
   "metadata": {},
   "outputs": [
    {
     "data": {
      "text/plain": [
       "array([-2., -2.])"
      ]
     },
     "execution_count": 118,
     "metadata": {},
     "output_type": "execute_result"
    }
   ],
   "source": [
    "np.roots(coeff)    # It gives the answer of the equation directly by using x= [-b +- (b^2-4ac)^1/2]/2a"
   ]
  },
  {
   "cell_type": "code",
   "execution_count": null,
   "id": "c0388fab",
   "metadata": {},
   "outputs": [],
   "source": []
  },
  {
   "cell_type": "code",
   "execution_count": 120,
   "id": "92b6e2f3",
   "metadata": {},
   "outputs": [],
   "source": [
    "a=np.array([[1,2,3],[4,5,6]])\n",
    "b=np.array([[10,20,30],[40,50,60]])"
   ]
  },
  {
   "cell_type": "code",
   "execution_count": 123,
   "id": "726e145b",
   "metadata": {},
   "outputs": [
    {
     "data": {
      "text/plain": [
       "array([[1, 2, 3],\n",
       "       [4, 5, 6]])"
      ]
     },
     "execution_count": 123,
     "metadata": {},
     "output_type": "execute_result"
    }
   ],
   "source": [
    "a"
   ]
  },
  {
   "cell_type": "code",
   "execution_count": 124,
   "id": "f32fb31e",
   "metadata": {},
   "outputs": [
    {
     "data": {
      "text/plain": [
       "array([[10, 20, 30],\n",
       "       [40, 50, 60]])"
      ]
     },
     "execution_count": 124,
     "metadata": {},
     "output_type": "execute_result"
    }
   ],
   "source": [
    "b"
   ]
  },
  {
   "cell_type": "code",
   "execution_count": 121,
   "id": "a0871aad",
   "metadata": {},
   "outputs": [
    {
     "ename": "ValueError",
     "evalue": "shapes (2,3) and (2,3) not aligned: 3 (dim 1) != 2 (dim 0)",
     "output_type": "error",
     "traceback": [
      "\u001b[1;31m---------------------------------------------------------------------------\u001b[0m",
      "\u001b[1;31mValueError\u001b[0m                                Traceback (most recent call last)",
      "\u001b[1;32m<ipython-input-121-3339b236d1c5>\u001b[0m in \u001b[0;36m<module>\u001b[1;34m\u001b[0m\n\u001b[1;32m----> 1\u001b[1;33m \u001b[0mnp\u001b[0m\u001b[1;33m.\u001b[0m\u001b[0mdot\u001b[0m\u001b[1;33m(\u001b[0m\u001b[0ma\u001b[0m\u001b[1;33m,\u001b[0m\u001b[0mb\u001b[0m\u001b[1;33m)\u001b[0m\u001b[1;33m\u001b[0m\u001b[1;33m\u001b[0m\u001b[0m\n\u001b[0m",
      "\u001b[1;32m<__array_function__ internals>\u001b[0m in \u001b[0;36mdot\u001b[1;34m(*args, **kwargs)\u001b[0m\n",
      "\u001b[1;31mValueError\u001b[0m: shapes (2,3) and (2,3) not aligned: 3 (dim 1) != 2 (dim 0)"
     ]
    }
   ],
   "source": [
    "np.dot(a,b)"
   ]
  },
  {
   "cell_type": "code",
   "execution_count": 122,
   "id": "3fbeeeb9",
   "metadata": {},
   "outputs": [
    {
     "data": {
      "text/plain": [
       "910"
      ]
     },
     "execution_count": 122,
     "metadata": {},
     "output_type": "execute_result"
    }
   ],
   "source": [
    "np.vdot(a,b)   # It is known as vector dot \n",
    "# here vector dot mean 1*10+2*20+....6*60"
   ]
  },
  {
   "cell_type": "code",
   "execution_count": null,
   "id": "2b06544a",
   "metadata": {},
   "outputs": [],
   "source": []
  },
  {
   "cell_type": "markdown",
   "id": "5e55a9d5",
   "metadata": {},
   "source": [
    "Mean"
   ]
  },
  {
   "cell_type": "code",
   "execution_count": 125,
   "id": "f5204130",
   "metadata": {},
   "outputs": [
    {
     "data": {
      "text/plain": [
       "array([[1, 2, 3],\n",
       "       [4, 5, 6]])"
      ]
     },
     "execution_count": 125,
     "metadata": {},
     "output_type": "execute_result"
    }
   ],
   "source": [
    "a"
   ]
  },
  {
   "cell_type": "code",
   "execution_count": 126,
   "id": "8a485699",
   "metadata": {},
   "outputs": [
    {
     "data": {
      "text/plain": [
       "3.5"
      ]
     },
     "execution_count": 126,
     "metadata": {},
     "output_type": "execute_result"
    }
   ],
   "source": [
    "np.mean(a)  #<it is average of array values (1+4+9+16+25+36)/6"
   ]
  },
  {
   "cell_type": "code",
   "execution_count": null,
   "id": "7ca43b53",
   "metadata": {},
   "outputs": [],
   "source": []
  },
  {
   "cell_type": "markdown",
   "id": "a1c76f49",
   "metadata": {},
   "source": [
    "# Weighted Mean"
   ]
  },
  {
   "cell_type": "code",
   "execution_count": 128,
   "id": "f300b415",
   "metadata": {},
   "outputs": [
    {
     "data": {
      "text/plain": [
       "2.0"
      ]
     },
     "execution_count": 128,
     "metadata": {},
     "output_type": "execute_result"
    }
   ],
   "source": [
    "array=np.array([1,2,3,4])\n",
    "weight= np.array([4,3,2,1])\n",
    "\n",
    "(1*4+2*3+3*2+4*1)/(4+3+2+1)"
   ]
  },
  {
   "cell_type": "code",
   "execution_count": 129,
   "id": "4179f5db",
   "metadata": {},
   "outputs": [
    {
     "data": {
      "text/plain": [
       "2.0"
      ]
     },
     "execution_count": 129,
     "metadata": {},
     "output_type": "execute_result"
    }
   ],
   "source": [
    "#average(array,weights=weight)\n",
    "np.average(array,weights=weight)"
   ]
  },
  {
   "cell_type": "code",
   "execution_count": 56,
   "id": "55ccdb08",
   "metadata": {},
   "outputs": [],
   "source": [
    "array=np.array([[1,2,3,4],[4,5,6,7]])\n",
    "weight= np.array([4,5,6,7])"
   ]
  },
  {
   "cell_type": "code",
   "execution_count": 57,
   "id": "2d49652f",
   "metadata": {},
   "outputs": [
    {
     "ename": "TypeError",
     "evalue": "Axis must be specified when shapes of a and weights differ.",
     "output_type": "error",
     "traceback": [
      "\u001b[1;31m---------------------------------------------------------------------------\u001b[0m",
      "\u001b[1;31mTypeError\u001b[0m                                 Traceback (most recent call last)",
      "\u001b[1;32m<ipython-input-57-fbc6f7a98711>\u001b[0m in \u001b[0;36m<module>\u001b[1;34m\u001b[0m\n\u001b[1;32m----> 1\u001b[1;33m \u001b[0mnp\u001b[0m\u001b[1;33m.\u001b[0m\u001b[0maverage\u001b[0m\u001b[1;33m(\u001b[0m\u001b[0marray\u001b[0m\u001b[1;33m,\u001b[0m\u001b[0mweights\u001b[0m\u001b[1;33m=\u001b[0m\u001b[0mweight\u001b[0m\u001b[1;33m)\u001b[0m  \u001b[1;31m# It won't work if the axis values are different\u001b[0m\u001b[1;33m\u001b[0m\u001b[1;33m\u001b[0m\u001b[0m\n\u001b[0m",
      "\u001b[1;32m<__array_function__ internals>\u001b[0m in \u001b[0;36maverage\u001b[1;34m(*args, **kwargs)\u001b[0m\n",
      "\u001b[1;32m~\\anaconda3\\lib\\site-packages\\numpy\\lib\\function_base.py\u001b[0m in \u001b[0;36maverage\u001b[1;34m(a, axis, weights, returned)\u001b[0m\n\u001b[0;32m    391\u001b[0m         \u001b[1;32mif\u001b[0m \u001b[0ma\u001b[0m\u001b[1;33m.\u001b[0m\u001b[0mshape\u001b[0m \u001b[1;33m!=\u001b[0m \u001b[0mwgt\u001b[0m\u001b[1;33m.\u001b[0m\u001b[0mshape\u001b[0m\u001b[1;33m:\u001b[0m\u001b[1;33m\u001b[0m\u001b[1;33m\u001b[0m\u001b[0m\n\u001b[0;32m    392\u001b[0m             \u001b[1;32mif\u001b[0m \u001b[0maxis\u001b[0m \u001b[1;32mis\u001b[0m \u001b[1;32mNone\u001b[0m\u001b[1;33m:\u001b[0m\u001b[1;33m\u001b[0m\u001b[1;33m\u001b[0m\u001b[0m\n\u001b[1;32m--> 393\u001b[1;33m                 raise TypeError(\n\u001b[0m\u001b[0;32m    394\u001b[0m                     \u001b[1;34m\"Axis must be specified when shapes of a and weights \"\u001b[0m\u001b[1;33m\u001b[0m\u001b[1;33m\u001b[0m\u001b[0m\n\u001b[0;32m    395\u001b[0m                     \"differ.\")\n",
      "\u001b[1;31mTypeError\u001b[0m: Axis must be specified when shapes of a and weights differ."
     ]
    }
   ],
   "source": [
    "np.average(array,weights=weight)  # It won't work if the axis values or shapes are different"
   ]
  },
  {
   "cell_type": "code",
   "execution_count": null,
   "id": "e88085ff",
   "metadata": {},
   "outputs": [],
   "source": []
  },
  {
   "cell_type": "code",
   "execution_count": null,
   "id": "21907420",
   "metadata": {},
   "outputs": [],
   "source": [
    "scipy is used for scientific calculation"
   ]
  },
  {
   "cell_type": "code",
   "execution_count": 131,
   "id": "d8aab888",
   "metadata": {},
   "outputs": [],
   "source": [
    "arr= np.array([5,-10,2,4,20,0.4,6.5,-3.5,9])"
   ]
  },
  {
   "cell_type": "code",
   "execution_count": 132,
   "id": "f2e1a847",
   "metadata": {},
   "outputs": [
    {
     "data": {
      "text/plain": [
       "array([-10. ,  -3.5,   0.4,   2. ,   4. ,   5. ,   6.5,   9. ,  20. ])"
      ]
     },
     "execution_count": 132,
     "metadata": {},
     "output_type": "execute_result"
    }
   ],
   "source": [
    "np.sort(arr)"
   ]
  },
  {
   "cell_type": "code",
   "execution_count": null,
   "id": "d499d26d",
   "metadata": {},
   "outputs": [],
   "source": []
  },
  {
   "cell_type": "markdown",
   "id": "893ee733",
   "metadata": {},
   "source": [
    "# argsort()"
   ]
  },
  {
   "cell_type": "code",
   "execution_count": 134,
   "id": "9315d516",
   "metadata": {},
   "outputs": [
    {
     "data": {
      "text/plain": [
       "array([  5. , -10. ,   2. ,   4. ,  20. ,   0.4,   6.5,  -3.5,   9. ])"
      ]
     },
     "execution_count": 134,
     "metadata": {},
     "output_type": "execute_result"
    }
   ],
   "source": [
    "arr"
   ]
  },
  {
   "cell_type": "code",
   "execution_count": 136,
   "id": "be1d61e9",
   "metadata": {},
   "outputs": [
    {
     "data": {
      "text/plain": [
       "array([-10. ,  -3.5,   0.4,   2. ,   4. ,   5. ,   6.5,   9. ,  20. ])"
      ]
     },
     "execution_count": 136,
     "metadata": {},
     "output_type": "execute_result"
    }
   ],
   "source": [
    "np.sort(arr)"
   ]
  },
  {
   "cell_type": "code",
   "execution_count": 133,
   "id": "2559e6c5",
   "metadata": {},
   "outputs": [
    {
     "data": {
      "text/plain": [
       "array([1, 7, 5, 2, 3, 0, 6, 8, 4], dtype=int64)"
      ]
     },
     "execution_count": 133,
     "metadata": {},
     "output_type": "execute_result"
    }
   ],
   "source": [
    "np.argsort(arr)  #it will print the index of arr in index of old arr  as example, here, -10 is at osition 0 in sorted array but it is at position 1 in simple old arr . so argsort shows 1 at place of -10 in sorted list"
   ]
  },
  {
   "cell_type": "code",
   "execution_count": null,
   "id": "08456ed0",
   "metadata": {},
   "outputs": [],
   "source": []
  },
  {
   "cell_type": "code",
   "execution_count": 137,
   "id": "822fb053",
   "metadata": {},
   "outputs": [
    {
     "data": {
      "text/plain": [
       "array([ 2,  4,  6,  8, 10])"
      ]
     },
     "execution_count": 137,
     "metadata": {},
     "output_type": "execute_result"
    }
   ],
   "source": [
    "newarr"
   ]
  },
  {
   "cell_type": "code",
   "execution_count": 138,
   "id": "7ad207de",
   "metadata": {},
   "outputs": [
    {
     "data": {
      "text/plain": [
       "array([  4,  16,  36,  64, 100], dtype=int32)"
      ]
     },
     "execution_count": 138,
     "metadata": {},
     "output_type": "execute_result"
    }
   ],
   "source": [
    "newarr**2"
   ]
  },
  {
   "cell_type": "code",
   "execution_count": 139,
   "id": "78214577",
   "metadata": {},
   "outputs": [],
   "source": [
    "#sqrt"
   ]
  },
  {
   "cell_type": "code",
   "execution_count": 140,
   "id": "edf42fb2",
   "metadata": {},
   "outputs": [
    {
     "data": {
      "text/plain": [
       "array([1.41421356, 2.        , 2.44948974, 2.82842712, 3.16227766])"
      ]
     },
     "execution_count": 140,
     "metadata": {},
     "output_type": "execute_result"
    }
   ],
   "source": [
    "np.sqrt(newarr)   #<-- It will give root value of the array"
   ]
  },
  {
   "cell_type": "code",
   "execution_count": 142,
   "id": "94f73300",
   "metadata": {},
   "outputs": [
    {
     "data": {
      "text/plain": [
       "array([  4,  16,  36,  64, 100], dtype=int32)"
      ]
     },
     "execution_count": 142,
     "metadata": {},
     "output_type": "execute_result"
    }
   ],
   "source": [
    "np.square(newarr)"
   ]
  },
  {
   "cell_type": "code",
   "execution_count": 59,
   "id": "72892f74",
   "metadata": {},
   "outputs": [],
   "source": [
    "a=np.random.rand(1000000)"
   ]
  },
  {
   "cell_type": "code",
   "execution_count": 60,
   "id": "6d7439dc",
   "metadata": {},
   "outputs": [
    {
     "data": {
      "text/plain": [
       "array([0.92177032, 0.51768169, 0.67213495, ..., 0.21816297, 0.1290136 ,\n",
       "       0.96437868])"
      ]
     },
     "execution_count": 60,
     "metadata": {},
     "output_type": "execute_result"
    }
   ],
   "source": [
    "a"
   ]
  },
  {
   "cell_type": "code",
   "execution_count": 74,
   "id": "f01c3f33",
   "metadata": {},
   "outputs": [
    {
     "name": "stdout",
     "output_type": "stream",
     "text": [
      "0.5002693390125905\n",
      "0.002998828887939453\n"
     ]
    }
   ],
   "source": [
    "import time\n",
    "j=time.time()\n",
    "print(np.mean(a))\n",
    "s=time.time()-j\n",
    "print(s)"
   ]
  },
  {
   "cell_type": "code",
   "execution_count": 75,
   "id": "d6331368",
   "metadata": {},
   "outputs": [
    {
     "name": "stdout",
     "output_type": "stream",
     "text": [
      "0.5002693390125933\n",
      "0.10600066184997559\n"
     ]
    }
   ],
   "source": [
    "import time\n",
    "j=time.time()\n",
    "print(sum(a)/len(a))\n",
    "s=time.time()-j\n",
    "print(s)"
   ]
  },
  {
   "cell_type": "code",
   "execution_count": null,
   "id": "71e6d50e",
   "metadata": {},
   "outputs": [],
   "source": []
  },
  {
   "cell_type": "code",
   "execution_count": 81,
   "id": "15759c53",
   "metadata": {},
   "outputs": [],
   "source": [
    "del a  #<- This will delete whole array "
   ]
  },
  {
   "cell_type": "code",
   "execution_count": null,
   "id": "3ff074fd",
   "metadata": {},
   "outputs": [],
   "source": []
  },
  {
   "cell_type": "code",
   "execution_count": null,
   "id": "86bd3a41",
   "metadata": {},
   "outputs": [],
   "source": []
  },
  {
   "cell_type": "code",
   "execution_count": null,
   "id": "d47c8eef",
   "metadata": {},
   "outputs": [],
   "source": []
  },
  {
   "cell_type": "code",
   "execution_count": null,
   "id": "aeaabe26",
   "metadata": {},
   "outputs": [],
   "source": []
  },
  {
   "cell_type": "code",
   "execution_count": 97,
   "id": "b4f32a37",
   "metadata": {},
   "outputs": [
    {
     "data": {
      "application/javascript": [
       "IPython.notebook.set_autosave_interval(120000)"
      ]
     },
     "metadata": {},
     "output_type": "display_data"
    },
    {
     "name": "stdout",
     "output_type": "stream",
     "text": [
      "Autosaving every 120 seconds\n"
     ]
    }
   ],
   "source": [
    "%autosave 120"
   ]
  }
 ],
 "metadata": {
  "kernelspec": {
   "display_name": "Python 3",
   "language": "python",
   "name": "python3"
  },
  "language_info": {
   "codemirror_mode": {
    "name": "ipython",
    "version": 3
   },
   "file_extension": ".py",
   "mimetype": "text/x-python",
   "name": "python",
   "nbconvert_exporter": "python",
   "pygments_lexer": "ipython3",
   "version": "3.8.8"
  }
 },
 "nbformat": 4,
 "nbformat_minor": 5
}
