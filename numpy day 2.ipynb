{
 "cells": [
  {
   "cell_type": "markdown",
   "id": "60142505",
   "metadata": {},
   "source": [
    "# CRUD operation"
   ]
  },
  {
   "cell_type": "code",
   "execution_count": 1,
   "id": "614de40e",
   "metadata": {},
   "outputs": [],
   "source": [
    "import numpy as np"
   ]
  },
  {
   "cell_type": "markdown",
   "id": "0cb68a7c",
   "metadata": {},
   "source": [
    "C - Create"
   ]
  },
  {
   "cell_type": "code",
   "execution_count": 2,
   "id": "59b53c57",
   "metadata": {},
   "outputs": [],
   "source": [
    "#np.array()\n",
    "arr = np.array([[1,2,3],[4,5,6]])"
   ]
  },
  {
   "cell_type": "code",
   "execution_count": 3,
   "id": "b7a2f2a8",
   "metadata": {},
   "outputs": [
    {
     "data": {
      "text/plain": [
       "2"
      ]
     },
     "execution_count": 3,
     "metadata": {},
     "output_type": "execute_result"
    }
   ],
   "source": [
    "arr.ndim"
   ]
  },
  {
   "cell_type": "code",
   "execution_count": null,
   "id": "122b75d2",
   "metadata": {},
   "outputs": [],
   "source": [
    "#You can use all array function while creating in [] or () also. Both will be valid for dimensions"
   ]
  },
  {
   "cell_type": "code",
   "execution_count": null,
   "id": "22c62fcd",
   "metadata": {},
   "outputs": [],
   "source": [
    "np.zeros is used to make 0 matrix\n",
    "arr=np.zeros()\n",
    "arr=np.zeros(shape of matrix you want to make)"
   ]
  },
  {
   "cell_type": "code",
   "execution_count": 10,
   "id": "643bd9f0",
   "metadata": {},
   "outputs": [],
   "source": [
    "#np.zeros()\n",
    "arr = np.zeros((3,3))"
   ]
  },
  {
   "cell_type": "code",
   "execution_count": 16,
   "id": "1e932301",
   "metadata": {},
   "outputs": [
    {
     "data": {
      "text/plain": [
       "array([[0., 0., 0.],\n",
       "       [0., 0., 0.],\n",
       "       [0., 0., 0.]])"
      ]
     },
     "execution_count": 16,
     "metadata": {},
     "output_type": "execute_result"
    }
   ],
   "source": [
    "arr"
   ]
  },
  {
   "cell_type": "code",
   "execution_count": 7,
   "id": "fa4ce759",
   "metadata": {},
   "outputs": [],
   "source": []
  },
  {
   "cell_type": "code",
   "execution_count": 18,
   "id": "fdff6523",
   "metadata": {},
   "outputs": [],
   "source": [
    "arr=np.zeros((10))   #<- it is 1 dimensional array"
   ]
  },
  {
   "cell_type": "code",
   "execution_count": 19,
   "id": "a37f797b",
   "metadata": {},
   "outputs": [
    {
     "data": {
      "text/plain": [
       "array([0., 0., 0., 0., 0., 0., 0., 0., 0., 0.])"
      ]
     },
     "execution_count": 19,
     "metadata": {},
     "output_type": "execute_result"
    }
   ],
   "source": [
    "arr"
   ]
  },
  {
   "cell_type": "code",
   "execution_count": null,
   "id": "4666b4ca",
   "metadata": {},
   "outputs": [],
   "source": []
  },
  {
   "cell_type": "code",
   "execution_count": 20,
   "id": "98f22ab2",
   "metadata": {},
   "outputs": [],
   "source": [
    "arr=np.zeros((2,3),dtype=\"S2\")"
   ]
  },
  {
   "cell_type": "code",
   "execution_count": 21,
   "id": "9fbccd6f",
   "metadata": {},
   "outputs": [
    {
     "data": {
      "text/plain": [
       "array([[b'', b'', b''],\n",
       "       [b'', b'', b'']], dtype='|S2')"
      ]
     },
     "execution_count": 21,
     "metadata": {},
     "output_type": "execute_result"
    }
   ],
   "source": [
    "arr"
   ]
  },
  {
   "cell_type": "code",
   "execution_count": null,
   "id": "1b2f9f07",
   "metadata": {},
   "outputs": [],
   "source": []
  },
  {
   "cell_type": "code",
   "execution_count": null,
   "id": "c11e9a07",
   "metadata": {},
   "outputs": [],
   "source": [
    "# np.ones()"
   ]
  },
  {
   "cell_type": "code",
   "execution_count": 23,
   "id": "48b25afe",
   "metadata": {},
   "outputs": [],
   "source": [
    "arr = np.ones(10)"
   ]
  },
  {
   "cell_type": "code",
   "execution_count": 24,
   "id": "bab80d8c",
   "metadata": {},
   "outputs": [
    {
     "data": {
      "text/plain": [
       "array([1., 1., 1., 1., 1., 1., 1., 1., 1., 1.])"
      ]
     },
     "execution_count": 24,
     "metadata": {},
     "output_type": "execute_result"
    }
   ],
   "source": [
    "arr"
   ]
  },
  {
   "cell_type": "code",
   "execution_count": 20,
   "id": "6eb3a08a",
   "metadata": {},
   "outputs": [],
   "source": [
    "arr = np.ones([3,4])"
   ]
  },
  {
   "cell_type": "code",
   "execution_count": 21,
   "id": "c2cb752c",
   "metadata": {},
   "outputs": [
    {
     "data": {
      "text/plain": [
       "array([[1., 1., 1., 1.],\n",
       "       [1., 1., 1., 1.],\n",
       "       [1., 1., 1., 1.]])"
      ]
     },
     "execution_count": 21,
     "metadata": {},
     "output_type": "execute_result"
    }
   ],
   "source": [
    "arr"
   ]
  },
  {
   "cell_type": "code",
   "execution_count": 22,
   "id": "d6a6eb42",
   "metadata": {},
   "outputs": [],
   "source": [
    "arr = np.ones([3,4],dtype=\"int\")"
   ]
  },
  {
   "cell_type": "code",
   "execution_count": 23,
   "id": "b810ee49",
   "metadata": {},
   "outputs": [
    {
     "data": {
      "text/plain": [
       "array([[1, 1, 1, 1],\n",
       "       [1, 1, 1, 1],\n",
       "       [1, 1, 1, 1]])"
      ]
     },
     "execution_count": 23,
     "metadata": {},
     "output_type": "execute_result"
    }
   ],
   "source": [
    "arr"
   ]
  },
  {
   "cell_type": "code",
   "execution_count": 28,
   "id": "64a1cbac",
   "metadata": {},
   "outputs": [],
   "source": [
    "arr=np.random.rand(10)"
   ]
  },
  {
   "cell_type": "code",
   "execution_count": 29,
   "id": "0edd2ccb",
   "metadata": {},
   "outputs": [
    {
     "data": {
      "text/plain": [
       "array([0.71333807, 0.09137631, 0.12482091, 0.50457721, 0.60685913,\n",
       "       0.9156016 , 0.32008004, 0.71175107, 0.59857661, 0.9638366 ])"
      ]
     },
     "execution_count": 29,
     "metadata": {},
     "output_type": "execute_result"
    }
   ],
   "source": [
    "arr"
   ]
  },
  {
   "cell_type": "code",
   "execution_count": 31,
   "id": "76982090",
   "metadata": {},
   "outputs": [],
   "source": [
    "#np.empty\n",
    "arr=np.empty([2,2])   #<-- It will print any random value in given matrix. In small matrix, it puts any random value, where as in high size matrix, it mostly puts 0 or 1 randomly"
   ]
  },
  {
   "cell_type": "code",
   "execution_count": 32,
   "id": "907150ff",
   "metadata": {},
   "outputs": [
    {
     "data": {
      "text/plain": [
       "array([[2.12199579e-314, 9.76118064e-313],\n",
       "       [4.42682819e-321, 6.95187041e-310]])"
      ]
     },
     "execution_count": 32,
     "metadata": {},
     "output_type": "execute_result"
    }
   ],
   "source": [
    "arr"
   ]
  },
  {
   "cell_type": "code",
   "execution_count": 47,
   "id": "908e871b",
   "metadata": {},
   "outputs": [],
   "source": [
    "arr=np.empty([10,25])"
   ]
  },
  {
   "cell_type": "code",
   "execution_count": 48,
   "id": "c08e7830",
   "metadata": {
    "scrolled": true
   },
   "outputs": [
    {
     "data": {
      "text/plain": [
       "array([[1.52704392e-311, 1.52704287e-311, 1.51678153e-320,\n",
       "                    nan, 1.15998412e-028, 2.44171989e+232,\n",
       "        8.00801729e+159, 6.19319847e-071, 3.69852904e-033,\n",
       "        1.05133356e-153, 7.48827232e-067, 8.04882561e-096,\n",
       "        8.60680720e-067, 1.03007848e-071, 6.01347002e-154,\n",
       "        6.01347002e-154, 2.91447100e+222, 1.79372133e-052,\n",
       "        5.20267279e-090, 2.40523451e-057, 4.08786004e+179,\n",
       "        1.81148474e-152, 2.36942783e-038, 8.60244358e-067,\n",
       "        1.05250120e-153],\n",
       "       [7.40331863e-038, 8.05977686e-096, 1.58794505e-047,\n",
       "        5.63890302e-038, 6.01347002e-154, 1.19920990e-071,\n",
       "        8.31859163e-072, 2.17462894e-076, 5.20459040e-090,\n",
       "        1.30489229e-076, 2.78986021e+179, 1.81148476e-152,\n",
       "        2.99063837e-067, 1.45216548e-047, 1.05220986e-153,\n",
       "        2.58392283e-057, 8.52794449e-096, 9.05797951e-043,\n",
       "        3.37609614e-057, 6.01347176e-154, 1.17554076e-047,\n",
       "        5.20459411e-090, 1.57649840e-052, 3.75923460e+179,\n",
       "        4.65002893e-086],\n",
       "       [1.58660972e-047, 4.07347955e+223, 6.01347002e-154,\n",
       "        2.00579701e-052, 7.59526678e-096, 5.93394170e-038,\n",
       "        7.86058637e-067, 3.12075289e-033, 7.25416367e-043,\n",
       "        6.01347176e-154, 1.12913464e-042, 5.20078508e-090,\n",
       "        1.30371156e-076, 3.59967436e+179, 4.24787601e-086,\n",
       "        1.44976001e-047, 4.07348173e+223, 6.01347002e-154,\n",
       "        1.90221579e-052, 1.04042726e-095, 3.50520722e-033,\n",
       "        9.50111420e-043, 5.93626432e-038, 7.25416375e-043,\n",
       "        6.01347176e-154],\n",
       "       [9.15784604e-072, 5.20266899e-090, 8.55174212e-072,\n",
       "        3.27358902e+179, 3.84572307e-086, 1.08645783e-071,\n",
       "        1.03080440e+136, 6.01347002e-154, 1.24609847e-047,\n",
       "        9.94952970e-043, 2.10775329e-052, 3.11563953e-033,\n",
       "        9.74586605e-072, 8.31856579e-072, 6.01391519e-154,\n",
       "        8.54953105e-072, 3.43631764e+179, 4.85110539e-086,\n",
       "        2.17529981e-076, 4.57671685e-072, 2.00457352e-052,\n",
       "        1.02484371e+136, 6.01347002e-154, 3.21804569e-057,\n",
       "        7.85913746e-067],\n",
       "       [1.10978743e-047, 3.11563959e-033, 5.88457468e-062,\n",
       "        1.26931833e-076, 6.01391519e-154, 6.77626379e-043,\n",
       "        3.92575721e+179, 4.44895246e-086, 6.00458990e-067,\n",
       "        2.37636052e-038, 6.37985158e-067, 1.02484315e+136,\n",
       "        6.01347002e-154, 2.08962072e-076, 8.23005808e-067,\n",
       "        8.23736366e-067, 1.10689754e-047, 2.58017446e-057,\n",
       "        1.26931305e-076, 6.12743486e-154, 3.48987493e-086,\n",
       "        2.17665842e-076, 5.53288505e-048, 4.67298101e-062,\n",
       "        1.05133697e-153],\n",
       "       [1.48677568e-076, 1.08669539e-095, 6.01347002e-154,\n",
       "        4.18297630e-062, 1.79339647e-052, 7.13034100e-067,\n",
       "        1.26931635e-076, 2.57770936e-057, 5.20173272e-090,\n",
       "        6.12743486e-154, 3.64460956e-086, 4.27708673e-033,\n",
       "        1.55737604e-033, 5.93282508e-038, 1.05148264e-153,\n",
       "        2.00392844e-076, 9.46062935e-096, 6.01347002e-154,\n",
       "        1.38293981e-047, 2.57719664e-057, 8.60822779e-067,\n",
       "        1.26931700e-076, 2.52456499e-052, 5.20653043e-090,\n",
       "        6.12743486e-154],\n",
       "       [4.24783896e-086, 3.22177705e-057, 4.57668667e-072,\n",
       "        3.89414299e-033, 1.05148151e-153, 1.69013701e-052,\n",
       "        1.10529505e+141, 6.01347002e-154, 4.08145218e-033,\n",
       "        1.26931831e-076, 1.68931646e-052, 5.20941070e-090,\n",
       "        2.90887857e-033, 3.59966693e+179, 1.81148476e-152,\n",
       "        2.36942783e-038, 1.45030083e-047, 1.05206646e-153,\n",
       "        2.63059496e-052, 1.08651251e-095, 2.09029016e-076,\n",
       "        8.60097869e-067, 6.01347002e-154, 4.17822122e-062,\n",
       "        8.31857427e-072],\n",
       "       [1.17554052e-047, 5.20459411e-090, 1.57649840e-052,\n",
       "        3.75923460e+179, 1.81148474e-152, 3.61545994e-043,\n",
       "        7.26957935e-043, 1.05221043e-153, 3.50595947e-033,\n",
       "        7.59526678e-096, 5.93394170e-038, 7.86058637e-067,\n",
       "        6.01347002e-154, 1.74382477e-076, 1.26931569e-076,\n",
       "        1.12913464e-042, 5.20078508e-090, 1.30371156e-076,\n",
       "        3.59967436e+179, 4.07356336e+223, 8.94213159e+130,\n",
       "        1.57346811e-076, 1.13296352e-095, 8.98352902e-067,\n",
       "        1.72344608e-047],\n",
       "       [7.12893156e-067, 1.68899162e-052, 6.01347176e-154,\n",
       "        5.63488179e-062, 5.20845185e-090, 1.30455494e-076,\n",
       "        2.94813935e+179, 4.85110542e-086, 2.89818270e-057,\n",
       "        4.07347070e+223, 6.01347002e-154, 9.74590080e-072,\n",
       "        8.52611571e-096, 1.72558932e-047, 7.85913746e-067,\n",
       "        1.24449164e-047, 3.11563951e-033, 6.01347176e-154,\n",
       "        1.36856424e-071, 5.20078514e-090, 8.54953126e-072,\n",
       "        3.43631764e+179, 4.85110539e-086, 2.17529981e-076,\n",
       "        4.07347955e+223],\n",
       "       [6.01347002e-154, 4.66725407e-062, 8.99246171e-096,\n",
       "        8.97483011e-067, 5.63890302e-038, 7.11287523e-038,\n",
       "        3.11563953e-033, 6.01391519e-154, 1.57634145e-052,\n",
       "        4.08658389e+179, 5.05218193e-086, 7.11287540e-038,\n",
       "        5.53288509e-048, 1.40041002e-076, 1.02498567e+136,\n",
       "        6.01347002e-154, 5.39748172e-062, 4.90747779e-062,\n",
       "        5.35309995e-038, 1.10689755e-047, 1.45189404e-047,\n",
       "        1.26931635e-076, 6.01391519e-154, 5.60229622e-067,\n",
       "        2.78732514e+179]])"
      ]
     },
     "execution_count": 48,
     "metadata": {},
     "output_type": "execute_result"
    }
   ],
   "source": [
    "arr"
   ]
  },
  {
   "cell_type": "code",
   "execution_count": 34,
   "id": "69454e21",
   "metadata": {},
   "outputs": [],
   "source": [
    "arr=np.empty([4,4])"
   ]
  },
  {
   "cell_type": "code",
   "execution_count": 35,
   "id": "ed922362",
   "metadata": {},
   "outputs": [
    {
     "data": {
      "text/plain": [
       "array([[6.23042070e-307, 4.67296746e-307, 1.69121096e-306,\n",
       "        1.24610994e-306],\n",
       "       [8.34441742e-308, 1.78022342e-306, 6.23058028e-307,\n",
       "        9.79107872e-307],\n",
       "       [6.89807188e-307, 7.56594375e-307, 6.23060065e-307,\n",
       "        1.78021527e-306],\n",
       "       [8.34454050e-308, 1.11261027e-306, 2.04712907e-306,\n",
       "        1.33504432e-306]])"
      ]
     },
     "execution_count": 35,
     "metadata": {},
     "output_type": "execute_result"
    }
   ],
   "source": [
    "arr"
   ]
  },
  {
   "cell_type": "code",
   "execution_count": null,
   "id": "9973d486",
   "metadata": {},
   "outputs": [],
   "source": []
  },
  {
   "cell_type": "code",
   "execution_count": null,
   "id": "b7b8f634",
   "metadata": {},
   "outputs": [],
   "source": [
    "#np.full()  <- it gives all the matrix with same values\n",
    "arr = np.full(shape of matrix, value that you want to print)"
   ]
  },
  {
   "cell_type": "code",
   "execution_count": 49,
   "id": "9ebeb03b",
   "metadata": {},
   "outputs": [],
   "source": [
    "arr=np.full((4,4),5)1"
   ]
  },
  {
   "cell_type": "code",
   "execution_count": 50,
   "id": "407da8a9",
   "metadata": {},
   "outputs": [
    {
     "data": {
      "text/plain": [
       "array([[5, 5, 5, 5],\n",
       "       [5, 5, 5, 5],\n",
       "       [5, 5, 5, 5],\n",
       "       [5, 5, 5, 5]])"
      ]
     },
     "execution_count": 50,
     "metadata": {},
     "output_type": "execute_result"
    }
   ],
   "source": [
    "arr"
   ]
  },
  {
   "cell_type": "code",
   "execution_count": 38,
   "id": "f2512370",
   "metadata": {},
   "outputs": [],
   "source": [
    "arr=np.full([3,3,4],8)"
   ]
  },
  {
   "cell_type": "code",
   "execution_count": 39,
   "id": "0337eda4",
   "metadata": {},
   "outputs": [
    {
     "data": {
      "text/plain": [
       "array([[[8, 8, 8, 8],\n",
       "        [8, 8, 8, 8],\n",
       "        [8, 8, 8, 8]],\n",
       "\n",
       "       [[8, 8, 8, 8],\n",
       "        [8, 8, 8, 8],\n",
       "        [8, 8, 8, 8]],\n",
       "\n",
       "       [[8, 8, 8, 8],\n",
       "        [8, 8, 8, 8],\n",
       "        [8, 8, 8, 8]]])"
      ]
     },
     "execution_count": 39,
     "metadata": {},
     "output_type": "execute_result"
    }
   ],
   "source": [
    "arr"
   ]
  },
  {
   "cell_type": "code",
   "execution_count": null,
   "id": "6e4a7992",
   "metadata": {},
   "outputs": [],
   "source": []
  },
  {
   "cell_type": "code",
   "execution_count": null,
   "id": "071f2a46",
   "metadata": {},
   "outputs": [],
   "source": [
    "# np.eye() -> Identity Matrix\n",
    "# remember that, for identity matrix and diagonal matrix, for the same value, the size of row and column should be same. so that's why we put here only 1 value for matrix shape.0\n",
    "# here, no. of rows= no. of columns"
   ]
  },
  {
   "cell_type": "code",
   "execution_count": 52,
   "id": "260b9774",
   "metadata": {},
   "outputs": [],
   "source": [
    "arr = np.eye(5)"
   ]
  },
  {
   "cell_type": "code",
   "execution_count": 53,
   "id": "e738a990",
   "metadata": {},
   "outputs": [
    {
     "data": {
      "text/plain": [
       "array([[1., 0., 0., 0., 0.],\n",
       "       [0., 1., 0., 0., 0.],\n",
       "       [0., 0., 1., 0., 0.],\n",
       "       [0., 0., 0., 1., 0.],\n",
       "       [0., 0., 0., 0., 1.]])"
      ]
     },
     "execution_count": 53,
     "metadata": {},
     "output_type": "execute_result"
    }
   ],
   "source": [
    "arr"
   ]
  },
  {
   "cell_type": "code",
   "execution_count": null,
   "id": "8058e399",
   "metadata": {},
   "outputs": [],
   "source": [
    "#np.diag()  <- diagonal matrix or square matrix \n",
    "for this matrix also number of columns= no. of rows\n",
    "here, you don't need to give shape of matrix. the matrix will take it from the directly as no. of values"
   ]
  },
  {
   "cell_type": "code",
   "execution_count": 66,
   "id": "ad90f662",
   "metadata": {},
   "outputs": [],
   "source": [
    "arr=np.diag([1,2,3])"
   ]
  },
  {
   "cell_type": "code",
   "execution_count": 67,
   "id": "4ac639f0",
   "metadata": {},
   "outputs": [
    {
     "data": {
      "text/plain": [
       "array([[1, 0, 0],\n",
       "       [0, 2, 0],\n",
       "       [0, 0, 3]])"
      ]
     },
     "execution_count": 67,
     "metadata": {},
     "output_type": "execute_result"
    }
   ],
   "source": [
    "arr"
   ]
  },
  {
   "cell_type": "code",
   "execution_count": null,
   "id": "953a4628",
   "metadata": {},
   "outputs": [],
   "source": []
  },
  {
   "cell_type": "code",
   "execution_count": 54,
   "id": "8e6f417a",
   "metadata": {},
   "outputs": [],
   "source": [
    "arr = np.diag([1,2,3,4,5,6,7])"
   ]
  },
  {
   "cell_type": "code",
   "execution_count": 55,
   "id": "e54d6514",
   "metadata": {},
   "outputs": [
    {
     "data": {
      "text/plain": [
       "array([[1, 0, 0, 0, 0, 0, 0],\n",
       "       [0, 2, 0, 0, 0, 0, 0],\n",
       "       [0, 0, 3, 0, 0, 0, 0],\n",
       "       [0, 0, 0, 4, 0, 0, 0],\n",
       "       [0, 0, 0, 0, 5, 0, 0],\n",
       "       [0, 0, 0, 0, 0, 6, 0],\n",
       "       [0, 0, 0, 0, 0, 0, 7]])"
      ]
     },
     "execution_count": 55,
     "metadata": {},
     "output_type": "execute_result"
    }
   ],
   "source": [
    "arr"
   ]
  },
  {
   "cell_type": "code",
   "execution_count": 56,
   "id": "4d856d09",
   "metadata": {},
   "outputs": [],
   "source": [
    "arr = np.diag([1,2,3,4,5,6,7,8,9,10])"
   ]
  },
  {
   "cell_type": "code",
   "execution_count": 57,
   "id": "dec3809d",
   "metadata": {},
   "outputs": [
    {
     "data": {
      "text/plain": [
       "array([[ 1,  0,  0,  0,  0,  0,  0,  0,  0,  0],\n",
       "       [ 0,  2,  0,  0,  0,  0,  0,  0,  0,  0],\n",
       "       [ 0,  0,  3,  0,  0,  0,  0,  0,  0,  0],\n",
       "       [ 0,  0,  0,  4,  0,  0,  0,  0,  0,  0],\n",
       "       [ 0,  0,  0,  0,  5,  0,  0,  0,  0,  0],\n",
       "       [ 0,  0,  0,  0,  0,  6,  0,  0,  0,  0],\n",
       "       [ 0,  0,  0,  0,  0,  0,  7,  0,  0,  0],\n",
       "       [ 0,  0,  0,  0,  0,  0,  0,  8,  0,  0],\n",
       "       [ 0,  0,  0,  0,  0,  0,  0,  0,  9,  0],\n",
       "       [ 0,  0,  0,  0,  0,  0,  0,  0,  0, 10]])"
      ]
     },
     "execution_count": 57,
     "metadata": {},
     "output_type": "execute_result"
    }
   ],
   "source": [
    "arr"
   ]
  },
  {
   "cell_type": "code",
   "execution_count": null,
   "id": "c301e23f",
   "metadata": {},
   "outputs": [],
   "source": []
  },
  {
   "cell_type": "code",
   "execution_count": null,
   "id": "5c34b767",
   "metadata": {},
   "outputs": [],
   "source": [
    "# np.linspace()\n",
    "Ex.  10,20,5    <- it means give me 5 elements in interval 10 to 20 in same 5 parts of interval  \n",
    "#here 10 and 20 both are also included"
   ]
  },
  {
   "cell_type": "code",
   "execution_count": 58,
   "id": "8e8bd444",
   "metadata": {},
   "outputs": [],
   "source": [
    "arr=np.linspace(10,20,5)"
   ]
  },
  {
   "cell_type": "code",
   "execution_count": 59,
   "id": "3d342ca7",
   "metadata": {},
   "outputs": [
    {
     "data": {
      "text/plain": [
       "array([10. , 12.5, 15. , 17.5, 20. ])"
      ]
     },
     "execution_count": 59,
     "metadata": {},
     "output_type": "execute_result"
    }
   ],
   "source": [
    "arr"
   ]
  },
  {
   "cell_type": "code",
   "execution_count": 62,
   "id": "247e4b95",
   "metadata": {},
   "outputs": [],
   "source": [
    "arr=np.linspace(0,10,10)"
   ]
  },
  {
   "cell_type": "code",
   "execution_count": 63,
   "id": "d231f764",
   "metadata": {},
   "outputs": [
    {
     "data": {
      "text/plain": [
       "array([ 0.        ,  1.11111111,  2.22222222,  3.33333333,  4.44444444,\n",
       "        5.55555556,  6.66666667,  7.77777778,  8.88888889, 10.        ])"
      ]
     },
     "execution_count": 63,
     "metadata": {},
     "output_type": "execute_result"
    }
   ],
   "source": [
    "arr"
   ]
  },
  {
   "cell_type": "code",
   "execution_count": 61,
   "id": "f4ac1a06",
   "metadata": {},
   "outputs": [],
   "source": [
    "arr=np.linspace(1,10,10)"
   ]
  },
  {
   "cell_type": "code",
   "execution_count": 62,
   "id": "afe18786",
   "metadata": {},
   "outputs": [
    {
     "data": {
      "text/plain": [
       "array([ 1.,  2.,  3.,  4.,  5.,  6.,  7.,  8.,  9., 10.])"
      ]
     },
     "execution_count": 62,
     "metadata": {},
     "output_type": "execute_result"
    }
   ],
   "source": [
    "arr"
   ]
  },
  {
   "cell_type": "code",
   "execution_count": null,
   "id": "a06566ed",
   "metadata": {},
   "outputs": [],
   "source": []
  },
  {
   "cell_type": "code",
   "execution_count": 3,
   "id": "5336396b",
   "metadata": {},
   "outputs": [],
   "source": [
    "#np.random()\n",
    "import numpy as np\n",
    "arr= np.random.rand(10)  #<- it will gives any 10 random values between 0 to 1 \n",
    "#or also you can write arr=np.random.random(10)"
   ]
  },
  {
   "cell_type": "code",
   "execution_count": 2,
   "id": "fa4cfc92",
   "metadata": {},
   "outputs": [
    {
     "data": {
      "text/plain": [
       "array([0.80321731, 0.19569054, 0.92259582, 0.13958379, 0.26331334,\n",
       "       0.1018081 , 0.54591423, 0.41231823, 0.59954373, 0.43218809])"
      ]
     },
     "execution_count": 2,
     "metadata": {},
     "output_type": "execute_result"
    }
   ],
   "source": [
    "arr"
   ]
  },
  {
   "cell_type": "code",
   "execution_count": 68,
   "id": "3aabbd9e",
   "metadata": {},
   "outputs": [],
   "source": [
    "#np.random()\n",
    "arr=np.random.randint(15,25, size=(2,3))  #<- it will print any random value between 15 to 25, in which 15 and 25 both are also included"
   ]
  },
  {
   "cell_type": "code",
   "execution_count": 69,
   "id": "531cd341",
   "metadata": {},
   "outputs": [
    {
     "data": {
      "text/plain": [
       "array([[15, 15, 20],\n",
       "       [24, 23, 24]])"
      ]
     },
     "execution_count": 69,
     "metadata": {},
     "output_type": "execute_result"
    }
   ],
   "source": [
    "arr"
   ]
  },
  {
   "cell_type": "code",
   "execution_count": null,
   "id": "181eaf58",
   "metadata": {},
   "outputs": [],
   "source": []
  },
  {
   "cell_type": "code",
   "execution_count": null,
   "id": "cf17e335",
   "metadata": {},
   "outputs": [],
   "source": [
    "# np.arange()\n",
    "arr=np.arange(start,stop,step)   #<- it is as same as range function in python\n",
    "# you can make only 1 dimension array by using arange function after that, you can change it in 2 dimension"
   ]
  },
  {
   "cell_type": "code",
   "execution_count": 75,
   "id": "66c4b34b",
   "metadata": {},
   "outputs": [],
   "source": [
    "arr=np.arange(0,5)"
   ]
  },
  {
   "cell_type": "code",
   "execution_count": 76,
   "id": "f4aa64eb",
   "metadata": {},
   "outputs": [
    {
     "data": {
      "text/plain": [
       "array([0, 1, 2, 3, 4])"
      ]
     },
     "execution_count": 76,
     "metadata": {},
     "output_type": "execute_result"
    }
   ],
   "source": [
    "arr"
   ]
  },
  {
   "cell_type": "code",
   "execution_count": 78,
   "id": "21539316",
   "metadata": {},
   "outputs": [],
   "source": [
    "arr = np.arange(1,12,2)"
   ]
  },
  {
   "cell_type": "code",
   "execution_count": 79,
   "id": "e4b1c689",
   "metadata": {},
   "outputs": [
    {
     "data": {
      "text/plain": [
       "array([ 1,  3,  5,  7,  9, 11])"
      ]
     },
     "execution_count": 79,
     "metadata": {},
     "output_type": "execute_result"
    }
   ],
   "source": [
    "arr"
   ]
  },
  {
   "cell_type": "code",
   "execution_count": 15,
   "id": "5d18bc81",
   "metadata": {},
   "outputs": [],
   "source": [
    "arr=np.arange(2,14)"
   ]
  },
  {
   "cell_type": "code",
   "execution_count": 89,
   "id": "3a2224ec",
   "metadata": {},
   "outputs": [
    {
     "data": {
      "text/plain": [
       "array([ 2,  3,  4,  5,  6,  7,  8,  9, 10, 11, 12, 13])"
      ]
     },
     "execution_count": 89,
     "metadata": {},
     "output_type": "execute_result"
    }
   ],
   "source": [
    "arr"
   ]
  },
  {
   "cell_type": "code",
   "execution_count": 16,
   "id": "6c5d7c72",
   "metadata": {},
   "outputs": [],
   "source": [
    "arr.shape=(4,3)"
   ]
  },
  {
   "cell_type": "code",
   "execution_count": 17,
   "id": "82a1269f",
   "metadata": {},
   "outputs": [
    {
     "data": {
      "text/plain": [
       "array([[ 2,  3,  4],\n",
       "       [ 5,  6,  7],\n",
       "       [ 8,  9, 10],\n",
       "       [11, 12, 13]])"
      ]
     },
     "execution_count": 17,
     "metadata": {},
     "output_type": "execute_result"
    }
   ],
   "source": [
    "arr"
   ]
  },
  {
   "cell_type": "code",
   "execution_count": 70,
   "id": "525605ba",
   "metadata": {},
   "outputs": [],
   "source": [
    "arr=np.arange(10,16).reshape(2,3) "
   ]
  },
  {
   "cell_type": "code",
   "execution_count": 71,
   "id": "2cf9ab98",
   "metadata": {},
   "outputs": [
    {
     "data": {
      "text/plain": [
       "array([[10, 11, 12],\n",
       "       [13, 14, 15]])"
      ]
     },
     "execution_count": 71,
     "metadata": {},
     "output_type": "execute_result"
    }
   ],
   "source": [
    "arr"
   ]
  },
  {
   "cell_type": "code",
   "execution_count": null,
   "id": "801e0344",
   "metadata": {},
   "outputs": [],
   "source": []
  },
  {
   "cell_type": "code",
   "execution_count": 73,
   "id": "b4b3b631",
   "metadata": {},
   "outputs": [],
   "source": [
    "# you can change the dimension of any array by using shape function but remember the new shape size will be as same as the old one\n",
    "arr.shape=(3,2)"
   ]
  },
  {
   "cell_type": "code",
   "execution_count": 74,
   "id": "824b506e",
   "metadata": {},
   "outputs": [
    {
     "data": {
      "text/plain": [
       "array([[10, 11],\n",
       "       [12, 13],\n",
       "       [14, 15]])"
      ]
     },
     "execution_count": 74,
     "metadata": {},
     "output_type": "execute_result"
    }
   ],
   "source": [
    "arr"
   ]
  },
  {
   "cell_type": "code",
   "execution_count": null,
   "id": "20593563",
   "metadata": {},
   "outputs": [],
   "source": []
  },
  {
   "cell_type": "markdown",
   "id": "7013a7a6",
   "metadata": {},
   "source": [
    "# U -> Update"
   ]
  },
  {
   "cell_type": "code",
   "execution_count": 76,
   "id": "2e541579",
   "metadata": {},
   "outputs": [],
   "source": [
    "arr1= np.array([1,2,3,4,5])\n",
    "arr2= np.array([[1,2,3,4],[5,6,7,8],[9,10,11,12]])"
   ]
  },
  {
   "cell_type": "code",
   "execution_count": 97,
   "id": "bea9fc4b",
   "metadata": {},
   "outputs": [
    {
     "data": {
      "text/plain": [
       "1"
      ]
     },
     "execution_count": 97,
     "metadata": {},
     "output_type": "execute_result"
    }
   ],
   "source": [
    "#Indexing\n",
    "#1D array\n",
    "arr1[0]"
   ]
  },
  {
   "cell_type": "code",
   "execution_count": 98,
   "id": "9b8bc94a",
   "metadata": {},
   "outputs": [
    {
     "data": {
      "text/plain": [
       "5"
      ]
     },
     "execution_count": 98,
     "metadata": {},
     "output_type": "execute_result"
    }
   ],
   "source": [
    "arr1[4]"
   ]
  },
  {
   "cell_type": "code",
   "execution_count": 99,
   "id": "26b35af8",
   "metadata": {},
   "outputs": [
    {
     "data": {
      "text/plain": [
       "5"
      ]
     },
     "execution_count": 99,
     "metadata": {},
     "output_type": "execute_result"
    }
   ],
   "source": [
    "arr1[-1]"
   ]
  },
  {
   "cell_type": "code",
   "execution_count": null,
   "id": "f26c72d1",
   "metadata": {},
   "outputs": [],
   "source": []
  },
  {
   "cell_type": "code",
   "execution_count": null,
   "id": "58de74e4",
   "metadata": {},
   "outputs": [],
   "source": [
    "#for 2D array"
   ]
  },
  {
   "cell_type": "code",
   "execution_count": 77,
   "id": "3ab6c225",
   "metadata": {},
   "outputs": [
    {
     "data": {
      "text/plain": [
       "array([[ 1,  2,  3,  4],\n",
       "       [ 5,  6,  7,  8],\n",
       "       [ 9, 10, 11, 12]])"
      ]
     },
     "execution_count": 77,
     "metadata": {},
     "output_type": "execute_result"
    }
   ],
   "source": [
    "arr2"
   ]
  },
  {
   "cell_type": "code",
   "execution_count": 84,
   "id": "ebabc884",
   "metadata": {},
   "outputs": [
    {
     "data": {
      "text/plain": [
       "5"
      ]
     },
     "execution_count": 84,
     "metadata": {},
     "output_type": "execute_result"
    }
   ],
   "source": [
    "arr2[(1,0)]"
   ]
  },
  {
   "cell_type": "code",
   "execution_count": 101,
   "id": "13b9f8b3",
   "metadata": {},
   "outputs": [
    {
     "data": {
      "text/plain": [
       "7"
      ]
     },
     "execution_count": 101,
     "metadata": {},
     "output_type": "execute_result"
    }
   ],
   "source": [
    "arr2[(1,2)]     # here, you have to write the place of matrix in (). you can't write it's place in []\n",
    "# and you have to surely write it in [] while indexing"
   ]
  },
  {
   "cell_type": "code",
   "execution_count": 85,
   "id": "81580ed6",
   "metadata": {},
   "outputs": [
    {
     "data": {
      "text/plain": [
       "12"
      ]
     },
     "execution_count": 85,
     "metadata": {},
     "output_type": "execute_result"
    }
   ],
   "source": [
    "arr2[(2,3)]"
   ]
  },
  {
   "cell_type": "code",
   "execution_count": 86,
   "id": "d2110002",
   "metadata": {},
   "outputs": [],
   "source": [
    "arr2[(2,3)] = 28  #<- it will change the value in the matrix"
   ]
  },
  {
   "cell_type": "code",
   "execution_count": 88,
   "id": "8945defc",
   "metadata": {},
   "outputs": [
    {
     "data": {
      "text/plain": [
       "array([[ 1,  2,  3,  4],\n",
       "       [ 5,  6,  7,  8],\n",
       "       [ 9, 10, 11, 28]])"
      ]
     },
     "execution_count": 88,
     "metadata": {},
     "output_type": "execute_result"
    }
   ],
   "source": [
    "arr2"
   ]
  },
  {
   "cell_type": "code",
   "execution_count": null,
   "id": "6fe277ef",
   "metadata": {},
   "outputs": [],
   "source": []
  },
  {
   "cell_type": "code",
   "execution_count": null,
   "id": "f44a68cc",
   "metadata": {},
   "outputs": [],
   "source": []
  },
  {
   "cell_type": "code",
   "execution_count": null,
   "id": "a2e8e689",
   "metadata": {},
   "outputs": [],
   "source": [
    "# for 3D matrix"
   ]
  },
  {
   "cell_type": "code",
   "execution_count": 109,
   "id": "3dcf96be",
   "metadata": {},
   "outputs": [],
   "source": [
    "arr3= np.array([[[1,2,3,4],\n",
    "                [5,6,7,8]],\n",
    "               [[9,10,11,12],\n",
    "               [13,14,15,16]]])"
   ]
  },
  {
   "cell_type": "code",
   "execution_count": 110,
   "id": "559f5271",
   "metadata": {},
   "outputs": [
    {
     "data": {
      "text/plain": [
       "6"
      ]
     },
     "execution_count": 110,
     "metadata": {},
     "output_type": "execute_result"
    }
   ],
   "source": [
    "arr3[(0,1,1)]"
   ]
  },
  {
   "cell_type": "code",
   "execution_count": 116,
   "id": "ef422c67",
   "metadata": {},
   "outputs": [],
   "source": [
    "arr3[(0,1,1)] = 23"
   ]
  },
  {
   "cell_type": "code",
   "execution_count": 117,
   "id": "05ec9ced",
   "metadata": {},
   "outputs": [
    {
     "data": {
      "text/plain": [
       "array([[[ 1,  2,  3,  4],\n",
       "        [ 5, 23,  7,  8]],\n",
       "\n",
       "       [[ 9, 10, 11, 12],\n",
       "        [13, 14, 15, 16]]])"
      ]
     },
     "execution_count": 117,
     "metadata": {},
     "output_type": "execute_result"
    }
   ],
   "source": [
    "arr3"
   ]
  },
  {
   "cell_type": "code",
   "execution_count": null,
   "id": "5c4bfc73",
   "metadata": {},
   "outputs": [],
   "source": []
  },
  {
   "cell_type": "code",
   "execution_count": null,
   "id": "fd0aa3d4",
   "metadata": {},
   "outputs": [],
   "source": [
    "# Slicing"
   ]
  },
  {
   "cell_type": "code",
   "execution_count": 126,
   "id": "b491517c",
   "metadata": {},
   "outputs": [
    {
     "data": {
      "text/plain": [
       "array([[ 1,  2,  3,  4],\n",
       "       [ 5,  6,  7,  8],\n",
       "       [ 9, 10, 11, 28]])"
      ]
     },
     "execution_count": 126,
     "metadata": {},
     "output_type": "execute_result"
    }
   ],
   "source": [
    "arr2"
   ]
  },
  {
   "cell_type": "code",
   "execution_count": 89,
   "id": "5e623c0a",
   "metadata": {},
   "outputs": [
    {
     "data": {
      "text/plain": [
       "(3, 2)"
      ]
     },
     "execution_count": 89,
     "metadata": {},
     "output_type": "execute_result"
    }
   ],
   "source": [
    "arr.shape"
   ]
  },
  {
   "cell_type": "code",
   "execution_count": 130,
   "id": "67ceeeec",
   "metadata": {},
   "outputs": [
    {
     "data": {
      "text/plain": [
       "array([[ 5,  6,  7,  8],\n",
       "       [ 9, 10, 11, 28]])"
      ]
     },
     "execution_count": 130,
     "metadata": {},
     "output_type": "execute_result"
    }
   ],
   "source": [
    "arr2[1:]   #it gives value from row 2 to 3 which index is 1 and 2"
   ]
  },
  {
   "cell_type": "code",
   "execution_count": 131,
   "id": "12b5a5be",
   "metadata": {},
   "outputs": [
    {
     "data": {
      "text/plain": [
       "array([[5, 6, 7, 8]])"
      ]
     },
     "execution_count": 131,
     "metadata": {},
     "output_type": "execute_result"
    }
   ],
   "source": [
    "arr2[1:2]   # it gives only value of row 2 or that row which index is 1"
   ]
  },
  {
   "cell_type": "code",
   "execution_count": 141,
   "id": "44fb8529",
   "metadata": {},
   "outputs": [
    {
     "data": {
      "text/plain": [
       "array([5, 6])"
      ]
     },
     "execution_count": 141,
     "metadata": {},
     "output_type": "execute_result"
    }
   ],
   "source": [
    "arr2[1,0:2]  #this will print the 2nd row's 1st and 2nd column value"
   ]
  },
  {
   "cell_type": "code",
   "execution_count": null,
   "id": "6f2041ea",
   "metadata": {},
   "outputs": [],
   "source": []
  },
  {
   "cell_type": "code",
   "execution_count": null,
   "id": "feff22ca",
   "metadata": {},
   "outputs": [],
   "source": []
  },
  {
   "cell_type": "code",
   "execution_count": 132,
   "id": "e2173346",
   "metadata": {},
   "outputs": [
    {
     "data": {
      "text/plain": [
       "array([[[ 1,  2,  3,  4],\n",
       "        [ 5, 23,  7,  8]],\n",
       "\n",
       "       [[ 9, 10, 11, 12],\n",
       "        [13, 14, 15, 16]]])"
      ]
     },
     "execution_count": 132,
     "metadata": {},
     "output_type": "execute_result"
    }
   ],
   "source": [
    "arr3"
   ]
  },
  {
   "cell_type": "code",
   "execution_count": 134,
   "id": "c2f774b1",
   "metadata": {},
   "outputs": [
    {
     "data": {
      "text/plain": [
       "array([[ 5, 23,  7,  8]])"
      ]
     },
     "execution_count": 134,
     "metadata": {},
     "output_type": "execute_result"
    }
   ],
   "source": [
    "arr3[0,1:]"
   ]
  },
  {
   "cell_type": "code",
   "execution_count": 139,
   "id": "6e28a51c",
   "metadata": {},
   "outputs": [
    {
     "data": {
      "text/plain": [
       "array([[ 5, 23,  7,  8]])"
      ]
     },
     "execution_count": 139,
     "metadata": {},
     "output_type": "execute_result"
    }
   ],
   "source": [
    "arr3[0,1:2]  #<- you can write "
   ]
  },
  {
   "cell_type": "code",
   "execution_count": 142,
   "id": "ca1206db",
   "metadata": {},
   "outputs": [
    {
     "data": {
      "text/plain": [
       "array([ 5, 23])"
      ]
     },
     "execution_count": 142,
     "metadata": {},
     "output_type": "execute_result"
    }
   ],
   "source": [
    "arr3[0,1,0:2]  #<- It will print the value from 2nd row's 5 to 23"
   ]
  },
  {
   "cell_type": "code",
   "execution_count": 143,
   "id": "024a74ff",
   "metadata": {},
   "outputs": [
    {
     "data": {
      "text/plain": [
       "array([ 5, 23])"
      ]
     },
     "execution_count": 143,
     "metadata": {},
     "output_type": "execute_result"
    }
   ],
   "source": [
    "#Or\n",
    "arr3[0,1][0:2]"
   ]
  },
  {
   "cell_type": "code",
   "execution_count": 90,
   "id": "4cb3d9e1",
   "metadata": {},
   "outputs": [
    {
     "data": {
      "text/plain": [
       "array([[ 1,  2,  3,  4],\n",
       "       [ 5,  6,  7,  8],\n",
       "       [ 9, 10, 11, 28]])"
      ]
     },
     "execution_count": 90,
     "metadata": {},
     "output_type": "execute_result"
    }
   ],
   "source": [
    "arr2"
   ]
  },
  {
   "cell_type": "code",
   "execution_count": 91,
   "id": "047f287a",
   "metadata": {},
   "outputs": [
    {
     "data": {
      "text/plain": [
       "array([5, 6, 7, 8])"
      ]
     },
     "execution_count": 91,
     "metadata": {},
     "output_type": "execute_result"
    }
   ],
   "source": [
    "arr2[1]"
   ]
  },
  {
   "cell_type": "code",
   "execution_count": 92,
   "id": "3de79005",
   "metadata": {},
   "outputs": [
    {
     "data": {
      "text/plain": [
       "7"
      ]
     },
     "execution_count": 92,
     "metadata": {},
     "output_type": "execute_result"
    }
   ],
   "source": [
    "arr2[(1,2)]"
   ]
  },
  {
   "cell_type": "code",
   "execution_count": 93,
   "id": "30f3ae10",
   "metadata": {},
   "outputs": [
    {
     "data": {
      "text/plain": [
       "7"
      ]
     },
     "execution_count": 93,
     "metadata": {},
     "output_type": "execute_result"
    }
   ],
   "source": [
    "arr2[1][2]"
   ]
  },
  {
   "cell_type": "code",
   "execution_count": null,
   "id": "026d58d8",
   "metadata": {},
   "outputs": [],
   "source": []
  },
  {
   "cell_type": "code",
   "execution_count": 144,
   "id": "544eba06",
   "metadata": {},
   "outputs": [],
   "source": [
    "#Quiz\n",
    "\n",
    "#Create a matrix 3x4, 10 to 500 + elements should be evenly distributed\n",
    "\n",
    "arr=np.linspace(10,500,12)"
   ]
  },
  {
   "cell_type": "code",
   "execution_count": 145,
   "id": "9dd30831",
   "metadata": {},
   "outputs": [
    {
     "data": {
      "text/plain": [
       "array([ 10.        ,  54.54545455,  99.09090909, 143.63636364,\n",
       "       188.18181818, 232.72727273, 277.27272727, 321.81818182,\n",
       "       366.36363636, 410.90909091, 455.45454545, 500.        ])"
      ]
     },
     "execution_count": 145,
     "metadata": {},
     "output_type": "execute_result"
    }
   ],
   "source": [
    "arr"
   ]
  },
  {
   "cell_type": "code",
   "execution_count": null,
   "id": "08242c1f",
   "metadata": {},
   "outputs": [],
   "source": [
    "#you can only change the dimension of array when the elements can easily set in the matrix in which dimension you change"
   ]
  },
  {
   "cell_type": "code",
   "execution_count": 147,
   "id": "9203293b",
   "metadata": {},
   "outputs": [],
   "source": [
    "arr.shape = (3,4)   #or you can write   arr.reshape(3,4)"
   ]
  },
  {
   "cell_type": "code",
   "execution_count": 148,
   "id": "2d99ccfa",
   "metadata": {},
   "outputs": [
    {
     "data": {
      "text/plain": [
       "array([[ 10.        ,  54.54545455,  99.09090909, 143.63636364],\n",
       "       [188.18181818, 232.72727273, 277.27272727, 321.81818182],\n",
       "       [366.36363636, 410.90909091, 455.45454545, 500.        ]])"
      ]
     },
     "execution_count": 148,
     "metadata": {},
     "output_type": "execute_result"
    }
   ],
   "source": [
    "arr"
   ]
  },
  {
   "cell_type": "code",
   "execution_count": null,
   "id": "0dc3bfc9",
   "metadata": {},
   "outputs": [],
   "source": []
  },
  {
   "cell_type": "code",
   "execution_count": 149,
   "id": "3daede74",
   "metadata": {},
   "outputs": [
    {
     "data": {
      "text/plain": [
       "array([[ 10.        ,  54.54545455,  99.09090909],\n",
       "       [143.63636364, 188.18181818, 232.72727273],\n",
       "       [277.27272727, 321.81818182, 366.36363636],\n",
       "       [410.90909091, 455.45454545, 500.        ]])"
      ]
     },
     "execution_count": 149,
     "metadata": {},
     "output_type": "execute_result"
    }
   ],
   "source": [
    "arr.reshape(4,3)   # This can be also used for reshape the array"
   ]
  },
  {
   "cell_type": "code",
   "execution_count": 150,
   "id": "e5d4c749",
   "metadata": {},
   "outputs": [
    {
     "data": {
      "text/plain": [
       "array([[ 10.        ],\n",
       "       [ 54.54545455],\n",
       "       [ 99.09090909],\n",
       "       [143.63636364],\n",
       "       [188.18181818],\n",
       "       [232.72727273],\n",
       "       [277.27272727],\n",
       "       [321.81818182],\n",
       "       [366.36363636],\n",
       "       [410.90909091],\n",
       "       [455.45454545],\n",
       "       [500.        ]])"
      ]
     },
     "execution_count": 150,
     "metadata": {},
     "output_type": "execute_result"
    }
   ],
   "source": [
    "arr.reshape(12,1)   #<- it will print 2D array"
   ]
  },
  {
   "cell_type": "code",
   "execution_count": 151,
   "id": "be5c8ae0",
   "metadata": {},
   "outputs": [
    {
     "data": {
      "text/plain": [
       "array([ 10.        ,  54.54545455,  99.09090909, 143.63636364,\n",
       "       188.18181818, 232.72727273, 277.27272727, 321.81818182,\n",
       "       366.36363636, 410.90909091, 455.45454545, 500.        ])"
      ]
     },
     "execution_count": 151,
     "metadata": {},
     "output_type": "execute_result"
    }
   ],
   "source": [
    "arr.reshape(12)    #<-- it will print 1D array"
   ]
  },
  {
   "cell_type": "code",
   "execution_count": 155,
   "id": "9674b977",
   "metadata": {},
   "outputs": [
    {
     "data": {
      "text/plain": [
       "array([[[ 10.        ,  54.54545455],\n",
       "        [ 99.09090909, 143.63636364],\n",
       "        [188.18181818, 232.72727273]],\n",
       "\n",
       "       [[277.27272727, 321.81818182],\n",
       "        [366.36363636, 410.90909091],\n",
       "        [455.45454545, 500.        ]]])"
      ]
     },
     "execution_count": 155,
     "metadata": {},
     "output_type": "execute_result"
    }
   ],
   "source": [
    "arr.reshape(2,3,2)"
   ]
  },
  {
   "cell_type": "code",
   "execution_count": 156,
   "id": "0f91ce36",
   "metadata": {},
   "outputs": [
    {
     "data": {
      "text/plain": [
       "array([[[ 10.        ,  54.54545455],\n",
       "        [ 99.09090909, 143.63636364]],\n",
       "\n",
       "       [[188.18181818, 232.72727273],\n",
       "        [277.27272727, 321.81818182]],\n",
       "\n",
       "       [[366.36363636, 410.90909091],\n",
       "        [455.45454545, 500.        ]]])"
      ]
     },
     "execution_count": 156,
     "metadata": {},
     "output_type": "execute_result"
    }
   ],
   "source": [
    "arr.reshape(3,2,2)"
   ]
  },
  {
   "cell_type": "code",
   "execution_count": null,
   "id": "3272f362",
   "metadata": {},
   "outputs": [],
   "source": []
  },
  {
   "cell_type": "code",
   "execution_count": 157,
   "id": "aa057bcd",
   "metadata": {},
   "outputs": [],
   "source": [
    "# create a 7x9 matrix where all the elements are random\n",
    "\n",
    "arr=np.random.rand(63).reshape(7,9)"
   ]
  },
  {
   "cell_type": "code",
   "execution_count": 158,
   "id": "1b3fa1bc",
   "metadata": {},
   "outputs": [
    {
     "data": {
      "text/plain": [
       "array([[0.61299601, 0.40632528, 0.39983414, 0.09263949, 0.16218734,\n",
       "        0.66632405, 0.85996024, 0.62948191, 0.08652855],\n",
       "       [0.3102128 , 0.62247023, 0.27952978, 0.21143223, 0.71350417,\n",
       "        0.30198887, 0.517418  , 0.80127977, 0.22737356],\n",
       "       [0.25021631, 0.08791443, 0.11940883, 0.53556311, 0.11933127,\n",
       "        0.21511323, 0.38602198, 0.26377055, 0.81278608],\n",
       "       [0.59708303, 0.99969839, 0.22751716, 0.37476856, 0.58496255,\n",
       "        0.10861181, 0.27306837, 0.0062808 , 0.25084748],\n",
       "       [0.33399234, 0.09630759, 0.64524992, 0.89230582, 0.95771504,\n",
       "        0.23025997, 0.0339352 , 0.19559654, 0.84483493],\n",
       "       [0.29311876, 0.40867112, 0.71556163, 0.7441805 , 0.4432545 ,\n",
       "        0.55948409, 0.59722309, 0.53769852, 0.66636985],\n",
       "       [0.66249669, 0.29188409, 0.21217924, 0.97110416, 0.80021184,\n",
       "        0.3494277 , 0.11184872, 0.87946059, 0.65132281]])"
      ]
     },
     "execution_count": 158,
     "metadata": {},
     "output_type": "execute_result"
    }
   ],
   "source": [
    "arr"
   ]
  },
  {
   "cell_type": "code",
   "execution_count": null,
   "id": "894bfaac",
   "metadata": {},
   "outputs": [],
   "source": []
  },
  {
   "cell_type": "code",
   "execution_count": 94,
   "id": "db2b766d",
   "metadata": {},
   "outputs": [
    {
     "data": {
      "text/plain": [
       "array([[ 1,  2,  3,  4],\n",
       "       [ 5,  6,  7,  8],\n",
       "       [ 9, 10, 11, 28]])"
      ]
     },
     "execution_count": 94,
     "metadata": {},
     "output_type": "execute_result"
    }
   ],
   "source": [
    "arr2"
   ]
  },
  {
   "cell_type": "code",
   "execution_count": 95,
   "id": "bbe553b0",
   "metadata": {},
   "outputs": [],
   "source": [
    "arr4 = np.array([15,16,17,18])"
   ]
  },
  {
   "cell_type": "code",
   "execution_count": 96,
   "id": "baf2b8fc",
   "metadata": {},
   "outputs": [
    {
     "data": {
      "text/plain": [
       "array([15, 16, 17, 18])"
      ]
     },
     "execution_count": 96,
     "metadata": {},
     "output_type": "execute_result"
    }
   ],
   "source": [
    "arr4"
   ]
  },
  {
   "cell_type": "code",
   "execution_count": 97,
   "id": "6d8ab348",
   "metadata": {},
   "outputs": [
    {
     "ename": "AttributeError",
     "evalue": "'numpy.ndarray' object has no attribute 'append'",
     "output_type": "error",
     "traceback": [
      "\u001b[1;31m---------------------------------------------------------------------------\u001b[0m",
      "\u001b[1;31mAttributeError\u001b[0m                            Traceback (most recent call last)",
      "\u001b[1;32m<ipython-input-97-46da361142f5>\u001b[0m in \u001b[0;36m<module>\u001b[1;34m\u001b[0m\n\u001b[0;32m      1\u001b[0m \u001b[1;31m# this following will give an error\u001b[0m\u001b[1;33m\u001b[0m\u001b[1;33m\u001b[0m\u001b[1;33m\u001b[0m\u001b[0m\n\u001b[1;32m----> 2\u001b[1;33m \u001b[0marr2\u001b[0m\u001b[1;33m.\u001b[0m\u001b[0mappend\u001b[0m\u001b[1;33m(\u001b[0m\u001b[0marr4\u001b[0m\u001b[1;33m)\u001b[0m\u001b[1;33m\u001b[0m\u001b[1;33m\u001b[0m\u001b[0m\n\u001b[0m",
      "\u001b[1;31mAttributeError\u001b[0m: 'numpy.ndarray' object has no attribute 'append'"
     ]
    }
   ],
   "source": [
    "# this following will give an error\n",
    "arr2.append(arr4)"
   ]
  },
  {
   "cell_type": "code",
   "execution_count": 98,
   "id": "9947a4e9",
   "metadata": {},
   "outputs": [
    {
     "data": {
      "text/plain": [
       "array([ 1,  2,  3,  4,  5,  6,  7,  8,  9, 10, 11, 28, 15, 16, 17, 18])"
      ]
     },
     "execution_count": 98,
     "metadata": {},
     "output_type": "execute_result"
    }
   ],
   "source": [
    "# this following will give an error\n",
    "# arr2.extend(arr3)\n",
    "# arr2.append(arr4)\n",
    "np.append(arr2,arr4)"
   ]
  },
  {
   "cell_type": "code",
   "execution_count": 168,
   "id": "9827fd31",
   "metadata": {},
   "outputs": [
    {
     "data": {
      "text/plain": [
       "array([ 1,  2,  3,  4,  5,  6,  7,  8,  9, 10, 11, 28, 15, 16, 17, 18])"
      ]
     },
     "execution_count": 168,
     "metadata": {},
     "output_type": "execute_result"
    }
   ],
   "source": [
    "np.append([arr2],[arr4])"
   ]
  },
  {
   "cell_type": "code",
   "execution_count": 99,
   "id": "924109f9",
   "metadata": {},
   "outputs": [
    {
     "data": {
      "text/plain": [
       "array([ 1,  2,  3,  4,  5,  6,  7,  8,  9, 10, 11, 15, 16, 17, 18, 28])"
      ]
     },
     "execution_count": 99,
     "metadata": {},
     "output_type": "execute_result"
    }
   ],
   "source": [
    "np.sort(np.append(arr2,arr4))"
   ]
  },
  {
   "cell_type": "code",
   "execution_count": null,
   "id": "d43a71b7",
   "metadata": {},
   "outputs": [],
   "source": []
  },
  {
   "cell_type": "code",
   "execution_count": null,
   "id": "ffb0c06b",
   "metadata": {},
   "outputs": [],
   "source": []
  },
  {
   "cell_type": "code",
   "execution_count": 100,
   "id": "584475f1",
   "metadata": {},
   "outputs": [],
   "source": [
    "arrop= np.array([[1,2,3,4],[5,6,7,8],[9,10,11,12]])\n",
    "arrop1= np.array([[1,2,3,4],[5,6,7,8],[9,10,11,12]])"
   ]
  },
  {
   "cell_type": "code",
   "execution_count": 101,
   "id": "62ce726d",
   "metadata": {},
   "outputs": [
    {
     "data": {
      "text/plain": [
       "array([[ 2,  4,  6,  8],\n",
       "       [10, 12, 14, 16],\n",
       "       [18, 20, 22, 24]])"
      ]
     },
     "execution_count": 101,
     "metadata": {},
     "output_type": "execute_result"
    }
   ],
   "source": [
    "np.add(arrop,arrop1)"
   ]
  },
  {
   "cell_type": "code",
   "execution_count": null,
   "id": "9392c7c9",
   "metadata": {},
   "outputs": [],
   "source": []
  },
  {
   "cell_type": "code",
   "execution_count": 102,
   "id": "d134a023",
   "metadata": {},
   "outputs": [
    {
     "data": {
      "text/plain": [
       "array([[ 2,  4,  6,  8],\n",
       "       [10, 12, 14, 16],\n",
       "       [18, 20, 22, 24]])"
      ]
     },
     "execution_count": 102,
     "metadata": {},
     "output_type": "execute_result"
    }
   ],
   "source": [
    "arrop + arrop1  #<- this will do the sum of an array"
   ]
  },
  {
   "cell_type": "code",
   "execution_count": 174,
   "id": "7c85356f",
   "metadata": {},
   "outputs": [
    {
     "data": {
      "text/plain": [
       "array([[11, 12, 13, 14],\n",
       "       [15, 16, 17, 18],\n",
       "       [19, 20, 21, 22]])"
      ]
     },
     "execution_count": 174,
     "metadata": {},
     "output_type": "execute_result"
    }
   ],
   "source": [
    "arrop1 + 10 # it will add 10 in every m=element of matrix"
   ]
  },
  {
   "cell_type": "code",
   "execution_count": 175,
   "id": "51acba5b",
   "metadata": {},
   "outputs": [
    {
     "data": {
      "text/plain": [
       "array([[0.1, 0.2, 0.3, 0.4],\n",
       "       [0.5, 0.6, 0.7, 0.8],\n",
       "       [0.9, 1. , 1.1, 1.2]])"
      ]
     },
     "execution_count": 175,
     "metadata": {},
     "output_type": "execute_result"
    }
   ],
   "source": [
    "arrop1 / 10   "
   ]
  },
  {
   "cell_type": "code",
   "execution_count": 176,
   "id": "62514679",
   "metadata": {},
   "outputs": [
    {
     "data": {
      "text/plain": [
       "array([[ 0,  1,  2,  3],\n",
       "       [ 4,  5,  6,  7],\n",
       "       [ 8,  9, 10, 11]])"
      ]
     },
     "execution_count": 176,
     "metadata": {},
     "output_type": "execute_result"
    }
   ],
   "source": [
    "arrop - 1 "
   ]
  },
  {
   "cell_type": "code",
   "execution_count": 177,
   "id": "8e2894c7",
   "metadata": {},
   "outputs": [
    {
     "data": {
      "text/plain": [
       "array([[ 2,  4,  6,  8],\n",
       "       [10, 12, 14, 16],\n",
       "       [18, 20, 22, 24]])"
      ]
     },
     "execution_count": 177,
     "metadata": {},
     "output_type": "execute_result"
    }
   ],
   "source": [
    "arrop * 2"
   ]
  },
  {
   "cell_type": "code",
   "execution_count": 180,
   "id": "408b9ecc",
   "metadata": {},
   "outputs": [
    {
     "ename": "TypeError",
     "evalue": "unsupported operand type(s) for /: 'list' and 'int'",
     "output_type": "error",
     "traceback": [
      "\u001b[1;31m---------------------------------------------------------------------------\u001b[0m",
      "\u001b[1;31mTypeError\u001b[0m                                 Traceback (most recent call last)",
      "\u001b[1;32m<ipython-input-180-86c2c9d62735>\u001b[0m in \u001b[0;36m<module>\u001b[1;34m\u001b[0m\n\u001b[0;32m      1\u001b[0m \u001b[0mlis\u001b[0m\u001b[1;33m=\u001b[0m\u001b[1;33m[\u001b[0m\u001b[1;36m1\u001b[0m\u001b[1;33m,\u001b[0m\u001b[1;36m2\u001b[0m\u001b[1;33m,\u001b[0m\u001b[1;36m3\u001b[0m\u001b[1;33m]\u001b[0m\u001b[1;33m\u001b[0m\u001b[1;33m\u001b[0m\u001b[0m\n\u001b[1;32m----> 2\u001b[1;33m \u001b[0mlis\u001b[0m\u001b[1;33m/\u001b[0m\u001b[1;36m2\u001b[0m\u001b[1;33m\u001b[0m\u001b[1;33m\u001b[0m\u001b[0m\n\u001b[0m",
      "\u001b[1;31mTypeError\u001b[0m: unsupported operand type(s) for /: 'list' and 'int'"
     ]
    }
   ],
   "source": [
    "lis=[1,2,3]\n",
    "lis + 2     # you can't do addition,subtraction etc. in list but in numpy, we can do these type of things\n",
    "lis/2"
   ]
  },
  {
   "cell_type": "code",
   "execution_count": 181,
   "id": "f34f359c",
   "metadata": {},
   "outputs": [
    {
     "data": {
      "text/plain": [
       "array([[  1,   4,   9,  16],\n",
       "       [ 25,  36,  49,  64],\n",
       "       [ 81, 100, 121, 144]])"
      ]
     },
     "execution_count": 181,
     "metadata": {},
     "output_type": "execute_result"
    }
   ],
   "source": [
    "arrop*arrop1   # this will multiply each ele. of arrop with each element of arrop1"
   ]
  },
  {
   "cell_type": "code",
   "execution_count": null,
   "id": "582bb3d7",
   "metadata": {},
   "outputs": [],
   "source": []
  },
  {
   "cell_type": "code",
   "execution_count": null,
   "id": "e1496000",
   "metadata": {},
   "outputs": [],
   "source": []
  },
  {
   "cell_type": "code",
   "execution_count": null,
   "id": "6d93d909",
   "metadata": {},
   "outputs": [],
   "source": []
  },
  {
   "cell_type": "code",
   "execution_count": null,
   "id": "0f3fbbde",
   "metadata": {},
   "outputs": [],
   "source": []
  },
  {
   "cell_type": "code",
   "execution_count": null,
   "id": "d41598f7",
   "metadata": {},
   "outputs": [],
   "source": []
  },
  {
   "cell_type": "code",
   "execution_count": null,
   "id": "e7b37211",
   "metadata": {},
   "outputs": [],
   "source": []
  },
  {
   "cell_type": "code",
   "execution_count": null,
   "id": "444bf5fa",
   "metadata": {},
   "outputs": [],
   "source": []
  },
  {
   "cell_type": "code",
   "execution_count": null,
   "id": "9f8bcbdd",
   "metadata": {},
   "outputs": [],
   "source": []
  },
  {
   "cell_type": "code",
   "execution_count": 3,
   "id": "ae694b32",
   "metadata": {},
   "outputs": [
    {
     "name": "stdout",
     "output_type": "stream",
     "text": [
      "2 3\n",
      "[1 2 3 4 5 6]\n",
      "[[1 2 3]\n",
      " [4 5 6]]\n"
     ]
    }
   ],
   "source": [
    "import numpy as np\n",
    "x,y=input().split()\n",
    "arr=np.arange(1,(int(x)*int(y))+1)  \n",
    "print(arr.reshape(int(x),int(y)))"
   ]
  },
  {
   "cell_type": "code",
   "execution_count": null,
   "id": "d6a9f8a0",
   "metadata": {},
   "outputs": [],
   "source": []
  },
  {
   "cell_type": "code",
   "execution_count": null,
   "id": "b7b247cc",
   "metadata": {},
   "outputs": [],
   "source": []
  },
  {
   "cell_type": "code",
   "execution_count": null,
   "id": "d7399172",
   "metadata": {},
   "outputs": [],
   "source": []
  },
  {
   "cell_type": "code",
   "execution_count": null,
   "id": "79c6d488",
   "metadata": {},
   "outputs": [],
   "source": []
  },
  {
   "cell_type": "code",
   "execution_count": null,
   "id": "4765afcc",
   "metadata": {},
   "outputs": [],
   "source": []
  },
  {
   "cell_type": "code",
   "execution_count": null,
   "id": "ed61331f",
   "metadata": {},
   "outputs": [],
   "source": []
  },
  {
   "cell_type": "code",
   "execution_count": null,
   "id": "4815d5a3",
   "metadata": {},
   "outputs": [],
   "source": []
  },
  {
   "cell_type": "code",
   "execution_count": 63,
   "id": "ab391616",
   "metadata": {},
   "outputs": [
    {
     "data": {
      "application/javascript": [
       "IPython.notebook.set_autosave_interval(120000)"
      ]
     },
     "metadata": {},
     "output_type": "display_data"
    },
    {
     "name": "stdout",
     "output_type": "stream",
     "text": [
      "Autosaving every 120 seconds\n"
     ]
    }
   ],
   "source": [
    "%autosave 120"
   ]
  }
 ],
 "metadata": {
  "kernelspec": {
   "display_name": "Python 3",
   "language": "python",
   "name": "python3"
  },
  "language_info": {
   "codemirror_mode": {
    "name": "ipython",
    "version": 3
   },
   "file_extension": ".py",
   "mimetype": "text/x-python",
   "name": "python",
   "nbconvert_exporter": "python",
   "pygments_lexer": "ipython3",
   "version": "3.8.8"
  }
 },
 "nbformat": 4,
 "nbformat_minor": 5
}
